{
  "nbformat": 4,
  "nbformat_minor": 0,
  "metadata": {
    "colab": {
      "provenance": [],
      "toc_visible": true,
      "collapsed_sections": [
        "z4exsw5yyBJg"
      ],
      "include_colab_link": true
    },
    "kernelspec": {
      "name": "python3",
      "display_name": "Python 3"
    },
    "language_info": {
      "name": "python"
    },
    "gpuClass": "premium",
    "widgets": {
      "application/vnd.jupyter.widget-state+json": {
        "ec610a7a3f684eaf9e1270e66b8af2d0": {
          "model_module": "@jupyter-widgets/controls",
          "model_name": "HBoxModel",
          "model_module_version": "1.5.0",
          "state": {
            "_dom_classes": [],
            "_model_module": "@jupyter-widgets/controls",
            "_model_module_version": "1.5.0",
            "_model_name": "HBoxModel",
            "_view_count": null,
            "_view_module": "@jupyter-widgets/controls",
            "_view_module_version": "1.5.0",
            "_view_name": "HBoxView",
            "box_style": "",
            "children": [
              "IPY_MODEL_48c664ec96944478af01f1059c3e1c63",
              "IPY_MODEL_fd0216a6ae234afaa1af73cdbae2b657",
              "IPY_MODEL_694d7362ceb5440287d628d023ff7508"
            ],
            "layout": "IPY_MODEL_54b51ef7ed4d4830aeee7bf77fd30e81"
          }
        },
        "48c664ec96944478af01f1059c3e1c63": {
          "model_module": "@jupyter-widgets/controls",
          "model_name": "HTMLModel",
          "model_module_version": "1.5.0",
          "state": {
            "_dom_classes": [],
            "_model_module": "@jupyter-widgets/controls",
            "_model_module_version": "1.5.0",
            "_model_name": "HTMLModel",
            "_view_count": null,
            "_view_module": "@jupyter-widgets/controls",
            "_view_module_version": "1.5.0",
            "_view_name": "HTMLView",
            "description": "",
            "description_tooltip": null,
            "layout": "IPY_MODEL_dfc2460dedc14c358854061e7084329c",
            "placeholder": "​",
            "style": "IPY_MODEL_4abb55c2d2b846acbd9a669ddaa9d47a",
            "value": "Downloading (…)okenizer_config.json: 100%"
          }
        },
        "fd0216a6ae234afaa1af73cdbae2b657": {
          "model_module": "@jupyter-widgets/controls",
          "model_name": "FloatProgressModel",
          "model_module_version": "1.5.0",
          "state": {
            "_dom_classes": [],
            "_model_module": "@jupyter-widgets/controls",
            "_model_module_version": "1.5.0",
            "_model_name": "FloatProgressModel",
            "_view_count": null,
            "_view_module": "@jupyter-widgets/controls",
            "_view_module_version": "1.5.0",
            "_view_name": "ProgressView",
            "bar_style": "success",
            "description": "",
            "description_tooltip": null,
            "layout": "IPY_MODEL_99800ca07ea447119adc92f232635614",
            "max": 252,
            "min": 0,
            "orientation": "horizontal",
            "style": "IPY_MODEL_43bd38026ed240a9ac344aff00602d42",
            "value": 252
          }
        },
        "694d7362ceb5440287d628d023ff7508": {
          "model_module": "@jupyter-widgets/controls",
          "model_name": "HTMLModel",
          "model_module_version": "1.5.0",
          "state": {
            "_dom_classes": [],
            "_model_module": "@jupyter-widgets/controls",
            "_model_module_version": "1.5.0",
            "_model_name": "HTMLModel",
            "_view_count": null,
            "_view_module": "@jupyter-widgets/controls",
            "_view_module_version": "1.5.0",
            "_view_name": "HTMLView",
            "description": "",
            "description_tooltip": null,
            "layout": "IPY_MODEL_e9e7a1e9253140a8bb7aef87ea3863a4",
            "placeholder": "​",
            "style": "IPY_MODEL_dc6a28f9902842bb9baf5965e3ca0b05",
            "value": " 252/252 [00:00&lt;00:00, 17.4kB/s]"
          }
        },
        "54b51ef7ed4d4830aeee7bf77fd30e81": {
          "model_module": "@jupyter-widgets/base",
          "model_name": "LayoutModel",
          "model_module_version": "1.2.0",
          "state": {
            "_model_module": "@jupyter-widgets/base",
            "_model_module_version": "1.2.0",
            "_model_name": "LayoutModel",
            "_view_count": null,
            "_view_module": "@jupyter-widgets/base",
            "_view_module_version": "1.2.0",
            "_view_name": "LayoutView",
            "align_content": null,
            "align_items": null,
            "align_self": null,
            "border": null,
            "bottom": null,
            "display": null,
            "flex": null,
            "flex_flow": null,
            "grid_area": null,
            "grid_auto_columns": null,
            "grid_auto_flow": null,
            "grid_auto_rows": null,
            "grid_column": null,
            "grid_gap": null,
            "grid_row": null,
            "grid_template_areas": null,
            "grid_template_columns": null,
            "grid_template_rows": null,
            "height": null,
            "justify_content": null,
            "justify_items": null,
            "left": null,
            "margin": null,
            "max_height": null,
            "max_width": null,
            "min_height": null,
            "min_width": null,
            "object_fit": null,
            "object_position": null,
            "order": null,
            "overflow": null,
            "overflow_x": null,
            "overflow_y": null,
            "padding": null,
            "right": null,
            "top": null,
            "visibility": null,
            "width": null
          }
        },
        "dfc2460dedc14c358854061e7084329c": {
          "model_module": "@jupyter-widgets/base",
          "model_name": "LayoutModel",
          "model_module_version": "1.2.0",
          "state": {
            "_model_module": "@jupyter-widgets/base",
            "_model_module_version": "1.2.0",
            "_model_name": "LayoutModel",
            "_view_count": null,
            "_view_module": "@jupyter-widgets/base",
            "_view_module_version": "1.2.0",
            "_view_name": "LayoutView",
            "align_content": null,
            "align_items": null,
            "align_self": null,
            "border": null,
            "bottom": null,
            "display": null,
            "flex": null,
            "flex_flow": null,
            "grid_area": null,
            "grid_auto_columns": null,
            "grid_auto_flow": null,
            "grid_auto_rows": null,
            "grid_column": null,
            "grid_gap": null,
            "grid_row": null,
            "grid_template_areas": null,
            "grid_template_columns": null,
            "grid_template_rows": null,
            "height": null,
            "justify_content": null,
            "justify_items": null,
            "left": null,
            "margin": null,
            "max_height": null,
            "max_width": null,
            "min_height": null,
            "min_width": null,
            "object_fit": null,
            "object_position": null,
            "order": null,
            "overflow": null,
            "overflow_x": null,
            "overflow_y": null,
            "padding": null,
            "right": null,
            "top": null,
            "visibility": null,
            "width": null
          }
        },
        "4abb55c2d2b846acbd9a669ddaa9d47a": {
          "model_module": "@jupyter-widgets/controls",
          "model_name": "DescriptionStyleModel",
          "model_module_version": "1.5.0",
          "state": {
            "_model_module": "@jupyter-widgets/controls",
            "_model_module_version": "1.5.0",
            "_model_name": "DescriptionStyleModel",
            "_view_count": null,
            "_view_module": "@jupyter-widgets/base",
            "_view_module_version": "1.2.0",
            "_view_name": "StyleView",
            "description_width": ""
          }
        },
        "99800ca07ea447119adc92f232635614": {
          "model_module": "@jupyter-widgets/base",
          "model_name": "LayoutModel",
          "model_module_version": "1.2.0",
          "state": {
            "_model_module": "@jupyter-widgets/base",
            "_model_module_version": "1.2.0",
            "_model_name": "LayoutModel",
            "_view_count": null,
            "_view_module": "@jupyter-widgets/base",
            "_view_module_version": "1.2.0",
            "_view_name": "LayoutView",
            "align_content": null,
            "align_items": null,
            "align_self": null,
            "border": null,
            "bottom": null,
            "display": null,
            "flex": null,
            "flex_flow": null,
            "grid_area": null,
            "grid_auto_columns": null,
            "grid_auto_flow": null,
            "grid_auto_rows": null,
            "grid_column": null,
            "grid_gap": null,
            "grid_row": null,
            "grid_template_areas": null,
            "grid_template_columns": null,
            "grid_template_rows": null,
            "height": null,
            "justify_content": null,
            "justify_items": null,
            "left": null,
            "margin": null,
            "max_height": null,
            "max_width": null,
            "min_height": null,
            "min_width": null,
            "object_fit": null,
            "object_position": null,
            "order": null,
            "overflow": null,
            "overflow_x": null,
            "overflow_y": null,
            "padding": null,
            "right": null,
            "top": null,
            "visibility": null,
            "width": null
          }
        },
        "43bd38026ed240a9ac344aff00602d42": {
          "model_module": "@jupyter-widgets/controls",
          "model_name": "ProgressStyleModel",
          "model_module_version": "1.5.0",
          "state": {
            "_model_module": "@jupyter-widgets/controls",
            "_model_module_version": "1.5.0",
            "_model_name": "ProgressStyleModel",
            "_view_count": null,
            "_view_module": "@jupyter-widgets/base",
            "_view_module_version": "1.2.0",
            "_view_name": "StyleView",
            "bar_color": null,
            "description_width": ""
          }
        },
        "e9e7a1e9253140a8bb7aef87ea3863a4": {
          "model_module": "@jupyter-widgets/base",
          "model_name": "LayoutModel",
          "model_module_version": "1.2.0",
          "state": {
            "_model_module": "@jupyter-widgets/base",
            "_model_module_version": "1.2.0",
            "_model_name": "LayoutModel",
            "_view_count": null,
            "_view_module": "@jupyter-widgets/base",
            "_view_module_version": "1.2.0",
            "_view_name": "LayoutView",
            "align_content": null,
            "align_items": null,
            "align_self": null,
            "border": null,
            "bottom": null,
            "display": null,
            "flex": null,
            "flex_flow": null,
            "grid_area": null,
            "grid_auto_columns": null,
            "grid_auto_flow": null,
            "grid_auto_rows": null,
            "grid_column": null,
            "grid_gap": null,
            "grid_row": null,
            "grid_template_areas": null,
            "grid_template_columns": null,
            "grid_template_rows": null,
            "height": null,
            "justify_content": null,
            "justify_items": null,
            "left": null,
            "margin": null,
            "max_height": null,
            "max_width": null,
            "min_height": null,
            "min_width": null,
            "object_fit": null,
            "object_position": null,
            "order": null,
            "overflow": null,
            "overflow_x": null,
            "overflow_y": null,
            "padding": null,
            "right": null,
            "top": null,
            "visibility": null,
            "width": null
          }
        },
        "dc6a28f9902842bb9baf5965e3ca0b05": {
          "model_module": "@jupyter-widgets/controls",
          "model_name": "DescriptionStyleModel",
          "model_module_version": "1.5.0",
          "state": {
            "_model_module": "@jupyter-widgets/controls",
            "_model_module_version": "1.5.0",
            "_model_name": "DescriptionStyleModel",
            "_view_count": null,
            "_view_module": "@jupyter-widgets/base",
            "_view_module_version": "1.2.0",
            "_view_name": "StyleView",
            "description_width": ""
          }
        },
        "a070e07996a1402eb8ddbd07dc378412": {
          "model_module": "@jupyter-widgets/controls",
          "model_name": "HBoxModel",
          "model_module_version": "1.5.0",
          "state": {
            "_dom_classes": [],
            "_model_module": "@jupyter-widgets/controls",
            "_model_module_version": "1.5.0",
            "_model_name": "HBoxModel",
            "_view_count": null,
            "_view_module": "@jupyter-widgets/controls",
            "_view_module_version": "1.5.0",
            "_view_name": "HBoxView",
            "box_style": "",
            "children": [
              "IPY_MODEL_99e35a992a84476392078d07fab79cc8",
              "IPY_MODEL_bb7080bae54e406eb3fa94985d56e6c7",
              "IPY_MODEL_392dd57ea41b41c58a8ee6bed473b320"
            ],
            "layout": "IPY_MODEL_8e8ddd8fbd1d4f6a9c073ac72c35f26d"
          }
        },
        "99e35a992a84476392078d07fab79cc8": {
          "model_module": "@jupyter-widgets/controls",
          "model_name": "HTMLModel",
          "model_module_version": "1.5.0",
          "state": {
            "_dom_classes": [],
            "_model_module": "@jupyter-widgets/controls",
            "_model_module_version": "1.5.0",
            "_model_name": "HTMLModel",
            "_view_count": null,
            "_view_module": "@jupyter-widgets/controls",
            "_view_module_version": "1.5.0",
            "_view_name": "HTMLView",
            "description": "",
            "description_tooltip": null,
            "layout": "IPY_MODEL_e343d9340e3f4f48a77363e37ec6f8ec",
            "placeholder": "​",
            "style": "IPY_MODEL_da151e0dd3744b6a858bf15165a3e6ea",
            "value": "Downloading (…)lve/main/config.json: 100%"
          }
        },
        "bb7080bae54e406eb3fa94985d56e6c7": {
          "model_module": "@jupyter-widgets/controls",
          "model_name": "FloatProgressModel",
          "model_module_version": "1.5.0",
          "state": {
            "_dom_classes": [],
            "_model_module": "@jupyter-widgets/controls",
            "_model_module_version": "1.5.0",
            "_model_name": "FloatProgressModel",
            "_view_count": null,
            "_view_module": "@jupyter-widgets/controls",
            "_view_module_version": "1.5.0",
            "_view_name": "ProgressView",
            "bar_style": "success",
            "description": "",
            "description_tooltip": null,
            "layout": "IPY_MODEL_700fc127dedd48adb841a53960f5c371",
            "max": 758,
            "min": 0,
            "orientation": "horizontal",
            "style": "IPY_MODEL_7d1cfbd53715458493218451291377e0",
            "value": 758
          }
        },
        "392dd57ea41b41c58a8ee6bed473b320": {
          "model_module": "@jupyter-widgets/controls",
          "model_name": "HTMLModel",
          "model_module_version": "1.5.0",
          "state": {
            "_dom_classes": [],
            "_model_module": "@jupyter-widgets/controls",
            "_model_module_version": "1.5.0",
            "_model_name": "HTMLModel",
            "_view_count": null,
            "_view_module": "@jupyter-widgets/controls",
            "_view_module_version": "1.5.0",
            "_view_name": "HTMLView",
            "description": "",
            "description_tooltip": null,
            "layout": "IPY_MODEL_13e989682eb0493ea8d062b6c42311ba",
            "placeholder": "​",
            "style": "IPY_MODEL_faf3621942c244d28f9b9d21043f5021",
            "value": " 758/758 [00:00&lt;00:00, 52.4kB/s]"
          }
        },
        "8e8ddd8fbd1d4f6a9c073ac72c35f26d": {
          "model_module": "@jupyter-widgets/base",
          "model_name": "LayoutModel",
          "model_module_version": "1.2.0",
          "state": {
            "_model_module": "@jupyter-widgets/base",
            "_model_module_version": "1.2.0",
            "_model_name": "LayoutModel",
            "_view_count": null,
            "_view_module": "@jupyter-widgets/base",
            "_view_module_version": "1.2.0",
            "_view_name": "LayoutView",
            "align_content": null,
            "align_items": null,
            "align_self": null,
            "border": null,
            "bottom": null,
            "display": null,
            "flex": null,
            "flex_flow": null,
            "grid_area": null,
            "grid_auto_columns": null,
            "grid_auto_flow": null,
            "grid_auto_rows": null,
            "grid_column": null,
            "grid_gap": null,
            "grid_row": null,
            "grid_template_areas": null,
            "grid_template_columns": null,
            "grid_template_rows": null,
            "height": null,
            "justify_content": null,
            "justify_items": null,
            "left": null,
            "margin": null,
            "max_height": null,
            "max_width": null,
            "min_height": null,
            "min_width": null,
            "object_fit": null,
            "object_position": null,
            "order": null,
            "overflow": null,
            "overflow_x": null,
            "overflow_y": null,
            "padding": null,
            "right": null,
            "top": null,
            "visibility": null,
            "width": null
          }
        },
        "e343d9340e3f4f48a77363e37ec6f8ec": {
          "model_module": "@jupyter-widgets/base",
          "model_name": "LayoutModel",
          "model_module_version": "1.2.0",
          "state": {
            "_model_module": "@jupyter-widgets/base",
            "_model_module_version": "1.2.0",
            "_model_name": "LayoutModel",
            "_view_count": null,
            "_view_module": "@jupyter-widgets/base",
            "_view_module_version": "1.2.0",
            "_view_name": "LayoutView",
            "align_content": null,
            "align_items": null,
            "align_self": null,
            "border": null,
            "bottom": null,
            "display": null,
            "flex": null,
            "flex_flow": null,
            "grid_area": null,
            "grid_auto_columns": null,
            "grid_auto_flow": null,
            "grid_auto_rows": null,
            "grid_column": null,
            "grid_gap": null,
            "grid_row": null,
            "grid_template_areas": null,
            "grid_template_columns": null,
            "grid_template_rows": null,
            "height": null,
            "justify_content": null,
            "justify_items": null,
            "left": null,
            "margin": null,
            "max_height": null,
            "max_width": null,
            "min_height": null,
            "min_width": null,
            "object_fit": null,
            "object_position": null,
            "order": null,
            "overflow": null,
            "overflow_x": null,
            "overflow_y": null,
            "padding": null,
            "right": null,
            "top": null,
            "visibility": null,
            "width": null
          }
        },
        "da151e0dd3744b6a858bf15165a3e6ea": {
          "model_module": "@jupyter-widgets/controls",
          "model_name": "DescriptionStyleModel",
          "model_module_version": "1.5.0",
          "state": {
            "_model_module": "@jupyter-widgets/controls",
            "_model_module_version": "1.5.0",
            "_model_name": "DescriptionStyleModel",
            "_view_count": null,
            "_view_module": "@jupyter-widgets/base",
            "_view_module_version": "1.2.0",
            "_view_name": "StyleView",
            "description_width": ""
          }
        },
        "700fc127dedd48adb841a53960f5c371": {
          "model_module": "@jupyter-widgets/base",
          "model_name": "LayoutModel",
          "model_module_version": "1.2.0",
          "state": {
            "_model_module": "@jupyter-widgets/base",
            "_model_module_version": "1.2.0",
            "_model_name": "LayoutModel",
            "_view_count": null,
            "_view_module": "@jupyter-widgets/base",
            "_view_module_version": "1.2.0",
            "_view_name": "LayoutView",
            "align_content": null,
            "align_items": null,
            "align_self": null,
            "border": null,
            "bottom": null,
            "display": null,
            "flex": null,
            "flex_flow": null,
            "grid_area": null,
            "grid_auto_columns": null,
            "grid_auto_flow": null,
            "grid_auto_rows": null,
            "grid_column": null,
            "grid_gap": null,
            "grid_row": null,
            "grid_template_areas": null,
            "grid_template_columns": null,
            "grid_template_rows": null,
            "height": null,
            "justify_content": null,
            "justify_items": null,
            "left": null,
            "margin": null,
            "max_height": null,
            "max_width": null,
            "min_height": null,
            "min_width": null,
            "object_fit": null,
            "object_position": null,
            "order": null,
            "overflow": null,
            "overflow_x": null,
            "overflow_y": null,
            "padding": null,
            "right": null,
            "top": null,
            "visibility": null,
            "width": null
          }
        },
        "7d1cfbd53715458493218451291377e0": {
          "model_module": "@jupyter-widgets/controls",
          "model_name": "ProgressStyleModel",
          "model_module_version": "1.5.0",
          "state": {
            "_model_module": "@jupyter-widgets/controls",
            "_model_module_version": "1.5.0",
            "_model_name": "ProgressStyleModel",
            "_view_count": null,
            "_view_module": "@jupyter-widgets/base",
            "_view_module_version": "1.2.0",
            "_view_name": "StyleView",
            "bar_color": null,
            "description_width": ""
          }
        },
        "13e989682eb0493ea8d062b6c42311ba": {
          "model_module": "@jupyter-widgets/base",
          "model_name": "LayoutModel",
          "model_module_version": "1.2.0",
          "state": {
            "_model_module": "@jupyter-widgets/base",
            "_model_module_version": "1.2.0",
            "_model_name": "LayoutModel",
            "_view_count": null,
            "_view_module": "@jupyter-widgets/base",
            "_view_module_version": "1.2.0",
            "_view_name": "LayoutView",
            "align_content": null,
            "align_items": null,
            "align_self": null,
            "border": null,
            "bottom": null,
            "display": null,
            "flex": null,
            "flex_flow": null,
            "grid_area": null,
            "grid_auto_columns": null,
            "grid_auto_flow": null,
            "grid_auto_rows": null,
            "grid_column": null,
            "grid_gap": null,
            "grid_row": null,
            "grid_template_areas": null,
            "grid_template_columns": null,
            "grid_template_rows": null,
            "height": null,
            "justify_content": null,
            "justify_items": null,
            "left": null,
            "margin": null,
            "max_height": null,
            "max_width": null,
            "min_height": null,
            "min_width": null,
            "object_fit": null,
            "object_position": null,
            "order": null,
            "overflow": null,
            "overflow_x": null,
            "overflow_y": null,
            "padding": null,
            "right": null,
            "top": null,
            "visibility": null,
            "width": null
          }
        },
        "faf3621942c244d28f9b9d21043f5021": {
          "model_module": "@jupyter-widgets/controls",
          "model_name": "DescriptionStyleModel",
          "model_module_version": "1.5.0",
          "state": {
            "_model_module": "@jupyter-widgets/controls",
            "_model_module_version": "1.5.0",
            "_model_name": "DescriptionStyleModel",
            "_view_count": null,
            "_view_module": "@jupyter-widgets/base",
            "_view_module_version": "1.2.0",
            "_view_name": "StyleView",
            "description_width": ""
          }
        },
        "5ce953dd2e554850a2a0274dd395e375": {
          "model_module": "@jupyter-widgets/controls",
          "model_name": "HBoxModel",
          "model_module_version": "1.5.0",
          "state": {
            "_dom_classes": [],
            "_model_module": "@jupyter-widgets/controls",
            "_model_module_version": "1.5.0",
            "_model_name": "HBoxModel",
            "_view_count": null,
            "_view_module": "@jupyter-widgets/controls",
            "_view_module_version": "1.5.0",
            "_view_name": "HBoxView",
            "box_style": "",
            "children": [
              "IPY_MODEL_3cabdeb20f784aaf9e99be70b38edd62",
              "IPY_MODEL_6815be04e3eb42f59e04822355d354fb",
              "IPY_MODEL_e96dcaa8c34b40648578b6300d47c7ab"
            ],
            "layout": "IPY_MODEL_7e66d9c12f9e47f5be0d1c1a06abbfc7"
          }
        },
        "3cabdeb20f784aaf9e99be70b38edd62": {
          "model_module": "@jupyter-widgets/controls",
          "model_name": "HTMLModel",
          "model_module_version": "1.5.0",
          "state": {
            "_dom_classes": [],
            "_model_module": "@jupyter-widgets/controls",
            "_model_module_version": "1.5.0",
            "_model_name": "HTMLModel",
            "_view_count": null,
            "_view_module": "@jupyter-widgets/controls",
            "_view_module_version": "1.5.0",
            "_view_name": "HTMLView",
            "description": "",
            "description_tooltip": null,
            "layout": "IPY_MODEL_0c4d424c88a94cdd91461a89c731cc4d",
            "placeholder": "​",
            "style": "IPY_MODEL_d0c96ddc24d84040b02102f8b35a29d4",
            "value": "Downloading (…)solve/main/vocab.txt: 100%"
          }
        },
        "6815be04e3eb42f59e04822355d354fb": {
          "model_module": "@jupyter-widgets/controls",
          "model_name": "FloatProgressModel",
          "model_module_version": "1.5.0",
          "state": {
            "_dom_classes": [],
            "_model_module": "@jupyter-widgets/controls",
            "_model_module_version": "1.5.0",
            "_model_name": "FloatProgressModel",
            "_view_count": null,
            "_view_module": "@jupyter-widgets/controls",
            "_view_module_version": "1.5.0",
            "_view_name": "ProgressView",
            "bar_style": "success",
            "description": "",
            "description_tooltip": null,
            "layout": "IPY_MODEL_3b7dc2d82d2d4bddb895c6243180634e",
            "max": 231508,
            "min": 0,
            "orientation": "horizontal",
            "style": "IPY_MODEL_df70c09f795e49ffa91045bc8a502a8f",
            "value": 231508
          }
        },
        "e96dcaa8c34b40648578b6300d47c7ab": {
          "model_module": "@jupyter-widgets/controls",
          "model_name": "HTMLModel",
          "model_module_version": "1.5.0",
          "state": {
            "_dom_classes": [],
            "_model_module": "@jupyter-widgets/controls",
            "_model_module_version": "1.5.0",
            "_model_name": "HTMLModel",
            "_view_count": null,
            "_view_module": "@jupyter-widgets/controls",
            "_view_module_version": "1.5.0",
            "_view_name": "HTMLView",
            "description": "",
            "description_tooltip": null,
            "layout": "IPY_MODEL_492902e60a89457baafdb7594012170f",
            "placeholder": "​",
            "style": "IPY_MODEL_72b10b20b2f94c269de30cc6bbe21de0",
            "value": " 232k/232k [00:00&lt;00:00, 262kB/s]"
          }
        },
        "7e66d9c12f9e47f5be0d1c1a06abbfc7": {
          "model_module": "@jupyter-widgets/base",
          "model_name": "LayoutModel",
          "model_module_version": "1.2.0",
          "state": {
            "_model_module": "@jupyter-widgets/base",
            "_model_module_version": "1.2.0",
            "_model_name": "LayoutModel",
            "_view_count": null,
            "_view_module": "@jupyter-widgets/base",
            "_view_module_version": "1.2.0",
            "_view_name": "LayoutView",
            "align_content": null,
            "align_items": null,
            "align_self": null,
            "border": null,
            "bottom": null,
            "display": null,
            "flex": null,
            "flex_flow": null,
            "grid_area": null,
            "grid_auto_columns": null,
            "grid_auto_flow": null,
            "grid_auto_rows": null,
            "grid_column": null,
            "grid_gap": null,
            "grid_row": null,
            "grid_template_areas": null,
            "grid_template_columns": null,
            "grid_template_rows": null,
            "height": null,
            "justify_content": null,
            "justify_items": null,
            "left": null,
            "margin": null,
            "max_height": null,
            "max_width": null,
            "min_height": null,
            "min_width": null,
            "object_fit": null,
            "object_position": null,
            "order": null,
            "overflow": null,
            "overflow_x": null,
            "overflow_y": null,
            "padding": null,
            "right": null,
            "top": null,
            "visibility": null,
            "width": null
          }
        },
        "0c4d424c88a94cdd91461a89c731cc4d": {
          "model_module": "@jupyter-widgets/base",
          "model_name": "LayoutModel",
          "model_module_version": "1.2.0",
          "state": {
            "_model_module": "@jupyter-widgets/base",
            "_model_module_version": "1.2.0",
            "_model_name": "LayoutModel",
            "_view_count": null,
            "_view_module": "@jupyter-widgets/base",
            "_view_module_version": "1.2.0",
            "_view_name": "LayoutView",
            "align_content": null,
            "align_items": null,
            "align_self": null,
            "border": null,
            "bottom": null,
            "display": null,
            "flex": null,
            "flex_flow": null,
            "grid_area": null,
            "grid_auto_columns": null,
            "grid_auto_flow": null,
            "grid_auto_rows": null,
            "grid_column": null,
            "grid_gap": null,
            "grid_row": null,
            "grid_template_areas": null,
            "grid_template_columns": null,
            "grid_template_rows": null,
            "height": null,
            "justify_content": null,
            "justify_items": null,
            "left": null,
            "margin": null,
            "max_height": null,
            "max_width": null,
            "min_height": null,
            "min_width": null,
            "object_fit": null,
            "object_position": null,
            "order": null,
            "overflow": null,
            "overflow_x": null,
            "overflow_y": null,
            "padding": null,
            "right": null,
            "top": null,
            "visibility": null,
            "width": null
          }
        },
        "d0c96ddc24d84040b02102f8b35a29d4": {
          "model_module": "@jupyter-widgets/controls",
          "model_name": "DescriptionStyleModel",
          "model_module_version": "1.5.0",
          "state": {
            "_model_module": "@jupyter-widgets/controls",
            "_model_module_version": "1.5.0",
            "_model_name": "DescriptionStyleModel",
            "_view_count": null,
            "_view_module": "@jupyter-widgets/base",
            "_view_module_version": "1.2.0",
            "_view_name": "StyleView",
            "description_width": ""
          }
        },
        "3b7dc2d82d2d4bddb895c6243180634e": {
          "model_module": "@jupyter-widgets/base",
          "model_name": "LayoutModel",
          "model_module_version": "1.2.0",
          "state": {
            "_model_module": "@jupyter-widgets/base",
            "_model_module_version": "1.2.0",
            "_model_name": "LayoutModel",
            "_view_count": null,
            "_view_module": "@jupyter-widgets/base",
            "_view_module_version": "1.2.0",
            "_view_name": "LayoutView",
            "align_content": null,
            "align_items": null,
            "align_self": null,
            "border": null,
            "bottom": null,
            "display": null,
            "flex": null,
            "flex_flow": null,
            "grid_area": null,
            "grid_auto_columns": null,
            "grid_auto_flow": null,
            "grid_auto_rows": null,
            "grid_column": null,
            "grid_gap": null,
            "grid_row": null,
            "grid_template_areas": null,
            "grid_template_columns": null,
            "grid_template_rows": null,
            "height": null,
            "justify_content": null,
            "justify_items": null,
            "left": null,
            "margin": null,
            "max_height": null,
            "max_width": null,
            "min_height": null,
            "min_width": null,
            "object_fit": null,
            "object_position": null,
            "order": null,
            "overflow": null,
            "overflow_x": null,
            "overflow_y": null,
            "padding": null,
            "right": null,
            "top": null,
            "visibility": null,
            "width": null
          }
        },
        "df70c09f795e49ffa91045bc8a502a8f": {
          "model_module": "@jupyter-widgets/controls",
          "model_name": "ProgressStyleModel",
          "model_module_version": "1.5.0",
          "state": {
            "_model_module": "@jupyter-widgets/controls",
            "_model_module_version": "1.5.0",
            "_model_name": "ProgressStyleModel",
            "_view_count": null,
            "_view_module": "@jupyter-widgets/base",
            "_view_module_version": "1.2.0",
            "_view_name": "StyleView",
            "bar_color": null,
            "description_width": ""
          }
        },
        "492902e60a89457baafdb7594012170f": {
          "model_module": "@jupyter-widgets/base",
          "model_name": "LayoutModel",
          "model_module_version": "1.2.0",
          "state": {
            "_model_module": "@jupyter-widgets/base",
            "_model_module_version": "1.2.0",
            "_model_name": "LayoutModel",
            "_view_count": null,
            "_view_module": "@jupyter-widgets/base",
            "_view_module_version": "1.2.0",
            "_view_name": "LayoutView",
            "align_content": null,
            "align_items": null,
            "align_self": null,
            "border": null,
            "bottom": null,
            "display": null,
            "flex": null,
            "flex_flow": null,
            "grid_area": null,
            "grid_auto_columns": null,
            "grid_auto_flow": null,
            "grid_auto_rows": null,
            "grid_column": null,
            "grid_gap": null,
            "grid_row": null,
            "grid_template_areas": null,
            "grid_template_columns": null,
            "grid_template_rows": null,
            "height": null,
            "justify_content": null,
            "justify_items": null,
            "left": null,
            "margin": null,
            "max_height": null,
            "max_width": null,
            "min_height": null,
            "min_width": null,
            "object_fit": null,
            "object_position": null,
            "order": null,
            "overflow": null,
            "overflow_x": null,
            "overflow_y": null,
            "padding": null,
            "right": null,
            "top": null,
            "visibility": null,
            "width": null
          }
        },
        "72b10b20b2f94c269de30cc6bbe21de0": {
          "model_module": "@jupyter-widgets/controls",
          "model_name": "DescriptionStyleModel",
          "model_module_version": "1.5.0",
          "state": {
            "_model_module": "@jupyter-widgets/controls",
            "_model_module_version": "1.5.0",
            "_model_name": "DescriptionStyleModel",
            "_view_count": null,
            "_view_module": "@jupyter-widgets/base",
            "_view_module_version": "1.2.0",
            "_view_name": "StyleView",
            "description_width": ""
          }
        },
        "ee29b2de78604ce58d777de2b7611e94": {
          "model_module": "@jupyter-widgets/controls",
          "model_name": "HBoxModel",
          "model_module_version": "1.5.0",
          "state": {
            "_dom_classes": [],
            "_model_module": "@jupyter-widgets/controls",
            "_model_module_version": "1.5.0",
            "_model_name": "HBoxModel",
            "_view_count": null,
            "_view_module": "@jupyter-widgets/controls",
            "_view_module_version": "1.5.0",
            "_view_name": "HBoxView",
            "box_style": "",
            "children": [
              "IPY_MODEL_2b59df574e784ed6875a25688d472d0d",
              "IPY_MODEL_96c9a95ccb0c44b2bb5ea989c18a2264",
              "IPY_MODEL_4708af2888d643a0a942ef7dd6fa2b47"
            ],
            "layout": "IPY_MODEL_1cfa4a7601d14a189528560c8d6a5202"
          }
        },
        "2b59df574e784ed6875a25688d472d0d": {
          "model_module": "@jupyter-widgets/controls",
          "model_name": "HTMLModel",
          "model_module_version": "1.5.0",
          "state": {
            "_dom_classes": [],
            "_model_module": "@jupyter-widgets/controls",
            "_model_module_version": "1.5.0",
            "_model_name": "HTMLModel",
            "_view_count": null,
            "_view_module": "@jupyter-widgets/controls",
            "_view_module_version": "1.5.0",
            "_view_name": "HTMLView",
            "description": "",
            "description_tooltip": null,
            "layout": "IPY_MODEL_bdfbcf657f49406ea3c2b0d4bd012958",
            "placeholder": "​",
            "style": "IPY_MODEL_c02c02f99634434e9030f6cb6a45eb8b",
            "value": "Downloading (…)cial_tokens_map.json: 100%"
          }
        },
        "96c9a95ccb0c44b2bb5ea989c18a2264": {
          "model_module": "@jupyter-widgets/controls",
          "model_name": "FloatProgressModel",
          "model_module_version": "1.5.0",
          "state": {
            "_dom_classes": [],
            "_model_module": "@jupyter-widgets/controls",
            "_model_module_version": "1.5.0",
            "_model_name": "FloatProgressModel",
            "_view_count": null,
            "_view_module": "@jupyter-widgets/controls",
            "_view_module_version": "1.5.0",
            "_view_name": "ProgressView",
            "bar_style": "success",
            "description": "",
            "description_tooltip": null,
            "layout": "IPY_MODEL_df1a264bb12e4e5788daa76aa5ffbd9f",
            "max": 112,
            "min": 0,
            "orientation": "horizontal",
            "style": "IPY_MODEL_5d4e479e78d6444eb37737d435eb2525",
            "value": 112
          }
        },
        "4708af2888d643a0a942ef7dd6fa2b47": {
          "model_module": "@jupyter-widgets/controls",
          "model_name": "HTMLModel",
          "model_module_version": "1.5.0",
          "state": {
            "_dom_classes": [],
            "_model_module": "@jupyter-widgets/controls",
            "_model_module_version": "1.5.0",
            "_model_name": "HTMLModel",
            "_view_count": null,
            "_view_module": "@jupyter-widgets/controls",
            "_view_module_version": "1.5.0",
            "_view_name": "HTMLView",
            "description": "",
            "description_tooltip": null,
            "layout": "IPY_MODEL_09e8936ded1c4223b7d65711e2f5061f",
            "placeholder": "​",
            "style": "IPY_MODEL_eef170c591c0478b86c538a5e1b43c95",
            "value": " 112/112 [00:00&lt;00:00, 7.45kB/s]"
          }
        },
        "1cfa4a7601d14a189528560c8d6a5202": {
          "model_module": "@jupyter-widgets/base",
          "model_name": "LayoutModel",
          "model_module_version": "1.2.0",
          "state": {
            "_model_module": "@jupyter-widgets/base",
            "_model_module_version": "1.2.0",
            "_model_name": "LayoutModel",
            "_view_count": null,
            "_view_module": "@jupyter-widgets/base",
            "_view_module_version": "1.2.0",
            "_view_name": "LayoutView",
            "align_content": null,
            "align_items": null,
            "align_self": null,
            "border": null,
            "bottom": null,
            "display": null,
            "flex": null,
            "flex_flow": null,
            "grid_area": null,
            "grid_auto_columns": null,
            "grid_auto_flow": null,
            "grid_auto_rows": null,
            "grid_column": null,
            "grid_gap": null,
            "grid_row": null,
            "grid_template_areas": null,
            "grid_template_columns": null,
            "grid_template_rows": null,
            "height": null,
            "justify_content": null,
            "justify_items": null,
            "left": null,
            "margin": null,
            "max_height": null,
            "max_width": null,
            "min_height": null,
            "min_width": null,
            "object_fit": null,
            "object_position": null,
            "order": null,
            "overflow": null,
            "overflow_x": null,
            "overflow_y": null,
            "padding": null,
            "right": null,
            "top": null,
            "visibility": null,
            "width": null
          }
        },
        "bdfbcf657f49406ea3c2b0d4bd012958": {
          "model_module": "@jupyter-widgets/base",
          "model_name": "LayoutModel",
          "model_module_version": "1.2.0",
          "state": {
            "_model_module": "@jupyter-widgets/base",
            "_model_module_version": "1.2.0",
            "_model_name": "LayoutModel",
            "_view_count": null,
            "_view_module": "@jupyter-widgets/base",
            "_view_module_version": "1.2.0",
            "_view_name": "LayoutView",
            "align_content": null,
            "align_items": null,
            "align_self": null,
            "border": null,
            "bottom": null,
            "display": null,
            "flex": null,
            "flex_flow": null,
            "grid_area": null,
            "grid_auto_columns": null,
            "grid_auto_flow": null,
            "grid_auto_rows": null,
            "grid_column": null,
            "grid_gap": null,
            "grid_row": null,
            "grid_template_areas": null,
            "grid_template_columns": null,
            "grid_template_rows": null,
            "height": null,
            "justify_content": null,
            "justify_items": null,
            "left": null,
            "margin": null,
            "max_height": null,
            "max_width": null,
            "min_height": null,
            "min_width": null,
            "object_fit": null,
            "object_position": null,
            "order": null,
            "overflow": null,
            "overflow_x": null,
            "overflow_y": null,
            "padding": null,
            "right": null,
            "top": null,
            "visibility": null,
            "width": null
          }
        },
        "c02c02f99634434e9030f6cb6a45eb8b": {
          "model_module": "@jupyter-widgets/controls",
          "model_name": "DescriptionStyleModel",
          "model_module_version": "1.5.0",
          "state": {
            "_model_module": "@jupyter-widgets/controls",
            "_model_module_version": "1.5.0",
            "_model_name": "DescriptionStyleModel",
            "_view_count": null,
            "_view_module": "@jupyter-widgets/base",
            "_view_module_version": "1.2.0",
            "_view_name": "StyleView",
            "description_width": ""
          }
        },
        "df1a264bb12e4e5788daa76aa5ffbd9f": {
          "model_module": "@jupyter-widgets/base",
          "model_name": "LayoutModel",
          "model_module_version": "1.2.0",
          "state": {
            "_model_module": "@jupyter-widgets/base",
            "_model_module_version": "1.2.0",
            "_model_name": "LayoutModel",
            "_view_count": null,
            "_view_module": "@jupyter-widgets/base",
            "_view_module_version": "1.2.0",
            "_view_name": "LayoutView",
            "align_content": null,
            "align_items": null,
            "align_self": null,
            "border": null,
            "bottom": null,
            "display": null,
            "flex": null,
            "flex_flow": null,
            "grid_area": null,
            "grid_auto_columns": null,
            "grid_auto_flow": null,
            "grid_auto_rows": null,
            "grid_column": null,
            "grid_gap": null,
            "grid_row": null,
            "grid_template_areas": null,
            "grid_template_columns": null,
            "grid_template_rows": null,
            "height": null,
            "justify_content": null,
            "justify_items": null,
            "left": null,
            "margin": null,
            "max_height": null,
            "max_width": null,
            "min_height": null,
            "min_width": null,
            "object_fit": null,
            "object_position": null,
            "order": null,
            "overflow": null,
            "overflow_x": null,
            "overflow_y": null,
            "padding": null,
            "right": null,
            "top": null,
            "visibility": null,
            "width": null
          }
        },
        "5d4e479e78d6444eb37737d435eb2525": {
          "model_module": "@jupyter-widgets/controls",
          "model_name": "ProgressStyleModel",
          "model_module_version": "1.5.0",
          "state": {
            "_model_module": "@jupyter-widgets/controls",
            "_model_module_version": "1.5.0",
            "_model_name": "ProgressStyleModel",
            "_view_count": null,
            "_view_module": "@jupyter-widgets/base",
            "_view_module_version": "1.2.0",
            "_view_name": "StyleView",
            "bar_color": null,
            "description_width": ""
          }
        },
        "09e8936ded1c4223b7d65711e2f5061f": {
          "model_module": "@jupyter-widgets/base",
          "model_name": "LayoutModel",
          "model_module_version": "1.2.0",
          "state": {
            "_model_module": "@jupyter-widgets/base",
            "_model_module_version": "1.2.0",
            "_model_name": "LayoutModel",
            "_view_count": null,
            "_view_module": "@jupyter-widgets/base",
            "_view_module_version": "1.2.0",
            "_view_name": "LayoutView",
            "align_content": null,
            "align_items": null,
            "align_self": null,
            "border": null,
            "bottom": null,
            "display": null,
            "flex": null,
            "flex_flow": null,
            "grid_area": null,
            "grid_auto_columns": null,
            "grid_auto_flow": null,
            "grid_auto_rows": null,
            "grid_column": null,
            "grid_gap": null,
            "grid_row": null,
            "grid_template_areas": null,
            "grid_template_columns": null,
            "grid_template_rows": null,
            "height": null,
            "justify_content": null,
            "justify_items": null,
            "left": null,
            "margin": null,
            "max_height": null,
            "max_width": null,
            "min_height": null,
            "min_width": null,
            "object_fit": null,
            "object_position": null,
            "order": null,
            "overflow": null,
            "overflow_x": null,
            "overflow_y": null,
            "padding": null,
            "right": null,
            "top": null,
            "visibility": null,
            "width": null
          }
        },
        "eef170c591c0478b86c538a5e1b43c95": {
          "model_module": "@jupyter-widgets/controls",
          "model_name": "DescriptionStyleModel",
          "model_module_version": "1.5.0",
          "state": {
            "_model_module": "@jupyter-widgets/controls",
            "_model_module_version": "1.5.0",
            "_model_name": "DescriptionStyleModel",
            "_view_count": null,
            "_view_module": "@jupyter-widgets/base",
            "_view_module_version": "1.2.0",
            "_view_name": "StyleView",
            "description_width": ""
          }
        },
        "6b4c68df6e3644b981111dc925564fd2": {
          "model_module": "@jupyter-widgets/controls",
          "model_name": "HBoxModel",
          "model_module_version": "1.5.0",
          "state": {
            "_dom_classes": [],
            "_model_module": "@jupyter-widgets/controls",
            "_model_module_version": "1.5.0",
            "_model_name": "HBoxModel",
            "_view_count": null,
            "_view_module": "@jupyter-widgets/controls",
            "_view_module_version": "1.5.0",
            "_view_name": "HBoxView",
            "box_style": "",
            "children": [
              "IPY_MODEL_6d2b334a082445bf93d728747a410965",
              "IPY_MODEL_a117e0c9226949c8b897d83ab22638ec",
              "IPY_MODEL_593ea88f231340cc99427e6489e89f12"
            ],
            "layout": "IPY_MODEL_df1cb7911aac4e668d5f98a1d14c6d98"
          }
        },
        "6d2b334a082445bf93d728747a410965": {
          "model_module": "@jupyter-widgets/controls",
          "model_name": "HTMLModel",
          "model_module_version": "1.5.0",
          "state": {
            "_dom_classes": [],
            "_model_module": "@jupyter-widgets/controls",
            "_model_module_version": "1.5.0",
            "_model_name": "HTMLModel",
            "_view_count": null,
            "_view_module": "@jupyter-widgets/controls",
            "_view_module_version": "1.5.0",
            "_view_name": "HTMLView",
            "description": "",
            "description_tooltip": null,
            "layout": "IPY_MODEL_bb142438a6014abebaff49947e236a2a",
            "placeholder": "​",
            "style": "IPY_MODEL_13f10ccc0d0040d485a4677388119125",
            "value": "Downloading (…)&quot;tf_model.h5&quot;;: 100%"
          }
        },
        "a117e0c9226949c8b897d83ab22638ec": {
          "model_module": "@jupyter-widgets/controls",
          "model_name": "FloatProgressModel",
          "model_module_version": "1.5.0",
          "state": {
            "_dom_classes": [],
            "_model_module": "@jupyter-widgets/controls",
            "_model_module_version": "1.5.0",
            "_model_name": "FloatProgressModel",
            "_view_count": null,
            "_view_module": "@jupyter-widgets/controls",
            "_view_module_version": "1.5.0",
            "_view_name": "ProgressView",
            "bar_style": "success",
            "description": "",
            "description_tooltip": null,
            "layout": "IPY_MODEL_d3e6ef39db0b4f4e84bd2e3eb2d126c3",
            "max": 438196200,
            "min": 0,
            "orientation": "horizontal",
            "style": "IPY_MODEL_e430eef6e55e4ceb9614bf2b3415c4eb",
            "value": 438196200
          }
        },
        "593ea88f231340cc99427e6489e89f12": {
          "model_module": "@jupyter-widgets/controls",
          "model_name": "HTMLModel",
          "model_module_version": "1.5.0",
          "state": {
            "_dom_classes": [],
            "_model_module": "@jupyter-widgets/controls",
            "_model_module_version": "1.5.0",
            "_model_name": "HTMLModel",
            "_view_count": null,
            "_view_module": "@jupyter-widgets/controls",
            "_view_module_version": "1.5.0",
            "_view_name": "HTMLView",
            "description": "",
            "description_tooltip": null,
            "layout": "IPY_MODEL_a3194232713d4ea6a4a47f2b89d77964",
            "placeholder": "​",
            "style": "IPY_MODEL_3e90d32f7cb34fc99a65d6dc138f0730",
            "value": " 438M/438M [00:02&lt;00:00, 172MB/s]"
          }
        },
        "df1cb7911aac4e668d5f98a1d14c6d98": {
          "model_module": "@jupyter-widgets/base",
          "model_name": "LayoutModel",
          "model_module_version": "1.2.0",
          "state": {
            "_model_module": "@jupyter-widgets/base",
            "_model_module_version": "1.2.0",
            "_model_name": "LayoutModel",
            "_view_count": null,
            "_view_module": "@jupyter-widgets/base",
            "_view_module_version": "1.2.0",
            "_view_name": "LayoutView",
            "align_content": null,
            "align_items": null,
            "align_self": null,
            "border": null,
            "bottom": null,
            "display": null,
            "flex": null,
            "flex_flow": null,
            "grid_area": null,
            "grid_auto_columns": null,
            "grid_auto_flow": null,
            "grid_auto_rows": null,
            "grid_column": null,
            "grid_gap": null,
            "grid_row": null,
            "grid_template_areas": null,
            "grid_template_columns": null,
            "grid_template_rows": null,
            "height": null,
            "justify_content": null,
            "justify_items": null,
            "left": null,
            "margin": null,
            "max_height": null,
            "max_width": null,
            "min_height": null,
            "min_width": null,
            "object_fit": null,
            "object_position": null,
            "order": null,
            "overflow": null,
            "overflow_x": null,
            "overflow_y": null,
            "padding": null,
            "right": null,
            "top": null,
            "visibility": null,
            "width": null
          }
        },
        "bb142438a6014abebaff49947e236a2a": {
          "model_module": "@jupyter-widgets/base",
          "model_name": "LayoutModel",
          "model_module_version": "1.2.0",
          "state": {
            "_model_module": "@jupyter-widgets/base",
            "_model_module_version": "1.2.0",
            "_model_name": "LayoutModel",
            "_view_count": null,
            "_view_module": "@jupyter-widgets/base",
            "_view_module_version": "1.2.0",
            "_view_name": "LayoutView",
            "align_content": null,
            "align_items": null,
            "align_self": null,
            "border": null,
            "bottom": null,
            "display": null,
            "flex": null,
            "flex_flow": null,
            "grid_area": null,
            "grid_auto_columns": null,
            "grid_auto_flow": null,
            "grid_auto_rows": null,
            "grid_column": null,
            "grid_gap": null,
            "grid_row": null,
            "grid_template_areas": null,
            "grid_template_columns": null,
            "grid_template_rows": null,
            "height": null,
            "justify_content": null,
            "justify_items": null,
            "left": null,
            "margin": null,
            "max_height": null,
            "max_width": null,
            "min_height": null,
            "min_width": null,
            "object_fit": null,
            "object_position": null,
            "order": null,
            "overflow": null,
            "overflow_x": null,
            "overflow_y": null,
            "padding": null,
            "right": null,
            "top": null,
            "visibility": null,
            "width": null
          }
        },
        "13f10ccc0d0040d485a4677388119125": {
          "model_module": "@jupyter-widgets/controls",
          "model_name": "DescriptionStyleModel",
          "model_module_version": "1.5.0",
          "state": {
            "_model_module": "@jupyter-widgets/controls",
            "_model_module_version": "1.5.0",
            "_model_name": "DescriptionStyleModel",
            "_view_count": null,
            "_view_module": "@jupyter-widgets/base",
            "_view_module_version": "1.2.0",
            "_view_name": "StyleView",
            "description_width": ""
          }
        },
        "d3e6ef39db0b4f4e84bd2e3eb2d126c3": {
          "model_module": "@jupyter-widgets/base",
          "model_name": "LayoutModel",
          "model_module_version": "1.2.0",
          "state": {
            "_model_module": "@jupyter-widgets/base",
            "_model_module_version": "1.2.0",
            "_model_name": "LayoutModel",
            "_view_count": null,
            "_view_module": "@jupyter-widgets/base",
            "_view_module_version": "1.2.0",
            "_view_name": "LayoutView",
            "align_content": null,
            "align_items": null,
            "align_self": null,
            "border": null,
            "bottom": null,
            "display": null,
            "flex": null,
            "flex_flow": null,
            "grid_area": null,
            "grid_auto_columns": null,
            "grid_auto_flow": null,
            "grid_auto_rows": null,
            "grid_column": null,
            "grid_gap": null,
            "grid_row": null,
            "grid_template_areas": null,
            "grid_template_columns": null,
            "grid_template_rows": null,
            "height": null,
            "justify_content": null,
            "justify_items": null,
            "left": null,
            "margin": null,
            "max_height": null,
            "max_width": null,
            "min_height": null,
            "min_width": null,
            "object_fit": null,
            "object_position": null,
            "order": null,
            "overflow": null,
            "overflow_x": null,
            "overflow_y": null,
            "padding": null,
            "right": null,
            "top": null,
            "visibility": null,
            "width": null
          }
        },
        "e430eef6e55e4ceb9614bf2b3415c4eb": {
          "model_module": "@jupyter-widgets/controls",
          "model_name": "ProgressStyleModel",
          "model_module_version": "1.5.0",
          "state": {
            "_model_module": "@jupyter-widgets/controls",
            "_model_module_version": "1.5.0",
            "_model_name": "ProgressStyleModel",
            "_view_count": null,
            "_view_module": "@jupyter-widgets/base",
            "_view_module_version": "1.2.0",
            "_view_name": "StyleView",
            "bar_color": null,
            "description_width": ""
          }
        },
        "a3194232713d4ea6a4a47f2b89d77964": {
          "model_module": "@jupyter-widgets/base",
          "model_name": "LayoutModel",
          "model_module_version": "1.2.0",
          "state": {
            "_model_module": "@jupyter-widgets/base",
            "_model_module_version": "1.2.0",
            "_model_name": "LayoutModel",
            "_view_count": null,
            "_view_module": "@jupyter-widgets/base",
            "_view_module_version": "1.2.0",
            "_view_name": "LayoutView",
            "align_content": null,
            "align_items": null,
            "align_self": null,
            "border": null,
            "bottom": null,
            "display": null,
            "flex": null,
            "flex_flow": null,
            "grid_area": null,
            "grid_auto_columns": null,
            "grid_auto_flow": null,
            "grid_auto_rows": null,
            "grid_column": null,
            "grid_gap": null,
            "grid_row": null,
            "grid_template_areas": null,
            "grid_template_columns": null,
            "grid_template_rows": null,
            "height": null,
            "justify_content": null,
            "justify_items": null,
            "left": null,
            "margin": null,
            "max_height": null,
            "max_width": null,
            "min_height": null,
            "min_width": null,
            "object_fit": null,
            "object_position": null,
            "order": null,
            "overflow": null,
            "overflow_x": null,
            "overflow_y": null,
            "padding": null,
            "right": null,
            "top": null,
            "visibility": null,
            "width": null
          }
        },
        "3e90d32f7cb34fc99a65d6dc138f0730": {
          "model_module": "@jupyter-widgets/controls",
          "model_name": "DescriptionStyleModel",
          "model_module_version": "1.5.0",
          "state": {
            "_model_module": "@jupyter-widgets/controls",
            "_model_module_version": "1.5.0",
            "_model_name": "DescriptionStyleModel",
            "_view_count": null,
            "_view_module": "@jupyter-widgets/base",
            "_view_module_version": "1.2.0",
            "_view_name": "StyleView",
            "description_width": ""
          }
        },
        "8e61a6708a4749778d39945c215b2911": {
          "model_module": "@jupyter-widgets/controls",
          "model_name": "HBoxModel",
          "model_module_version": "1.5.0",
          "state": {
            "_dom_classes": [],
            "_model_module": "@jupyter-widgets/controls",
            "_model_module_version": "1.5.0",
            "_model_name": "HBoxModel",
            "_view_count": null,
            "_view_module": "@jupyter-widgets/controls",
            "_view_module_version": "1.5.0",
            "_view_name": "HBoxView",
            "box_style": "",
            "children": [
              "IPY_MODEL_93cd1ddef46046739de54a1e8e11246b",
              "IPY_MODEL_897b2574f97f4a5b9ebbb62f1efd6673",
              "IPY_MODEL_616e234521aa44aeb0aee2d5d5ef6b28"
            ],
            "layout": "IPY_MODEL_ecb52c2c422a4c15b0239d69caceed1c"
          }
        },
        "93cd1ddef46046739de54a1e8e11246b": {
          "model_module": "@jupyter-widgets/controls",
          "model_name": "HTMLModel",
          "model_module_version": "1.5.0",
          "state": {
            "_dom_classes": [],
            "_model_module": "@jupyter-widgets/controls",
            "_model_module_version": "1.5.0",
            "_model_name": "HTMLModel",
            "_view_count": null,
            "_view_module": "@jupyter-widgets/controls",
            "_view_module_version": "1.5.0",
            "_view_name": "HTMLView",
            "description": "",
            "description_tooltip": null,
            "layout": "IPY_MODEL_e26ab1bc3f924401ae9c2cc48e0652fb",
            "placeholder": "​",
            "style": "IPY_MODEL_c1d3e202fdc545c781cabb6a623bd6d9",
            "value": "Downloading (…)&quot;tf_model.h5&quot;;: 100%"
          }
        },
        "897b2574f97f4a5b9ebbb62f1efd6673": {
          "model_module": "@jupyter-widgets/controls",
          "model_name": "FloatProgressModel",
          "model_module_version": "1.5.0",
          "state": {
            "_dom_classes": [],
            "_model_module": "@jupyter-widgets/controls",
            "_model_module_version": "1.5.0",
            "_model_name": "FloatProgressModel",
            "_view_count": null,
            "_view_module": "@jupyter-widgets/controls",
            "_view_module_version": "1.5.0",
            "_view_name": "ProgressView",
            "bar_style": "success",
            "description": "",
            "description_tooltip": null,
            "layout": "IPY_MODEL_6a367c9623a648dbb0ebc87edcd5c45b",
            "max": 657434796,
            "min": 0,
            "orientation": "horizontal",
            "style": "IPY_MODEL_a7821edb09d54d0394959b043577d43d",
            "value": 657434796
          }
        },
        "616e234521aa44aeb0aee2d5d5ef6b28": {
          "model_module": "@jupyter-widgets/controls",
          "model_name": "HTMLModel",
          "model_module_version": "1.5.0",
          "state": {
            "_dom_classes": [],
            "_model_module": "@jupyter-widgets/controls",
            "_model_module_version": "1.5.0",
            "_model_name": "HTMLModel",
            "_view_count": null,
            "_view_module": "@jupyter-widgets/controls",
            "_view_module_version": "1.5.0",
            "_view_name": "HTMLView",
            "description": "",
            "description_tooltip": null,
            "layout": "IPY_MODEL_2b816a8f28a74748be9395a03072bece",
            "placeholder": "​",
            "style": "IPY_MODEL_3931d79319c24a1198dbcd8406bbc09a",
            "value": " 657M/657M [00:09&lt;00:00, 66.7MB/s]"
          }
        },
        "ecb52c2c422a4c15b0239d69caceed1c": {
          "model_module": "@jupyter-widgets/base",
          "model_name": "LayoutModel",
          "model_module_version": "1.2.0",
          "state": {
            "_model_module": "@jupyter-widgets/base",
            "_model_module_version": "1.2.0",
            "_model_name": "LayoutModel",
            "_view_count": null,
            "_view_module": "@jupyter-widgets/base",
            "_view_module_version": "1.2.0",
            "_view_name": "LayoutView",
            "align_content": null,
            "align_items": null,
            "align_self": null,
            "border": null,
            "bottom": null,
            "display": null,
            "flex": null,
            "flex_flow": null,
            "grid_area": null,
            "grid_auto_columns": null,
            "grid_auto_flow": null,
            "grid_auto_rows": null,
            "grid_column": null,
            "grid_gap": null,
            "grid_row": null,
            "grid_template_areas": null,
            "grid_template_columns": null,
            "grid_template_rows": null,
            "height": null,
            "justify_content": null,
            "justify_items": null,
            "left": null,
            "margin": null,
            "max_height": null,
            "max_width": null,
            "min_height": null,
            "min_width": null,
            "object_fit": null,
            "object_position": null,
            "order": null,
            "overflow": null,
            "overflow_x": null,
            "overflow_y": null,
            "padding": null,
            "right": null,
            "top": null,
            "visibility": null,
            "width": null
          }
        },
        "e26ab1bc3f924401ae9c2cc48e0652fb": {
          "model_module": "@jupyter-widgets/base",
          "model_name": "LayoutModel",
          "model_module_version": "1.2.0",
          "state": {
            "_model_module": "@jupyter-widgets/base",
            "_model_module_version": "1.2.0",
            "_model_name": "LayoutModel",
            "_view_count": null,
            "_view_module": "@jupyter-widgets/base",
            "_view_module_version": "1.2.0",
            "_view_name": "LayoutView",
            "align_content": null,
            "align_items": null,
            "align_self": null,
            "border": null,
            "bottom": null,
            "display": null,
            "flex": null,
            "flex_flow": null,
            "grid_area": null,
            "grid_auto_columns": null,
            "grid_auto_flow": null,
            "grid_auto_rows": null,
            "grid_column": null,
            "grid_gap": null,
            "grid_row": null,
            "grid_template_areas": null,
            "grid_template_columns": null,
            "grid_template_rows": null,
            "height": null,
            "justify_content": null,
            "justify_items": null,
            "left": null,
            "margin": null,
            "max_height": null,
            "max_width": null,
            "min_height": null,
            "min_width": null,
            "object_fit": null,
            "object_position": null,
            "order": null,
            "overflow": null,
            "overflow_x": null,
            "overflow_y": null,
            "padding": null,
            "right": null,
            "top": null,
            "visibility": null,
            "width": null
          }
        },
        "c1d3e202fdc545c781cabb6a623bd6d9": {
          "model_module": "@jupyter-widgets/controls",
          "model_name": "DescriptionStyleModel",
          "model_module_version": "1.5.0",
          "state": {
            "_model_module": "@jupyter-widgets/controls",
            "_model_module_version": "1.5.0",
            "_model_name": "DescriptionStyleModel",
            "_view_count": null,
            "_view_module": "@jupyter-widgets/base",
            "_view_module_version": "1.2.0",
            "_view_name": "StyleView",
            "description_width": ""
          }
        },
        "6a367c9623a648dbb0ebc87edcd5c45b": {
          "model_module": "@jupyter-widgets/base",
          "model_name": "LayoutModel",
          "model_module_version": "1.2.0",
          "state": {
            "_model_module": "@jupyter-widgets/base",
            "_model_module_version": "1.2.0",
            "_model_name": "LayoutModel",
            "_view_count": null,
            "_view_module": "@jupyter-widgets/base",
            "_view_module_version": "1.2.0",
            "_view_name": "LayoutView",
            "align_content": null,
            "align_items": null,
            "align_self": null,
            "border": null,
            "bottom": null,
            "display": null,
            "flex": null,
            "flex_flow": null,
            "grid_area": null,
            "grid_auto_columns": null,
            "grid_auto_flow": null,
            "grid_auto_rows": null,
            "grid_column": null,
            "grid_gap": null,
            "grid_row": null,
            "grid_template_areas": null,
            "grid_template_columns": null,
            "grid_template_rows": null,
            "height": null,
            "justify_content": null,
            "justify_items": null,
            "left": null,
            "margin": null,
            "max_height": null,
            "max_width": null,
            "min_height": null,
            "min_width": null,
            "object_fit": null,
            "object_position": null,
            "order": null,
            "overflow": null,
            "overflow_x": null,
            "overflow_y": null,
            "padding": null,
            "right": null,
            "top": null,
            "visibility": null,
            "width": null
          }
        },
        "a7821edb09d54d0394959b043577d43d": {
          "model_module": "@jupyter-widgets/controls",
          "model_name": "ProgressStyleModel",
          "model_module_version": "1.5.0",
          "state": {
            "_model_module": "@jupyter-widgets/controls",
            "_model_module_version": "1.5.0",
            "_model_name": "ProgressStyleModel",
            "_view_count": null,
            "_view_module": "@jupyter-widgets/base",
            "_view_module_version": "1.2.0",
            "_view_name": "StyleView",
            "bar_color": null,
            "description_width": ""
          }
        },
        "2b816a8f28a74748be9395a03072bece": {
          "model_module": "@jupyter-widgets/base",
          "model_name": "LayoutModel",
          "model_module_version": "1.2.0",
          "state": {
            "_model_module": "@jupyter-widgets/base",
            "_model_module_version": "1.2.0",
            "_model_name": "LayoutModel",
            "_view_count": null,
            "_view_module": "@jupyter-widgets/base",
            "_view_module_version": "1.2.0",
            "_view_name": "LayoutView",
            "align_content": null,
            "align_items": null,
            "align_self": null,
            "border": null,
            "bottom": null,
            "display": null,
            "flex": null,
            "flex_flow": null,
            "grid_area": null,
            "grid_auto_columns": null,
            "grid_auto_flow": null,
            "grid_auto_rows": null,
            "grid_column": null,
            "grid_gap": null,
            "grid_row": null,
            "grid_template_areas": null,
            "grid_template_columns": null,
            "grid_template_rows": null,
            "height": null,
            "justify_content": null,
            "justify_items": null,
            "left": null,
            "margin": null,
            "max_height": null,
            "max_width": null,
            "min_height": null,
            "min_width": null,
            "object_fit": null,
            "object_position": null,
            "order": null,
            "overflow": null,
            "overflow_x": null,
            "overflow_y": null,
            "padding": null,
            "right": null,
            "top": null,
            "visibility": null,
            "width": null
          }
        },
        "3931d79319c24a1198dbcd8406bbc09a": {
          "model_module": "@jupyter-widgets/controls",
          "model_name": "DescriptionStyleModel",
          "model_module_version": "1.5.0",
          "state": {
            "_model_module": "@jupyter-widgets/controls",
            "_model_module_version": "1.5.0",
            "_model_name": "DescriptionStyleModel",
            "_view_count": null,
            "_view_module": "@jupyter-widgets/base",
            "_view_module_version": "1.2.0",
            "_view_name": "StyleView",
            "description_width": ""
          }
        },
        "463b765e84464d5a9020ab71ecb96097": {
          "model_module": "@jupyter-widgets/controls",
          "model_name": "HBoxModel",
          "model_module_version": "1.5.0",
          "state": {
            "_dom_classes": [],
            "_model_module": "@jupyter-widgets/controls",
            "_model_module_version": "1.5.0",
            "_model_name": "HBoxModel",
            "_view_count": null,
            "_view_module": "@jupyter-widgets/controls",
            "_view_module_version": "1.5.0",
            "_view_name": "HBoxView",
            "box_style": "",
            "children": [
              "IPY_MODEL_b6fd4de6f3b94f8e845dbae051ed5f02",
              "IPY_MODEL_815ef249da8c4a5ca3eaca07c92c2cf0",
              "IPY_MODEL_4867192222c34a9c9787f19a0e3df8d6"
            ],
            "layout": "IPY_MODEL_f0de8547a91748b39210e0e4f40bcf9a"
          }
        },
        "b6fd4de6f3b94f8e845dbae051ed5f02": {
          "model_module": "@jupyter-widgets/controls",
          "model_name": "HTMLModel",
          "model_module_version": "1.5.0",
          "state": {
            "_dom_classes": [],
            "_model_module": "@jupyter-widgets/controls",
            "_model_module_version": "1.5.0",
            "_model_name": "HTMLModel",
            "_view_count": null,
            "_view_module": "@jupyter-widgets/controls",
            "_view_module_version": "1.5.0",
            "_view_name": "HTMLView",
            "description": "",
            "description_tooltip": null,
            "layout": "IPY_MODEL_15719175960149509083227d15583cc0",
            "placeholder": "​",
            "style": "IPY_MODEL_782081b84bd84983a4768a95c688139c",
            "value": "Downloading (…)okenizer_config.json: 100%"
          }
        },
        "815ef249da8c4a5ca3eaca07c92c2cf0": {
          "model_module": "@jupyter-widgets/controls",
          "model_name": "FloatProgressModel",
          "model_module_version": "1.5.0",
          "state": {
            "_dom_classes": [],
            "_model_module": "@jupyter-widgets/controls",
            "_model_module_version": "1.5.0",
            "_model_name": "FloatProgressModel",
            "_view_count": null,
            "_view_module": "@jupyter-widgets/controls",
            "_view_module_version": "1.5.0",
            "_view_name": "ProgressView",
            "bar_style": "success",
            "description": "",
            "description_tooltip": null,
            "layout": "IPY_MODEL_0b46ec7e68fe4e40b39009421ba49f75",
            "max": 52,
            "min": 0,
            "orientation": "horizontal",
            "style": "IPY_MODEL_05907fbf80934a9e843df1b36dae1039",
            "value": 52
          }
        },
        "4867192222c34a9c9787f19a0e3df8d6": {
          "model_module": "@jupyter-widgets/controls",
          "model_name": "HTMLModel",
          "model_module_version": "1.5.0",
          "state": {
            "_dom_classes": [],
            "_model_module": "@jupyter-widgets/controls",
            "_model_module_version": "1.5.0",
            "_model_name": "HTMLModel",
            "_view_count": null,
            "_view_module": "@jupyter-widgets/controls",
            "_view_module_version": "1.5.0",
            "_view_name": "HTMLView",
            "description": "",
            "description_tooltip": null,
            "layout": "IPY_MODEL_b4b0cd1342bb4c769de23e24baa07dd4",
            "placeholder": "​",
            "style": "IPY_MODEL_d49f228c201948d1a72a55e772e3f1de",
            "value": " 52.0/52.0 [00:00&lt;00:00, 2.75kB/s]"
          }
        },
        "f0de8547a91748b39210e0e4f40bcf9a": {
          "model_module": "@jupyter-widgets/base",
          "model_name": "LayoutModel",
          "model_module_version": "1.2.0",
          "state": {
            "_model_module": "@jupyter-widgets/base",
            "_model_module_version": "1.2.0",
            "_model_name": "LayoutModel",
            "_view_count": null,
            "_view_module": "@jupyter-widgets/base",
            "_view_module_version": "1.2.0",
            "_view_name": "LayoutView",
            "align_content": null,
            "align_items": null,
            "align_self": null,
            "border": null,
            "bottom": null,
            "display": null,
            "flex": null,
            "flex_flow": null,
            "grid_area": null,
            "grid_auto_columns": null,
            "grid_auto_flow": null,
            "grid_auto_rows": null,
            "grid_column": null,
            "grid_gap": null,
            "grid_row": null,
            "grid_template_areas": null,
            "grid_template_columns": null,
            "grid_template_rows": null,
            "height": null,
            "justify_content": null,
            "justify_items": null,
            "left": null,
            "margin": null,
            "max_height": null,
            "max_width": null,
            "min_height": null,
            "min_width": null,
            "object_fit": null,
            "object_position": null,
            "order": null,
            "overflow": null,
            "overflow_x": null,
            "overflow_y": null,
            "padding": null,
            "right": null,
            "top": null,
            "visibility": null,
            "width": null
          }
        },
        "15719175960149509083227d15583cc0": {
          "model_module": "@jupyter-widgets/base",
          "model_name": "LayoutModel",
          "model_module_version": "1.2.0",
          "state": {
            "_model_module": "@jupyter-widgets/base",
            "_model_module_version": "1.2.0",
            "_model_name": "LayoutModel",
            "_view_count": null,
            "_view_module": "@jupyter-widgets/base",
            "_view_module_version": "1.2.0",
            "_view_name": "LayoutView",
            "align_content": null,
            "align_items": null,
            "align_self": null,
            "border": null,
            "bottom": null,
            "display": null,
            "flex": null,
            "flex_flow": null,
            "grid_area": null,
            "grid_auto_columns": null,
            "grid_auto_flow": null,
            "grid_auto_rows": null,
            "grid_column": null,
            "grid_gap": null,
            "grid_row": null,
            "grid_template_areas": null,
            "grid_template_columns": null,
            "grid_template_rows": null,
            "height": null,
            "justify_content": null,
            "justify_items": null,
            "left": null,
            "margin": null,
            "max_height": null,
            "max_width": null,
            "min_height": null,
            "min_width": null,
            "object_fit": null,
            "object_position": null,
            "order": null,
            "overflow": null,
            "overflow_x": null,
            "overflow_y": null,
            "padding": null,
            "right": null,
            "top": null,
            "visibility": null,
            "width": null
          }
        },
        "782081b84bd84983a4768a95c688139c": {
          "model_module": "@jupyter-widgets/controls",
          "model_name": "DescriptionStyleModel",
          "model_module_version": "1.5.0",
          "state": {
            "_model_module": "@jupyter-widgets/controls",
            "_model_module_version": "1.5.0",
            "_model_name": "DescriptionStyleModel",
            "_view_count": null,
            "_view_module": "@jupyter-widgets/base",
            "_view_module_version": "1.2.0",
            "_view_name": "StyleView",
            "description_width": ""
          }
        },
        "0b46ec7e68fe4e40b39009421ba49f75": {
          "model_module": "@jupyter-widgets/base",
          "model_name": "LayoutModel",
          "model_module_version": "1.2.0",
          "state": {
            "_model_module": "@jupyter-widgets/base",
            "_model_module_version": "1.2.0",
            "_model_name": "LayoutModel",
            "_view_count": null,
            "_view_module": "@jupyter-widgets/base",
            "_view_module_version": "1.2.0",
            "_view_name": "LayoutView",
            "align_content": null,
            "align_items": null,
            "align_self": null,
            "border": null,
            "bottom": null,
            "display": null,
            "flex": null,
            "flex_flow": null,
            "grid_area": null,
            "grid_auto_columns": null,
            "grid_auto_flow": null,
            "grid_auto_rows": null,
            "grid_column": null,
            "grid_gap": null,
            "grid_row": null,
            "grid_template_areas": null,
            "grid_template_columns": null,
            "grid_template_rows": null,
            "height": null,
            "justify_content": null,
            "justify_items": null,
            "left": null,
            "margin": null,
            "max_height": null,
            "max_width": null,
            "min_height": null,
            "min_width": null,
            "object_fit": null,
            "object_position": null,
            "order": null,
            "overflow": null,
            "overflow_x": null,
            "overflow_y": null,
            "padding": null,
            "right": null,
            "top": null,
            "visibility": null,
            "width": null
          }
        },
        "05907fbf80934a9e843df1b36dae1039": {
          "model_module": "@jupyter-widgets/controls",
          "model_name": "ProgressStyleModel",
          "model_module_version": "1.5.0",
          "state": {
            "_model_module": "@jupyter-widgets/controls",
            "_model_module_version": "1.5.0",
            "_model_name": "ProgressStyleModel",
            "_view_count": null,
            "_view_module": "@jupyter-widgets/base",
            "_view_module_version": "1.2.0",
            "_view_name": "StyleView",
            "bar_color": null,
            "description_width": ""
          }
        },
        "b4b0cd1342bb4c769de23e24baa07dd4": {
          "model_module": "@jupyter-widgets/base",
          "model_name": "LayoutModel",
          "model_module_version": "1.2.0",
          "state": {
            "_model_module": "@jupyter-widgets/base",
            "_model_module_version": "1.2.0",
            "_model_name": "LayoutModel",
            "_view_count": null,
            "_view_module": "@jupyter-widgets/base",
            "_view_module_version": "1.2.0",
            "_view_name": "LayoutView",
            "align_content": null,
            "align_items": null,
            "align_self": null,
            "border": null,
            "bottom": null,
            "display": null,
            "flex": null,
            "flex_flow": null,
            "grid_area": null,
            "grid_auto_columns": null,
            "grid_auto_flow": null,
            "grid_auto_rows": null,
            "grid_column": null,
            "grid_gap": null,
            "grid_row": null,
            "grid_template_areas": null,
            "grid_template_columns": null,
            "grid_template_rows": null,
            "height": null,
            "justify_content": null,
            "justify_items": null,
            "left": null,
            "margin": null,
            "max_height": null,
            "max_width": null,
            "min_height": null,
            "min_width": null,
            "object_fit": null,
            "object_position": null,
            "order": null,
            "overflow": null,
            "overflow_x": null,
            "overflow_y": null,
            "padding": null,
            "right": null,
            "top": null,
            "visibility": null,
            "width": null
          }
        },
        "d49f228c201948d1a72a55e772e3f1de": {
          "model_module": "@jupyter-widgets/controls",
          "model_name": "DescriptionStyleModel",
          "model_module_version": "1.5.0",
          "state": {
            "_model_module": "@jupyter-widgets/controls",
            "_model_module_version": "1.5.0",
            "_model_name": "DescriptionStyleModel",
            "_view_count": null,
            "_view_module": "@jupyter-widgets/base",
            "_view_module_version": "1.2.0",
            "_view_name": "StyleView",
            "description_width": ""
          }
        },
        "83155f87fb7843b2b326acb7ec1d3943": {
          "model_module": "@jupyter-widgets/controls",
          "model_name": "HBoxModel",
          "model_module_version": "1.5.0",
          "state": {
            "_dom_classes": [],
            "_model_module": "@jupyter-widgets/controls",
            "_model_module_version": "1.5.0",
            "_model_name": "HBoxModel",
            "_view_count": null,
            "_view_module": "@jupyter-widgets/controls",
            "_view_module_version": "1.5.0",
            "_view_name": "HBoxView",
            "box_style": "",
            "children": [
              "IPY_MODEL_8d3a4b3ebc804fbea5ea2119a521b8d9",
              "IPY_MODEL_7acab6d689874fca94472ac2e61db8af",
              "IPY_MODEL_54c955107a6f400fb799b4aac86ddc31"
            ],
            "layout": "IPY_MODEL_59287a53a0a34df7ae84901e57c8c2ca"
          }
        },
        "8d3a4b3ebc804fbea5ea2119a521b8d9": {
          "model_module": "@jupyter-widgets/controls",
          "model_name": "HTMLModel",
          "model_module_version": "1.5.0",
          "state": {
            "_dom_classes": [],
            "_model_module": "@jupyter-widgets/controls",
            "_model_module_version": "1.5.0",
            "_model_name": "HTMLModel",
            "_view_count": null,
            "_view_module": "@jupyter-widgets/controls",
            "_view_module_version": "1.5.0",
            "_view_name": "HTMLView",
            "description": "",
            "description_tooltip": null,
            "layout": "IPY_MODEL_3dad9343bfc44e138c0b45be397801df",
            "placeholder": "​",
            "style": "IPY_MODEL_ca040fa4e84a4c9090f2bb5128e34f4c",
            "value": "Downloading (…)lve/main/config.json: 100%"
          }
        },
        "7acab6d689874fca94472ac2e61db8af": {
          "model_module": "@jupyter-widgets/controls",
          "model_name": "FloatProgressModel",
          "model_module_version": "1.5.0",
          "state": {
            "_dom_classes": [],
            "_model_module": "@jupyter-widgets/controls",
            "_model_module_version": "1.5.0",
            "_model_name": "FloatProgressModel",
            "_view_count": null,
            "_view_module": "@jupyter-widgets/controls",
            "_view_module_version": "1.5.0",
            "_view_name": "ProgressView",
            "bar_style": "success",
            "description": "",
            "description_tooltip": null,
            "layout": "IPY_MODEL_8b761ee415bf4c84bdca1b73cad3e520",
            "max": 579,
            "min": 0,
            "orientation": "horizontal",
            "style": "IPY_MODEL_a744f8071f6c4e3b98dc8a4c8863c38e",
            "value": 579
          }
        },
        "54c955107a6f400fb799b4aac86ddc31": {
          "model_module": "@jupyter-widgets/controls",
          "model_name": "HTMLModel",
          "model_module_version": "1.5.0",
          "state": {
            "_dom_classes": [],
            "_model_module": "@jupyter-widgets/controls",
            "_model_module_version": "1.5.0",
            "_model_name": "HTMLModel",
            "_view_count": null,
            "_view_module": "@jupyter-widgets/controls",
            "_view_module_version": "1.5.0",
            "_view_name": "HTMLView",
            "description": "",
            "description_tooltip": null,
            "layout": "IPY_MODEL_b4af8b42c7c64cc8a742d2ffda07c442",
            "placeholder": "​",
            "style": "IPY_MODEL_e989e8ccc18f4dd5be019fde55d17db2",
            "value": " 579/579 [00:00&lt;00:00, 40.1kB/s]"
          }
        },
        "59287a53a0a34df7ae84901e57c8c2ca": {
          "model_module": "@jupyter-widgets/base",
          "model_name": "LayoutModel",
          "model_module_version": "1.2.0",
          "state": {
            "_model_module": "@jupyter-widgets/base",
            "_model_module_version": "1.2.0",
            "_model_name": "LayoutModel",
            "_view_count": null,
            "_view_module": "@jupyter-widgets/base",
            "_view_module_version": "1.2.0",
            "_view_name": "LayoutView",
            "align_content": null,
            "align_items": null,
            "align_self": null,
            "border": null,
            "bottom": null,
            "display": null,
            "flex": null,
            "flex_flow": null,
            "grid_area": null,
            "grid_auto_columns": null,
            "grid_auto_flow": null,
            "grid_auto_rows": null,
            "grid_column": null,
            "grid_gap": null,
            "grid_row": null,
            "grid_template_areas": null,
            "grid_template_columns": null,
            "grid_template_rows": null,
            "height": null,
            "justify_content": null,
            "justify_items": null,
            "left": null,
            "margin": null,
            "max_height": null,
            "max_width": null,
            "min_height": null,
            "min_width": null,
            "object_fit": null,
            "object_position": null,
            "order": null,
            "overflow": null,
            "overflow_x": null,
            "overflow_y": null,
            "padding": null,
            "right": null,
            "top": null,
            "visibility": null,
            "width": null
          }
        },
        "3dad9343bfc44e138c0b45be397801df": {
          "model_module": "@jupyter-widgets/base",
          "model_name": "LayoutModel",
          "model_module_version": "1.2.0",
          "state": {
            "_model_module": "@jupyter-widgets/base",
            "_model_module_version": "1.2.0",
            "_model_name": "LayoutModel",
            "_view_count": null,
            "_view_module": "@jupyter-widgets/base",
            "_view_module_version": "1.2.0",
            "_view_name": "LayoutView",
            "align_content": null,
            "align_items": null,
            "align_self": null,
            "border": null,
            "bottom": null,
            "display": null,
            "flex": null,
            "flex_flow": null,
            "grid_area": null,
            "grid_auto_columns": null,
            "grid_auto_flow": null,
            "grid_auto_rows": null,
            "grid_column": null,
            "grid_gap": null,
            "grid_row": null,
            "grid_template_areas": null,
            "grid_template_columns": null,
            "grid_template_rows": null,
            "height": null,
            "justify_content": null,
            "justify_items": null,
            "left": null,
            "margin": null,
            "max_height": null,
            "max_width": null,
            "min_height": null,
            "min_width": null,
            "object_fit": null,
            "object_position": null,
            "order": null,
            "overflow": null,
            "overflow_x": null,
            "overflow_y": null,
            "padding": null,
            "right": null,
            "top": null,
            "visibility": null,
            "width": null
          }
        },
        "ca040fa4e84a4c9090f2bb5128e34f4c": {
          "model_module": "@jupyter-widgets/controls",
          "model_name": "DescriptionStyleModel",
          "model_module_version": "1.5.0",
          "state": {
            "_model_module": "@jupyter-widgets/controls",
            "_model_module_version": "1.5.0",
            "_model_name": "DescriptionStyleModel",
            "_view_count": null,
            "_view_module": "@jupyter-widgets/base",
            "_view_module_version": "1.2.0",
            "_view_name": "StyleView",
            "description_width": ""
          }
        },
        "8b761ee415bf4c84bdca1b73cad3e520": {
          "model_module": "@jupyter-widgets/base",
          "model_name": "LayoutModel",
          "model_module_version": "1.2.0",
          "state": {
            "_model_module": "@jupyter-widgets/base",
            "_model_module_version": "1.2.0",
            "_model_name": "LayoutModel",
            "_view_count": null,
            "_view_module": "@jupyter-widgets/base",
            "_view_module_version": "1.2.0",
            "_view_name": "LayoutView",
            "align_content": null,
            "align_items": null,
            "align_self": null,
            "border": null,
            "bottom": null,
            "display": null,
            "flex": null,
            "flex_flow": null,
            "grid_area": null,
            "grid_auto_columns": null,
            "grid_auto_flow": null,
            "grid_auto_rows": null,
            "grid_column": null,
            "grid_gap": null,
            "grid_row": null,
            "grid_template_areas": null,
            "grid_template_columns": null,
            "grid_template_rows": null,
            "height": null,
            "justify_content": null,
            "justify_items": null,
            "left": null,
            "margin": null,
            "max_height": null,
            "max_width": null,
            "min_height": null,
            "min_width": null,
            "object_fit": null,
            "object_position": null,
            "order": null,
            "overflow": null,
            "overflow_x": null,
            "overflow_y": null,
            "padding": null,
            "right": null,
            "top": null,
            "visibility": null,
            "width": null
          }
        },
        "a744f8071f6c4e3b98dc8a4c8863c38e": {
          "model_module": "@jupyter-widgets/controls",
          "model_name": "ProgressStyleModel",
          "model_module_version": "1.5.0",
          "state": {
            "_model_module": "@jupyter-widgets/controls",
            "_model_module_version": "1.5.0",
            "_model_name": "ProgressStyleModel",
            "_view_count": null,
            "_view_module": "@jupyter-widgets/base",
            "_view_module_version": "1.2.0",
            "_view_name": "StyleView",
            "bar_color": null,
            "description_width": ""
          }
        },
        "b4af8b42c7c64cc8a742d2ffda07c442": {
          "model_module": "@jupyter-widgets/base",
          "model_name": "LayoutModel",
          "model_module_version": "1.2.0",
          "state": {
            "_model_module": "@jupyter-widgets/base",
            "_model_module_version": "1.2.0",
            "_model_name": "LayoutModel",
            "_view_count": null,
            "_view_module": "@jupyter-widgets/base",
            "_view_module_version": "1.2.0",
            "_view_name": "LayoutView",
            "align_content": null,
            "align_items": null,
            "align_self": null,
            "border": null,
            "bottom": null,
            "display": null,
            "flex": null,
            "flex_flow": null,
            "grid_area": null,
            "grid_auto_columns": null,
            "grid_auto_flow": null,
            "grid_auto_rows": null,
            "grid_column": null,
            "grid_gap": null,
            "grid_row": null,
            "grid_template_areas": null,
            "grid_template_columns": null,
            "grid_template_rows": null,
            "height": null,
            "justify_content": null,
            "justify_items": null,
            "left": null,
            "margin": null,
            "max_height": null,
            "max_width": null,
            "min_height": null,
            "min_width": null,
            "object_fit": null,
            "object_position": null,
            "order": null,
            "overflow": null,
            "overflow_x": null,
            "overflow_y": null,
            "padding": null,
            "right": null,
            "top": null,
            "visibility": null,
            "width": null
          }
        },
        "e989e8ccc18f4dd5be019fde55d17db2": {
          "model_module": "@jupyter-widgets/controls",
          "model_name": "DescriptionStyleModel",
          "model_module_version": "1.5.0",
          "state": {
            "_model_module": "@jupyter-widgets/controls",
            "_model_module_version": "1.5.0",
            "_model_name": "DescriptionStyleModel",
            "_view_count": null,
            "_view_module": "@jupyter-widgets/base",
            "_view_module_version": "1.2.0",
            "_view_name": "StyleView",
            "description_width": ""
          }
        },
        "2c8de8aa4f1944e78813025af6a03ff3": {
          "model_module": "@jupyter-widgets/controls",
          "model_name": "HBoxModel",
          "model_module_version": "1.5.0",
          "state": {
            "_dom_classes": [],
            "_model_module": "@jupyter-widgets/controls",
            "_model_module_version": "1.5.0",
            "_model_name": "HBoxModel",
            "_view_count": null,
            "_view_module": "@jupyter-widgets/controls",
            "_view_module_version": "1.5.0",
            "_view_name": "HBoxView",
            "box_style": "",
            "children": [
              "IPY_MODEL_2f68e2a1bd9c4ba787fe6585a545a325",
              "IPY_MODEL_894ccf89d8ce4776bb75d99ddb0dcbc3",
              "IPY_MODEL_d76fa5041bbf45698ba6bd7c671eec09"
            ],
            "layout": "IPY_MODEL_9dc642510ee9474593e2785102ca7fe4"
          }
        },
        "2f68e2a1bd9c4ba787fe6585a545a325": {
          "model_module": "@jupyter-widgets/controls",
          "model_name": "HTMLModel",
          "model_module_version": "1.5.0",
          "state": {
            "_dom_classes": [],
            "_model_module": "@jupyter-widgets/controls",
            "_model_module_version": "1.5.0",
            "_model_name": "HTMLModel",
            "_view_count": null,
            "_view_module": "@jupyter-widgets/controls",
            "_view_module_version": "1.5.0",
            "_view_name": "HTMLView",
            "description": "",
            "description_tooltip": null,
            "layout": "IPY_MODEL_a257a1a53706421ba90c277d6b0b0a2e",
            "placeholder": "​",
            "style": "IPY_MODEL_3f0f619fa54148a3a61945358e8ccad4",
            "value": "Downloading (…)&quot;spm.model&quot;;: 100%"
          }
        },
        "894ccf89d8ce4776bb75d99ddb0dcbc3": {
          "model_module": "@jupyter-widgets/controls",
          "model_name": "FloatProgressModel",
          "model_module_version": "1.5.0",
          "state": {
            "_dom_classes": [],
            "_model_module": "@jupyter-widgets/controls",
            "_model_module_version": "1.5.0",
            "_model_name": "FloatProgressModel",
            "_view_count": null,
            "_view_module": "@jupyter-widgets/controls",
            "_view_module_version": "1.5.0",
            "_view_name": "ProgressView",
            "bar_style": "success",
            "description": "",
            "description_tooltip": null,
            "layout": "IPY_MODEL_fed8c9a4d08c4667a92c3ce0a616bbd1",
            "max": 2464616,
            "min": 0,
            "orientation": "horizontal",
            "style": "IPY_MODEL_ed66b5c7640a4066974dc5afc54bb5c5",
            "value": 2464616
          }
        },
        "d76fa5041bbf45698ba6bd7c671eec09": {
          "model_module": "@jupyter-widgets/controls",
          "model_name": "HTMLModel",
          "model_module_version": "1.5.0",
          "state": {
            "_dom_classes": [],
            "_model_module": "@jupyter-widgets/controls",
            "_model_module_version": "1.5.0",
            "_model_name": "HTMLModel",
            "_view_count": null,
            "_view_module": "@jupyter-widgets/controls",
            "_view_module_version": "1.5.0",
            "_view_name": "HTMLView",
            "description": "",
            "description_tooltip": null,
            "layout": "IPY_MODEL_e063b754f5af4638bcd709282ab6648e",
            "placeholder": "​",
            "style": "IPY_MODEL_18c5dfcf33b44da5a58fc46a981afdde",
            "value": " 2.46M/2.46M [00:00&lt;00:00, 80.9MB/s]"
          }
        },
        "9dc642510ee9474593e2785102ca7fe4": {
          "model_module": "@jupyter-widgets/base",
          "model_name": "LayoutModel",
          "model_module_version": "1.2.0",
          "state": {
            "_model_module": "@jupyter-widgets/base",
            "_model_module_version": "1.2.0",
            "_model_name": "LayoutModel",
            "_view_count": null,
            "_view_module": "@jupyter-widgets/base",
            "_view_module_version": "1.2.0",
            "_view_name": "LayoutView",
            "align_content": null,
            "align_items": null,
            "align_self": null,
            "border": null,
            "bottom": null,
            "display": null,
            "flex": null,
            "flex_flow": null,
            "grid_area": null,
            "grid_auto_columns": null,
            "grid_auto_flow": null,
            "grid_auto_rows": null,
            "grid_column": null,
            "grid_gap": null,
            "grid_row": null,
            "grid_template_areas": null,
            "grid_template_columns": null,
            "grid_template_rows": null,
            "height": null,
            "justify_content": null,
            "justify_items": null,
            "left": null,
            "margin": null,
            "max_height": null,
            "max_width": null,
            "min_height": null,
            "min_width": null,
            "object_fit": null,
            "object_position": null,
            "order": null,
            "overflow": null,
            "overflow_x": null,
            "overflow_y": null,
            "padding": null,
            "right": null,
            "top": null,
            "visibility": null,
            "width": null
          }
        },
        "a257a1a53706421ba90c277d6b0b0a2e": {
          "model_module": "@jupyter-widgets/base",
          "model_name": "LayoutModel",
          "model_module_version": "1.2.0",
          "state": {
            "_model_module": "@jupyter-widgets/base",
            "_model_module_version": "1.2.0",
            "_model_name": "LayoutModel",
            "_view_count": null,
            "_view_module": "@jupyter-widgets/base",
            "_view_module_version": "1.2.0",
            "_view_name": "LayoutView",
            "align_content": null,
            "align_items": null,
            "align_self": null,
            "border": null,
            "bottom": null,
            "display": null,
            "flex": null,
            "flex_flow": null,
            "grid_area": null,
            "grid_auto_columns": null,
            "grid_auto_flow": null,
            "grid_auto_rows": null,
            "grid_column": null,
            "grid_gap": null,
            "grid_row": null,
            "grid_template_areas": null,
            "grid_template_columns": null,
            "grid_template_rows": null,
            "height": null,
            "justify_content": null,
            "justify_items": null,
            "left": null,
            "margin": null,
            "max_height": null,
            "max_width": null,
            "min_height": null,
            "min_width": null,
            "object_fit": null,
            "object_position": null,
            "order": null,
            "overflow": null,
            "overflow_x": null,
            "overflow_y": null,
            "padding": null,
            "right": null,
            "top": null,
            "visibility": null,
            "width": null
          }
        },
        "3f0f619fa54148a3a61945358e8ccad4": {
          "model_module": "@jupyter-widgets/controls",
          "model_name": "DescriptionStyleModel",
          "model_module_version": "1.5.0",
          "state": {
            "_model_module": "@jupyter-widgets/controls",
            "_model_module_version": "1.5.0",
            "_model_name": "DescriptionStyleModel",
            "_view_count": null,
            "_view_module": "@jupyter-widgets/base",
            "_view_module_version": "1.2.0",
            "_view_name": "StyleView",
            "description_width": ""
          }
        },
        "fed8c9a4d08c4667a92c3ce0a616bbd1": {
          "model_module": "@jupyter-widgets/base",
          "model_name": "LayoutModel",
          "model_module_version": "1.2.0",
          "state": {
            "_model_module": "@jupyter-widgets/base",
            "_model_module_version": "1.2.0",
            "_model_name": "LayoutModel",
            "_view_count": null,
            "_view_module": "@jupyter-widgets/base",
            "_view_module_version": "1.2.0",
            "_view_name": "LayoutView",
            "align_content": null,
            "align_items": null,
            "align_self": null,
            "border": null,
            "bottom": null,
            "display": null,
            "flex": null,
            "flex_flow": null,
            "grid_area": null,
            "grid_auto_columns": null,
            "grid_auto_flow": null,
            "grid_auto_rows": null,
            "grid_column": null,
            "grid_gap": null,
            "grid_row": null,
            "grid_template_areas": null,
            "grid_template_columns": null,
            "grid_template_rows": null,
            "height": null,
            "justify_content": null,
            "justify_items": null,
            "left": null,
            "margin": null,
            "max_height": null,
            "max_width": null,
            "min_height": null,
            "min_width": null,
            "object_fit": null,
            "object_position": null,
            "order": null,
            "overflow": null,
            "overflow_x": null,
            "overflow_y": null,
            "padding": null,
            "right": null,
            "top": null,
            "visibility": null,
            "width": null
          }
        },
        "ed66b5c7640a4066974dc5afc54bb5c5": {
          "model_module": "@jupyter-widgets/controls",
          "model_name": "ProgressStyleModel",
          "model_module_version": "1.5.0",
          "state": {
            "_model_module": "@jupyter-widgets/controls",
            "_model_module_version": "1.5.0",
            "_model_name": "ProgressStyleModel",
            "_view_count": null,
            "_view_module": "@jupyter-widgets/base",
            "_view_module_version": "1.2.0",
            "_view_name": "StyleView",
            "bar_color": null,
            "description_width": ""
          }
        },
        "e063b754f5af4638bcd709282ab6648e": {
          "model_module": "@jupyter-widgets/base",
          "model_name": "LayoutModel",
          "model_module_version": "1.2.0",
          "state": {
            "_model_module": "@jupyter-widgets/base",
            "_model_module_version": "1.2.0",
            "_model_name": "LayoutModel",
            "_view_count": null,
            "_view_module": "@jupyter-widgets/base",
            "_view_module_version": "1.2.0",
            "_view_name": "LayoutView",
            "align_content": null,
            "align_items": null,
            "align_self": null,
            "border": null,
            "bottom": null,
            "display": null,
            "flex": null,
            "flex_flow": null,
            "grid_area": null,
            "grid_auto_columns": null,
            "grid_auto_flow": null,
            "grid_auto_rows": null,
            "grid_column": null,
            "grid_gap": null,
            "grid_row": null,
            "grid_template_areas": null,
            "grid_template_columns": null,
            "grid_template_rows": null,
            "height": null,
            "justify_content": null,
            "justify_items": null,
            "left": null,
            "margin": null,
            "max_height": null,
            "max_width": null,
            "min_height": null,
            "min_width": null,
            "object_fit": null,
            "object_position": null,
            "order": null,
            "overflow": null,
            "overflow_x": null,
            "overflow_y": null,
            "padding": null,
            "right": null,
            "top": null,
            "visibility": null,
            "width": null
          }
        },
        "18c5dfcf33b44da5a58fc46a981afdde": {
          "model_module": "@jupyter-widgets/controls",
          "model_name": "DescriptionStyleModel",
          "model_module_version": "1.5.0",
          "state": {
            "_model_module": "@jupyter-widgets/controls",
            "_model_module_version": "1.5.0",
            "_model_name": "DescriptionStyleModel",
            "_view_count": null,
            "_view_module": "@jupyter-widgets/base",
            "_view_module_version": "1.2.0",
            "_view_name": "StyleView",
            "description_width": ""
          }
        },
        "e64533bb9c90434db8ae74e0cc53ee35": {
          "model_module": "@jupyter-widgets/controls",
          "model_name": "HBoxModel",
          "model_module_version": "1.5.0",
          "state": {
            "_dom_classes": [],
            "_model_module": "@jupyter-widgets/controls",
            "_model_module_version": "1.5.0",
            "_model_name": "HBoxModel",
            "_view_count": null,
            "_view_module": "@jupyter-widgets/controls",
            "_view_module_version": "1.5.0",
            "_view_name": "HBoxView",
            "box_style": "",
            "children": [
              "IPY_MODEL_0c38266a0e2a47179dc9d6faefd2c82a",
              "IPY_MODEL_32a6ba5f57414463be4d3f441d06386c",
              "IPY_MODEL_7f8511b8aee54583b341dd463f3af5ab"
            ],
            "layout": "IPY_MODEL_8b00b61d9cdc4e2a82de0f61a73ae5e3"
          }
        },
        "0c38266a0e2a47179dc9d6faefd2c82a": {
          "model_module": "@jupyter-widgets/controls",
          "model_name": "HTMLModel",
          "model_module_version": "1.5.0",
          "state": {
            "_dom_classes": [],
            "_model_module": "@jupyter-widgets/controls",
            "_model_module_version": "1.5.0",
            "_model_name": "HTMLModel",
            "_view_count": null,
            "_view_module": "@jupyter-widgets/controls",
            "_view_module_version": "1.5.0",
            "_view_name": "HTMLView",
            "description": "",
            "description_tooltip": null,
            "layout": "IPY_MODEL_822b15c524b747f3b718b3ceeb799024",
            "placeholder": "​",
            "style": "IPY_MODEL_4476e0184eef406a9286613d8793dd7b",
            "value": "100%"
          }
        },
        "32a6ba5f57414463be4d3f441d06386c": {
          "model_module": "@jupyter-widgets/controls",
          "model_name": "FloatProgressModel",
          "model_module_version": "1.5.0",
          "state": {
            "_dom_classes": [],
            "_model_module": "@jupyter-widgets/controls",
            "_model_module_version": "1.5.0",
            "_model_name": "FloatProgressModel",
            "_view_count": null,
            "_view_module": "@jupyter-widgets/controls",
            "_view_module_version": "1.5.0",
            "_view_name": "ProgressView",
            "bar_style": "success",
            "description": "",
            "description_tooltip": null,
            "layout": "IPY_MODEL_da7042a07879436ba6521995701b4599",
            "max": 914,
            "min": 0,
            "orientation": "horizontal",
            "style": "IPY_MODEL_3ae9c6374f0d4e08857ee6fcc92d5aed",
            "value": 914
          }
        },
        "7f8511b8aee54583b341dd463f3af5ab": {
          "model_module": "@jupyter-widgets/controls",
          "model_name": "HTMLModel",
          "model_module_version": "1.5.0",
          "state": {
            "_dom_classes": [],
            "_model_module": "@jupyter-widgets/controls",
            "_model_module_version": "1.5.0",
            "_model_name": "HTMLModel",
            "_view_count": null,
            "_view_module": "@jupyter-widgets/controls",
            "_view_module_version": "1.5.0",
            "_view_name": "HTMLView",
            "description": "",
            "description_tooltip": null,
            "layout": "IPY_MODEL_12e21652033a4f2f8ab951e67cda18b4",
            "placeholder": "​",
            "style": "IPY_MODEL_6a7ec742ce104f12af3095d36877eeb9",
            "value": " 914/914 [00:00&lt;00:00, 4221.20ex/s]"
          }
        },
        "8b00b61d9cdc4e2a82de0f61a73ae5e3": {
          "model_module": "@jupyter-widgets/base",
          "model_name": "LayoutModel",
          "model_module_version": "1.2.0",
          "state": {
            "_model_module": "@jupyter-widgets/base",
            "_model_module_version": "1.2.0",
            "_model_name": "LayoutModel",
            "_view_count": null,
            "_view_module": "@jupyter-widgets/base",
            "_view_module_version": "1.2.0",
            "_view_name": "LayoutView",
            "align_content": null,
            "align_items": null,
            "align_self": null,
            "border": null,
            "bottom": null,
            "display": null,
            "flex": null,
            "flex_flow": null,
            "grid_area": null,
            "grid_auto_columns": null,
            "grid_auto_flow": null,
            "grid_auto_rows": null,
            "grid_column": null,
            "grid_gap": null,
            "grid_row": null,
            "grid_template_areas": null,
            "grid_template_columns": null,
            "grid_template_rows": null,
            "height": null,
            "justify_content": null,
            "justify_items": null,
            "left": null,
            "margin": null,
            "max_height": null,
            "max_width": null,
            "min_height": null,
            "min_width": null,
            "object_fit": null,
            "object_position": null,
            "order": null,
            "overflow": null,
            "overflow_x": null,
            "overflow_y": null,
            "padding": null,
            "right": null,
            "top": null,
            "visibility": null,
            "width": null
          }
        },
        "822b15c524b747f3b718b3ceeb799024": {
          "model_module": "@jupyter-widgets/base",
          "model_name": "LayoutModel",
          "model_module_version": "1.2.0",
          "state": {
            "_model_module": "@jupyter-widgets/base",
            "_model_module_version": "1.2.0",
            "_model_name": "LayoutModel",
            "_view_count": null,
            "_view_module": "@jupyter-widgets/base",
            "_view_module_version": "1.2.0",
            "_view_name": "LayoutView",
            "align_content": null,
            "align_items": null,
            "align_self": null,
            "border": null,
            "bottom": null,
            "display": null,
            "flex": null,
            "flex_flow": null,
            "grid_area": null,
            "grid_auto_columns": null,
            "grid_auto_flow": null,
            "grid_auto_rows": null,
            "grid_column": null,
            "grid_gap": null,
            "grid_row": null,
            "grid_template_areas": null,
            "grid_template_columns": null,
            "grid_template_rows": null,
            "height": null,
            "justify_content": null,
            "justify_items": null,
            "left": null,
            "margin": null,
            "max_height": null,
            "max_width": null,
            "min_height": null,
            "min_width": null,
            "object_fit": null,
            "object_position": null,
            "order": null,
            "overflow": null,
            "overflow_x": null,
            "overflow_y": null,
            "padding": null,
            "right": null,
            "top": null,
            "visibility": null,
            "width": null
          }
        },
        "4476e0184eef406a9286613d8793dd7b": {
          "model_module": "@jupyter-widgets/controls",
          "model_name": "DescriptionStyleModel",
          "model_module_version": "1.5.0",
          "state": {
            "_model_module": "@jupyter-widgets/controls",
            "_model_module_version": "1.5.0",
            "_model_name": "DescriptionStyleModel",
            "_view_count": null,
            "_view_module": "@jupyter-widgets/base",
            "_view_module_version": "1.2.0",
            "_view_name": "StyleView",
            "description_width": ""
          }
        },
        "da7042a07879436ba6521995701b4599": {
          "model_module": "@jupyter-widgets/base",
          "model_name": "LayoutModel",
          "model_module_version": "1.2.0",
          "state": {
            "_model_module": "@jupyter-widgets/base",
            "_model_module_version": "1.2.0",
            "_model_name": "LayoutModel",
            "_view_count": null,
            "_view_module": "@jupyter-widgets/base",
            "_view_module_version": "1.2.0",
            "_view_name": "LayoutView",
            "align_content": null,
            "align_items": null,
            "align_self": null,
            "border": null,
            "bottom": null,
            "display": null,
            "flex": null,
            "flex_flow": null,
            "grid_area": null,
            "grid_auto_columns": null,
            "grid_auto_flow": null,
            "grid_auto_rows": null,
            "grid_column": null,
            "grid_gap": null,
            "grid_row": null,
            "grid_template_areas": null,
            "grid_template_columns": null,
            "grid_template_rows": null,
            "height": null,
            "justify_content": null,
            "justify_items": null,
            "left": null,
            "margin": null,
            "max_height": null,
            "max_width": null,
            "min_height": null,
            "min_width": null,
            "object_fit": null,
            "object_position": null,
            "order": null,
            "overflow": null,
            "overflow_x": null,
            "overflow_y": null,
            "padding": null,
            "right": null,
            "top": null,
            "visibility": null,
            "width": null
          }
        },
        "3ae9c6374f0d4e08857ee6fcc92d5aed": {
          "model_module": "@jupyter-widgets/controls",
          "model_name": "ProgressStyleModel",
          "model_module_version": "1.5.0",
          "state": {
            "_model_module": "@jupyter-widgets/controls",
            "_model_module_version": "1.5.0",
            "_model_name": "ProgressStyleModel",
            "_view_count": null,
            "_view_module": "@jupyter-widgets/base",
            "_view_module_version": "1.2.0",
            "_view_name": "StyleView",
            "bar_color": null,
            "description_width": ""
          }
        },
        "12e21652033a4f2f8ab951e67cda18b4": {
          "model_module": "@jupyter-widgets/base",
          "model_name": "LayoutModel",
          "model_module_version": "1.2.0",
          "state": {
            "_model_module": "@jupyter-widgets/base",
            "_model_module_version": "1.2.0",
            "_model_name": "LayoutModel",
            "_view_count": null,
            "_view_module": "@jupyter-widgets/base",
            "_view_module_version": "1.2.0",
            "_view_name": "LayoutView",
            "align_content": null,
            "align_items": null,
            "align_self": null,
            "border": null,
            "bottom": null,
            "display": null,
            "flex": null,
            "flex_flow": null,
            "grid_area": null,
            "grid_auto_columns": null,
            "grid_auto_flow": null,
            "grid_auto_rows": null,
            "grid_column": null,
            "grid_gap": null,
            "grid_row": null,
            "grid_template_areas": null,
            "grid_template_columns": null,
            "grid_template_rows": null,
            "height": null,
            "justify_content": null,
            "justify_items": null,
            "left": null,
            "margin": null,
            "max_height": null,
            "max_width": null,
            "min_height": null,
            "min_width": null,
            "object_fit": null,
            "object_position": null,
            "order": null,
            "overflow": null,
            "overflow_x": null,
            "overflow_y": null,
            "padding": null,
            "right": null,
            "top": null,
            "visibility": null,
            "width": null
          }
        },
        "6a7ec742ce104f12af3095d36877eeb9": {
          "model_module": "@jupyter-widgets/controls",
          "model_name": "DescriptionStyleModel",
          "model_module_version": "1.5.0",
          "state": {
            "_model_module": "@jupyter-widgets/controls",
            "_model_module_version": "1.5.0",
            "_model_name": "DescriptionStyleModel",
            "_view_count": null,
            "_view_module": "@jupyter-widgets/base",
            "_view_module_version": "1.2.0",
            "_view_name": "StyleView",
            "description_width": ""
          }
        },
        "f669adbc48284ef587791803b6da42ef": {
          "model_module": "@jupyter-widgets/controls",
          "model_name": "HBoxModel",
          "model_module_version": "1.5.0",
          "state": {
            "_dom_classes": [],
            "_model_module": "@jupyter-widgets/controls",
            "_model_module_version": "1.5.0",
            "_model_name": "HBoxModel",
            "_view_count": null,
            "_view_module": "@jupyter-widgets/controls",
            "_view_module_version": "1.5.0",
            "_view_name": "HBoxView",
            "box_style": "",
            "children": [
              "IPY_MODEL_de35c5ea635f4625be25c010542ea8de",
              "IPY_MODEL_285ea3b3c9b3485da86e85c5a5120ab3",
              "IPY_MODEL_1a1843e231354f6db8f7f0822d83fc92"
            ],
            "layout": "IPY_MODEL_af82457c1b2541cb8675abd372c25a39"
          }
        },
        "de35c5ea635f4625be25c010542ea8de": {
          "model_module": "@jupyter-widgets/controls",
          "model_name": "HTMLModel",
          "model_module_version": "1.5.0",
          "state": {
            "_dom_classes": [],
            "_model_module": "@jupyter-widgets/controls",
            "_model_module_version": "1.5.0",
            "_model_name": "HTMLModel",
            "_view_count": null,
            "_view_module": "@jupyter-widgets/controls",
            "_view_module_version": "1.5.0",
            "_view_name": "HTMLView",
            "description": "",
            "description_tooltip": null,
            "layout": "IPY_MODEL_819cd5ae5b36443ab0d3ddbc8ca550f3",
            "placeholder": "​",
            "style": "IPY_MODEL_be6d616d0b7a40e8a8f395deb71ce9ac",
            "value": "100%"
          }
        },
        "285ea3b3c9b3485da86e85c5a5120ab3": {
          "model_module": "@jupyter-widgets/controls",
          "model_name": "FloatProgressModel",
          "model_module_version": "1.5.0",
          "state": {
            "_dom_classes": [],
            "_model_module": "@jupyter-widgets/controls",
            "_model_module_version": "1.5.0",
            "_model_name": "FloatProgressModel",
            "_view_count": null,
            "_view_module": "@jupyter-widgets/controls",
            "_view_module_version": "1.5.0",
            "_view_name": "ProgressView",
            "bar_style": "success",
            "description": "",
            "description_tooltip": null,
            "layout": "IPY_MODEL_291fb75eae7d4f0ba3bfef08bc6f2ad8",
            "max": 228,
            "min": 0,
            "orientation": "horizontal",
            "style": "IPY_MODEL_6df13dfa7c6c4d359d7dfd5db0f702d0",
            "value": 228
          }
        },
        "1a1843e231354f6db8f7f0822d83fc92": {
          "model_module": "@jupyter-widgets/controls",
          "model_name": "HTMLModel",
          "model_module_version": "1.5.0",
          "state": {
            "_dom_classes": [],
            "_model_module": "@jupyter-widgets/controls",
            "_model_module_version": "1.5.0",
            "_model_name": "HTMLModel",
            "_view_count": null,
            "_view_module": "@jupyter-widgets/controls",
            "_view_module_version": "1.5.0",
            "_view_name": "HTMLView",
            "description": "",
            "description_tooltip": null,
            "layout": "IPY_MODEL_38bf45bd9914427bafe298e1f09c8770",
            "placeholder": "​",
            "style": "IPY_MODEL_d140c6ee494c47f3b5316cc3f3bfbf1d",
            "value": " 228/228 [00:00&lt;00:00, 3786.34ex/s]"
          }
        },
        "af82457c1b2541cb8675abd372c25a39": {
          "model_module": "@jupyter-widgets/base",
          "model_name": "LayoutModel",
          "model_module_version": "1.2.0",
          "state": {
            "_model_module": "@jupyter-widgets/base",
            "_model_module_version": "1.2.0",
            "_model_name": "LayoutModel",
            "_view_count": null,
            "_view_module": "@jupyter-widgets/base",
            "_view_module_version": "1.2.0",
            "_view_name": "LayoutView",
            "align_content": null,
            "align_items": null,
            "align_self": null,
            "border": null,
            "bottom": null,
            "display": null,
            "flex": null,
            "flex_flow": null,
            "grid_area": null,
            "grid_auto_columns": null,
            "grid_auto_flow": null,
            "grid_auto_rows": null,
            "grid_column": null,
            "grid_gap": null,
            "grid_row": null,
            "grid_template_areas": null,
            "grid_template_columns": null,
            "grid_template_rows": null,
            "height": null,
            "justify_content": null,
            "justify_items": null,
            "left": null,
            "margin": null,
            "max_height": null,
            "max_width": null,
            "min_height": null,
            "min_width": null,
            "object_fit": null,
            "object_position": null,
            "order": null,
            "overflow": null,
            "overflow_x": null,
            "overflow_y": null,
            "padding": null,
            "right": null,
            "top": null,
            "visibility": null,
            "width": null
          }
        },
        "819cd5ae5b36443ab0d3ddbc8ca550f3": {
          "model_module": "@jupyter-widgets/base",
          "model_name": "LayoutModel",
          "model_module_version": "1.2.0",
          "state": {
            "_model_module": "@jupyter-widgets/base",
            "_model_module_version": "1.2.0",
            "_model_name": "LayoutModel",
            "_view_count": null,
            "_view_module": "@jupyter-widgets/base",
            "_view_module_version": "1.2.0",
            "_view_name": "LayoutView",
            "align_content": null,
            "align_items": null,
            "align_self": null,
            "border": null,
            "bottom": null,
            "display": null,
            "flex": null,
            "flex_flow": null,
            "grid_area": null,
            "grid_auto_columns": null,
            "grid_auto_flow": null,
            "grid_auto_rows": null,
            "grid_column": null,
            "grid_gap": null,
            "grid_row": null,
            "grid_template_areas": null,
            "grid_template_columns": null,
            "grid_template_rows": null,
            "height": null,
            "justify_content": null,
            "justify_items": null,
            "left": null,
            "margin": null,
            "max_height": null,
            "max_width": null,
            "min_height": null,
            "min_width": null,
            "object_fit": null,
            "object_position": null,
            "order": null,
            "overflow": null,
            "overflow_x": null,
            "overflow_y": null,
            "padding": null,
            "right": null,
            "top": null,
            "visibility": null,
            "width": null
          }
        },
        "be6d616d0b7a40e8a8f395deb71ce9ac": {
          "model_module": "@jupyter-widgets/controls",
          "model_name": "DescriptionStyleModel",
          "model_module_version": "1.5.0",
          "state": {
            "_model_module": "@jupyter-widgets/controls",
            "_model_module_version": "1.5.0",
            "_model_name": "DescriptionStyleModel",
            "_view_count": null,
            "_view_module": "@jupyter-widgets/base",
            "_view_module_version": "1.2.0",
            "_view_name": "StyleView",
            "description_width": ""
          }
        },
        "291fb75eae7d4f0ba3bfef08bc6f2ad8": {
          "model_module": "@jupyter-widgets/base",
          "model_name": "LayoutModel",
          "model_module_version": "1.2.0",
          "state": {
            "_model_module": "@jupyter-widgets/base",
            "_model_module_version": "1.2.0",
            "_model_name": "LayoutModel",
            "_view_count": null,
            "_view_module": "@jupyter-widgets/base",
            "_view_module_version": "1.2.0",
            "_view_name": "LayoutView",
            "align_content": null,
            "align_items": null,
            "align_self": null,
            "border": null,
            "bottom": null,
            "display": null,
            "flex": null,
            "flex_flow": null,
            "grid_area": null,
            "grid_auto_columns": null,
            "grid_auto_flow": null,
            "grid_auto_rows": null,
            "grid_column": null,
            "grid_gap": null,
            "grid_row": null,
            "grid_template_areas": null,
            "grid_template_columns": null,
            "grid_template_rows": null,
            "height": null,
            "justify_content": null,
            "justify_items": null,
            "left": null,
            "margin": null,
            "max_height": null,
            "max_width": null,
            "min_height": null,
            "min_width": null,
            "object_fit": null,
            "object_position": null,
            "order": null,
            "overflow": null,
            "overflow_x": null,
            "overflow_y": null,
            "padding": null,
            "right": null,
            "top": null,
            "visibility": null,
            "width": null
          }
        },
        "6df13dfa7c6c4d359d7dfd5db0f702d0": {
          "model_module": "@jupyter-widgets/controls",
          "model_name": "ProgressStyleModel",
          "model_module_version": "1.5.0",
          "state": {
            "_model_module": "@jupyter-widgets/controls",
            "_model_module_version": "1.5.0",
            "_model_name": "ProgressStyleModel",
            "_view_count": null,
            "_view_module": "@jupyter-widgets/base",
            "_view_module_version": "1.2.0",
            "_view_name": "StyleView",
            "bar_color": null,
            "description_width": ""
          }
        },
        "38bf45bd9914427bafe298e1f09c8770": {
          "model_module": "@jupyter-widgets/base",
          "model_name": "LayoutModel",
          "model_module_version": "1.2.0",
          "state": {
            "_model_module": "@jupyter-widgets/base",
            "_model_module_version": "1.2.0",
            "_model_name": "LayoutModel",
            "_view_count": null,
            "_view_module": "@jupyter-widgets/base",
            "_view_module_version": "1.2.0",
            "_view_name": "LayoutView",
            "align_content": null,
            "align_items": null,
            "align_self": null,
            "border": null,
            "bottom": null,
            "display": null,
            "flex": null,
            "flex_flow": null,
            "grid_area": null,
            "grid_auto_columns": null,
            "grid_auto_flow": null,
            "grid_auto_rows": null,
            "grid_column": null,
            "grid_gap": null,
            "grid_row": null,
            "grid_template_areas": null,
            "grid_template_columns": null,
            "grid_template_rows": null,
            "height": null,
            "justify_content": null,
            "justify_items": null,
            "left": null,
            "margin": null,
            "max_height": null,
            "max_width": null,
            "min_height": null,
            "min_width": null,
            "object_fit": null,
            "object_position": null,
            "order": null,
            "overflow": null,
            "overflow_x": null,
            "overflow_y": null,
            "padding": null,
            "right": null,
            "top": null,
            "visibility": null,
            "width": null
          }
        },
        "d140c6ee494c47f3b5316cc3f3bfbf1d": {
          "model_module": "@jupyter-widgets/controls",
          "model_name": "DescriptionStyleModel",
          "model_module_version": "1.5.0",
          "state": {
            "_model_module": "@jupyter-widgets/controls",
            "_model_module_version": "1.5.0",
            "_model_name": "DescriptionStyleModel",
            "_view_count": null,
            "_view_module": "@jupyter-widgets/base",
            "_view_module_version": "1.2.0",
            "_view_name": "StyleView",
            "description_width": ""
          }
        },
        "895ab3f437334b368a613a4e6b3c09a1": {
          "model_module": "@jupyter-widgets/controls",
          "model_name": "HBoxModel",
          "model_module_version": "1.5.0",
          "state": {
            "_dom_classes": [],
            "_model_module": "@jupyter-widgets/controls",
            "_model_module_version": "1.5.0",
            "_model_name": "HBoxModel",
            "_view_count": null,
            "_view_module": "@jupyter-widgets/controls",
            "_view_module_version": "1.5.0",
            "_view_name": "HBoxView",
            "box_style": "",
            "children": [
              "IPY_MODEL_b594b26cabc444fda5699a8518ac550d",
              "IPY_MODEL_fac79debc65944ff88d7bbc1ec9482ae",
              "IPY_MODEL_bf5b465627774c128872fa379213539a"
            ],
            "layout": "IPY_MODEL_457e179791f74290bf33b63352df2b56"
          }
        },
        "b594b26cabc444fda5699a8518ac550d": {
          "model_module": "@jupyter-widgets/controls",
          "model_name": "HTMLModel",
          "model_module_version": "1.5.0",
          "state": {
            "_dom_classes": [],
            "_model_module": "@jupyter-widgets/controls",
            "_model_module_version": "1.5.0",
            "_model_name": "HTMLModel",
            "_view_count": null,
            "_view_module": "@jupyter-widgets/controls",
            "_view_module_version": "1.5.0",
            "_view_name": "HTMLView",
            "description": "",
            "description_tooltip": null,
            "layout": "IPY_MODEL_32a264a931314c049cd9580dbf311f2a",
            "placeholder": "​",
            "style": "IPY_MODEL_ad95ee073d1a432398a512956652afa5",
            "value": "100%"
          }
        },
        "fac79debc65944ff88d7bbc1ec9482ae": {
          "model_module": "@jupyter-widgets/controls",
          "model_name": "FloatProgressModel",
          "model_module_version": "1.5.0",
          "state": {
            "_dom_classes": [],
            "_model_module": "@jupyter-widgets/controls",
            "_model_module_version": "1.5.0",
            "_model_name": "FloatProgressModel",
            "_view_count": null,
            "_view_module": "@jupyter-widgets/controls",
            "_view_module_version": "1.5.0",
            "_view_name": "ProgressView",
            "bar_style": "success",
            "description": "",
            "description_tooltip": null,
            "layout": "IPY_MODEL_ed8fdcb0e1ef40399c89f9abb5e1b360",
            "max": 491,
            "min": 0,
            "orientation": "horizontal",
            "style": "IPY_MODEL_45d38c0faaad417a83abe4304b393da9",
            "value": 491
          }
        },
        "bf5b465627774c128872fa379213539a": {
          "model_module": "@jupyter-widgets/controls",
          "model_name": "HTMLModel",
          "model_module_version": "1.5.0",
          "state": {
            "_dom_classes": [],
            "_model_module": "@jupyter-widgets/controls",
            "_model_module_version": "1.5.0",
            "_model_name": "HTMLModel",
            "_view_count": null,
            "_view_module": "@jupyter-widgets/controls",
            "_view_module_version": "1.5.0",
            "_view_name": "HTMLView",
            "description": "",
            "description_tooltip": null,
            "layout": "IPY_MODEL_749aafb3e7554f0e9ee65db56cd55322",
            "placeholder": "​",
            "style": "IPY_MODEL_f1d23062aff242848cd2ec9b4876a3ed",
            "value": " 491/491 [00:00&lt;00:00, 4305.94ex/s]"
          }
        },
        "457e179791f74290bf33b63352df2b56": {
          "model_module": "@jupyter-widgets/base",
          "model_name": "LayoutModel",
          "model_module_version": "1.2.0",
          "state": {
            "_model_module": "@jupyter-widgets/base",
            "_model_module_version": "1.2.0",
            "_model_name": "LayoutModel",
            "_view_count": null,
            "_view_module": "@jupyter-widgets/base",
            "_view_module_version": "1.2.0",
            "_view_name": "LayoutView",
            "align_content": null,
            "align_items": null,
            "align_self": null,
            "border": null,
            "bottom": null,
            "display": null,
            "flex": null,
            "flex_flow": null,
            "grid_area": null,
            "grid_auto_columns": null,
            "grid_auto_flow": null,
            "grid_auto_rows": null,
            "grid_column": null,
            "grid_gap": null,
            "grid_row": null,
            "grid_template_areas": null,
            "grid_template_columns": null,
            "grid_template_rows": null,
            "height": null,
            "justify_content": null,
            "justify_items": null,
            "left": null,
            "margin": null,
            "max_height": null,
            "max_width": null,
            "min_height": null,
            "min_width": null,
            "object_fit": null,
            "object_position": null,
            "order": null,
            "overflow": null,
            "overflow_x": null,
            "overflow_y": null,
            "padding": null,
            "right": null,
            "top": null,
            "visibility": null,
            "width": null
          }
        },
        "32a264a931314c049cd9580dbf311f2a": {
          "model_module": "@jupyter-widgets/base",
          "model_name": "LayoutModel",
          "model_module_version": "1.2.0",
          "state": {
            "_model_module": "@jupyter-widgets/base",
            "_model_module_version": "1.2.0",
            "_model_name": "LayoutModel",
            "_view_count": null,
            "_view_module": "@jupyter-widgets/base",
            "_view_module_version": "1.2.0",
            "_view_name": "LayoutView",
            "align_content": null,
            "align_items": null,
            "align_self": null,
            "border": null,
            "bottom": null,
            "display": null,
            "flex": null,
            "flex_flow": null,
            "grid_area": null,
            "grid_auto_columns": null,
            "grid_auto_flow": null,
            "grid_auto_rows": null,
            "grid_column": null,
            "grid_gap": null,
            "grid_row": null,
            "grid_template_areas": null,
            "grid_template_columns": null,
            "grid_template_rows": null,
            "height": null,
            "justify_content": null,
            "justify_items": null,
            "left": null,
            "margin": null,
            "max_height": null,
            "max_width": null,
            "min_height": null,
            "min_width": null,
            "object_fit": null,
            "object_position": null,
            "order": null,
            "overflow": null,
            "overflow_x": null,
            "overflow_y": null,
            "padding": null,
            "right": null,
            "top": null,
            "visibility": null,
            "width": null
          }
        },
        "ad95ee073d1a432398a512956652afa5": {
          "model_module": "@jupyter-widgets/controls",
          "model_name": "DescriptionStyleModel",
          "model_module_version": "1.5.0",
          "state": {
            "_model_module": "@jupyter-widgets/controls",
            "_model_module_version": "1.5.0",
            "_model_name": "DescriptionStyleModel",
            "_view_count": null,
            "_view_module": "@jupyter-widgets/base",
            "_view_module_version": "1.2.0",
            "_view_name": "StyleView",
            "description_width": ""
          }
        },
        "ed8fdcb0e1ef40399c89f9abb5e1b360": {
          "model_module": "@jupyter-widgets/base",
          "model_name": "LayoutModel",
          "model_module_version": "1.2.0",
          "state": {
            "_model_module": "@jupyter-widgets/base",
            "_model_module_version": "1.2.0",
            "_model_name": "LayoutModel",
            "_view_count": null,
            "_view_module": "@jupyter-widgets/base",
            "_view_module_version": "1.2.0",
            "_view_name": "LayoutView",
            "align_content": null,
            "align_items": null,
            "align_self": null,
            "border": null,
            "bottom": null,
            "display": null,
            "flex": null,
            "flex_flow": null,
            "grid_area": null,
            "grid_auto_columns": null,
            "grid_auto_flow": null,
            "grid_auto_rows": null,
            "grid_column": null,
            "grid_gap": null,
            "grid_row": null,
            "grid_template_areas": null,
            "grid_template_columns": null,
            "grid_template_rows": null,
            "height": null,
            "justify_content": null,
            "justify_items": null,
            "left": null,
            "margin": null,
            "max_height": null,
            "max_width": null,
            "min_height": null,
            "min_width": null,
            "object_fit": null,
            "object_position": null,
            "order": null,
            "overflow": null,
            "overflow_x": null,
            "overflow_y": null,
            "padding": null,
            "right": null,
            "top": null,
            "visibility": null,
            "width": null
          }
        },
        "45d38c0faaad417a83abe4304b393da9": {
          "model_module": "@jupyter-widgets/controls",
          "model_name": "ProgressStyleModel",
          "model_module_version": "1.5.0",
          "state": {
            "_model_module": "@jupyter-widgets/controls",
            "_model_module_version": "1.5.0",
            "_model_name": "ProgressStyleModel",
            "_view_count": null,
            "_view_module": "@jupyter-widgets/base",
            "_view_module_version": "1.2.0",
            "_view_name": "StyleView",
            "bar_color": null,
            "description_width": ""
          }
        },
        "749aafb3e7554f0e9ee65db56cd55322": {
          "model_module": "@jupyter-widgets/base",
          "model_name": "LayoutModel",
          "model_module_version": "1.2.0",
          "state": {
            "_model_module": "@jupyter-widgets/base",
            "_model_module_version": "1.2.0",
            "_model_name": "LayoutModel",
            "_view_count": null,
            "_view_module": "@jupyter-widgets/base",
            "_view_module_version": "1.2.0",
            "_view_name": "LayoutView",
            "align_content": null,
            "align_items": null,
            "align_self": null,
            "border": null,
            "bottom": null,
            "display": null,
            "flex": null,
            "flex_flow": null,
            "grid_area": null,
            "grid_auto_columns": null,
            "grid_auto_flow": null,
            "grid_auto_rows": null,
            "grid_column": null,
            "grid_gap": null,
            "grid_row": null,
            "grid_template_areas": null,
            "grid_template_columns": null,
            "grid_template_rows": null,
            "height": null,
            "justify_content": null,
            "justify_items": null,
            "left": null,
            "margin": null,
            "max_height": null,
            "max_width": null,
            "min_height": null,
            "min_width": null,
            "object_fit": null,
            "object_position": null,
            "order": null,
            "overflow": null,
            "overflow_x": null,
            "overflow_y": null,
            "padding": null,
            "right": null,
            "top": null,
            "visibility": null,
            "width": null
          }
        },
        "f1d23062aff242848cd2ec9b4876a3ed": {
          "model_module": "@jupyter-widgets/controls",
          "model_name": "DescriptionStyleModel",
          "model_module_version": "1.5.0",
          "state": {
            "_model_module": "@jupyter-widgets/controls",
            "_model_module_version": "1.5.0",
            "_model_name": "DescriptionStyleModel",
            "_view_count": null,
            "_view_module": "@jupyter-widgets/base",
            "_view_module_version": "1.2.0",
            "_view_name": "StyleView",
            "description_width": ""
          }
        },
        "55bf387d9a464ae0a46d6ce17f14e356": {
          "model_module": "@jupyter-widgets/controls",
          "model_name": "HBoxModel",
          "model_module_version": "1.5.0",
          "state": {
            "_dom_classes": [],
            "_model_module": "@jupyter-widgets/controls",
            "_model_module_version": "1.5.0",
            "_model_name": "HBoxModel",
            "_view_count": null,
            "_view_module": "@jupyter-widgets/controls",
            "_view_module_version": "1.5.0",
            "_view_name": "HBoxView",
            "box_style": "",
            "children": [
              "IPY_MODEL_f53a8f8e0c6a4f01a61c3de583535f86",
              "IPY_MODEL_6966995d6fd24683b28486095357d34c",
              "IPY_MODEL_72063bf97c8042d4ac6a158ebb208f3c"
            ],
            "layout": "IPY_MODEL_78a3dfac4eb44f75b0bd485146cbd471"
          }
        },
        "f53a8f8e0c6a4f01a61c3de583535f86": {
          "model_module": "@jupyter-widgets/controls",
          "model_name": "HTMLModel",
          "model_module_version": "1.5.0",
          "state": {
            "_dom_classes": [],
            "_model_module": "@jupyter-widgets/controls",
            "_model_module_version": "1.5.0",
            "_model_name": "HTMLModel",
            "_view_count": null,
            "_view_module": "@jupyter-widgets/controls",
            "_view_module_version": "1.5.0",
            "_view_name": "HTMLView",
            "description": "",
            "description_tooltip": null,
            "layout": "IPY_MODEL_a79d648dff4445da8cb8d5d3d2a207bd",
            "placeholder": "​",
            "style": "IPY_MODEL_b9c969118b1e45d48ef3fdf6d2957cb1",
            "value": "Downloading (…)&quot;pytorch_model.bin&quot;;: 100%"
          }
        },
        "6966995d6fd24683b28486095357d34c": {
          "model_module": "@jupyter-widgets/controls",
          "model_name": "FloatProgressModel",
          "model_module_version": "1.5.0",
          "state": {
            "_dom_classes": [],
            "_model_module": "@jupyter-widgets/controls",
            "_model_module_version": "1.5.0",
            "_model_name": "FloatProgressModel",
            "_view_count": null,
            "_view_module": "@jupyter-widgets/controls",
            "_view_module_version": "1.5.0",
            "_view_name": "ProgressView",
            "bar_style": "success",
            "description": "",
            "description_tooltip": null,
            "layout": "IPY_MODEL_2478341eef1e44948b7dbe7c3caf9266",
            "max": 371146213,
            "min": 0,
            "orientation": "horizontal",
            "style": "IPY_MODEL_f6fd723167c344c8a7fa23852301d5c1",
            "value": 371146213
          }
        },
        "72063bf97c8042d4ac6a158ebb208f3c": {
          "model_module": "@jupyter-widgets/controls",
          "model_name": "HTMLModel",
          "model_module_version": "1.5.0",
          "state": {
            "_dom_classes": [],
            "_model_module": "@jupyter-widgets/controls",
            "_model_module_version": "1.5.0",
            "_model_name": "HTMLModel",
            "_view_count": null,
            "_view_module": "@jupyter-widgets/controls",
            "_view_module_version": "1.5.0",
            "_view_name": "HTMLView",
            "description": "",
            "description_tooltip": null,
            "layout": "IPY_MODEL_78b5c1f2a51f411b810f9376e6ae6bc6",
            "placeholder": "​",
            "style": "IPY_MODEL_fb7f3e26ce6a4c6fb6f3ab68319eaba2",
            "value": " 371M/371M [00:00&lt;00:00, 448MB/s]"
          }
        },
        "78a3dfac4eb44f75b0bd485146cbd471": {
          "model_module": "@jupyter-widgets/base",
          "model_name": "LayoutModel",
          "model_module_version": "1.2.0",
          "state": {
            "_model_module": "@jupyter-widgets/base",
            "_model_module_version": "1.2.0",
            "_model_name": "LayoutModel",
            "_view_count": null,
            "_view_module": "@jupyter-widgets/base",
            "_view_module_version": "1.2.0",
            "_view_name": "LayoutView",
            "align_content": null,
            "align_items": null,
            "align_self": null,
            "border": null,
            "bottom": null,
            "display": null,
            "flex": null,
            "flex_flow": null,
            "grid_area": null,
            "grid_auto_columns": null,
            "grid_auto_flow": null,
            "grid_auto_rows": null,
            "grid_column": null,
            "grid_gap": null,
            "grid_row": null,
            "grid_template_areas": null,
            "grid_template_columns": null,
            "grid_template_rows": null,
            "height": null,
            "justify_content": null,
            "justify_items": null,
            "left": null,
            "margin": null,
            "max_height": null,
            "max_width": null,
            "min_height": null,
            "min_width": null,
            "object_fit": null,
            "object_position": null,
            "order": null,
            "overflow": null,
            "overflow_x": null,
            "overflow_y": null,
            "padding": null,
            "right": null,
            "top": null,
            "visibility": null,
            "width": null
          }
        },
        "a79d648dff4445da8cb8d5d3d2a207bd": {
          "model_module": "@jupyter-widgets/base",
          "model_name": "LayoutModel",
          "model_module_version": "1.2.0",
          "state": {
            "_model_module": "@jupyter-widgets/base",
            "_model_module_version": "1.2.0",
            "_model_name": "LayoutModel",
            "_view_count": null,
            "_view_module": "@jupyter-widgets/base",
            "_view_module_version": "1.2.0",
            "_view_name": "LayoutView",
            "align_content": null,
            "align_items": null,
            "align_self": null,
            "border": null,
            "bottom": null,
            "display": null,
            "flex": null,
            "flex_flow": null,
            "grid_area": null,
            "grid_auto_columns": null,
            "grid_auto_flow": null,
            "grid_auto_rows": null,
            "grid_column": null,
            "grid_gap": null,
            "grid_row": null,
            "grid_template_areas": null,
            "grid_template_columns": null,
            "grid_template_rows": null,
            "height": null,
            "justify_content": null,
            "justify_items": null,
            "left": null,
            "margin": null,
            "max_height": null,
            "max_width": null,
            "min_height": null,
            "min_width": null,
            "object_fit": null,
            "object_position": null,
            "order": null,
            "overflow": null,
            "overflow_x": null,
            "overflow_y": null,
            "padding": null,
            "right": null,
            "top": null,
            "visibility": null,
            "width": null
          }
        },
        "b9c969118b1e45d48ef3fdf6d2957cb1": {
          "model_module": "@jupyter-widgets/controls",
          "model_name": "DescriptionStyleModel",
          "model_module_version": "1.5.0",
          "state": {
            "_model_module": "@jupyter-widgets/controls",
            "_model_module_version": "1.5.0",
            "_model_name": "DescriptionStyleModel",
            "_view_count": null,
            "_view_module": "@jupyter-widgets/base",
            "_view_module_version": "1.2.0",
            "_view_name": "StyleView",
            "description_width": ""
          }
        },
        "2478341eef1e44948b7dbe7c3caf9266": {
          "model_module": "@jupyter-widgets/base",
          "model_name": "LayoutModel",
          "model_module_version": "1.2.0",
          "state": {
            "_model_module": "@jupyter-widgets/base",
            "_model_module_version": "1.2.0",
            "_model_name": "LayoutModel",
            "_view_count": null,
            "_view_module": "@jupyter-widgets/base",
            "_view_module_version": "1.2.0",
            "_view_name": "LayoutView",
            "align_content": null,
            "align_items": null,
            "align_self": null,
            "border": null,
            "bottom": null,
            "display": null,
            "flex": null,
            "flex_flow": null,
            "grid_area": null,
            "grid_auto_columns": null,
            "grid_auto_flow": null,
            "grid_auto_rows": null,
            "grid_column": null,
            "grid_gap": null,
            "grid_row": null,
            "grid_template_areas": null,
            "grid_template_columns": null,
            "grid_template_rows": null,
            "height": null,
            "justify_content": null,
            "justify_items": null,
            "left": null,
            "margin": null,
            "max_height": null,
            "max_width": null,
            "min_height": null,
            "min_width": null,
            "object_fit": null,
            "object_position": null,
            "order": null,
            "overflow": null,
            "overflow_x": null,
            "overflow_y": null,
            "padding": null,
            "right": null,
            "top": null,
            "visibility": null,
            "width": null
          }
        },
        "f6fd723167c344c8a7fa23852301d5c1": {
          "model_module": "@jupyter-widgets/controls",
          "model_name": "ProgressStyleModel",
          "model_module_version": "1.5.0",
          "state": {
            "_model_module": "@jupyter-widgets/controls",
            "_model_module_version": "1.5.0",
            "_model_name": "ProgressStyleModel",
            "_view_count": null,
            "_view_module": "@jupyter-widgets/base",
            "_view_module_version": "1.2.0",
            "_view_name": "StyleView",
            "bar_color": null,
            "description_width": ""
          }
        },
        "78b5c1f2a51f411b810f9376e6ae6bc6": {
          "model_module": "@jupyter-widgets/base",
          "model_name": "LayoutModel",
          "model_module_version": "1.2.0",
          "state": {
            "_model_module": "@jupyter-widgets/base",
            "_model_module_version": "1.2.0",
            "_model_name": "LayoutModel",
            "_view_count": null,
            "_view_module": "@jupyter-widgets/base",
            "_view_module_version": "1.2.0",
            "_view_name": "LayoutView",
            "align_content": null,
            "align_items": null,
            "align_self": null,
            "border": null,
            "bottom": null,
            "display": null,
            "flex": null,
            "flex_flow": null,
            "grid_area": null,
            "grid_auto_columns": null,
            "grid_auto_flow": null,
            "grid_auto_rows": null,
            "grid_column": null,
            "grid_gap": null,
            "grid_row": null,
            "grid_template_areas": null,
            "grid_template_columns": null,
            "grid_template_rows": null,
            "height": null,
            "justify_content": null,
            "justify_items": null,
            "left": null,
            "margin": null,
            "max_height": null,
            "max_width": null,
            "min_height": null,
            "min_width": null,
            "object_fit": null,
            "object_position": null,
            "order": null,
            "overflow": null,
            "overflow_x": null,
            "overflow_y": null,
            "padding": null,
            "right": null,
            "top": null,
            "visibility": null,
            "width": null
          }
        },
        "fb7f3e26ce6a4c6fb6f3ab68319eaba2": {
          "model_module": "@jupyter-widgets/controls",
          "model_name": "DescriptionStyleModel",
          "model_module_version": "1.5.0",
          "state": {
            "_model_module": "@jupyter-widgets/controls",
            "_model_module_version": "1.5.0",
            "_model_name": "DescriptionStyleModel",
            "_view_count": null,
            "_view_module": "@jupyter-widgets/base",
            "_view_module_version": "1.2.0",
            "_view_name": "StyleView",
            "description_width": ""
          }
        }
      }
    },
    "accelerator": "GPU"
  },
  "cells": [
    {
      "cell_type": "markdown",
      "metadata": {
        "id": "view-in-github",
        "colab_type": "text"
      },
      "source": [
        "<a href=\"https://colab.research.google.com/github/sfuller14/MSDS-453-Project/blob/master/Fine_Grained_Financial_Sentiment_Regression_with_BERT.ipynb\" target=\"_parent\"><img src=\"https://colab.research.google.com/assets/colab-badge.svg\" alt=\"Open In Colab\"/></a>"
      ]
    },
    {
      "cell_type": "markdown",
      "source": [
        "## Imports"
      ],
      "metadata": {
        "id": "4ULfd994FzGq"
      }
    },
    {
      "cell_type": "code",
      "source": [
        "from google.colab import output"
      ],
      "metadata": {
        "id": "u5NmOphTlO12"
      },
      "execution_count": 9,
      "outputs": []
    },
    {
      "cell_type": "code",
      "source": [
        "# Comment this out for deberta\n",
        "!pip install -q transformers"
      ],
      "metadata": {
        "id": "s4D97mq9uCOW"
      },
      "execution_count": null,
      "outputs": []
    },
    {
      "cell_type": "code",
      "source": [
        "!pip install -q datasets"
      ],
      "metadata": {
        "id": "b1d0XltxHsXD"
      },
      "execution_count": 2,
      "outputs": []
    },
    {
      "cell_type": "code",
      "source": [
        "import pandas as pd\n",
        "pd.set_option('display.max_colwidth', None)\n",
        "import numpy as np\n",
        "import json\n",
        "\n",
        "import tensorflow as tf\n",
        "from tensorflow import keras\n",
        "from tensorflow.keras.callbacks import EarlyStopping\n",
        "\n",
        "from transformers import AutoTokenizer, DataCollatorWithPadding, TFAutoModelForSequenceClassification\n",
        "from datasets import Dataset\n",
        "\n",
        "from pprint import pprint"
      ],
      "metadata": {
        "id": "_DnXH96IOciA"
      },
      "execution_count": 3,
      "outputs": []
    },
    {
      "cell_type": "code",
      "source": [
        "from sklearn.metrics import mean_absolute_error\n",
        "from sklearn.model_selection import KFold\n",
        "from scipy.spatial.distance import cosine\n",
        "\n",
        "# For model evaluation:\n",
        "def cosine_score(predicted_values, true_values):\n",
        "    return 1 - cosine(predicted_values, true_values)"
      ],
      "metadata": {
        "id": "ejRgsYsbK9MD"
      },
      "execution_count": 4,
      "outputs": []
    },
    {
      "cell_type": "code",
      "source": [
        "import warnings\n",
        "warnings.filterwarnings(\"ignore\")"
      ],
      "metadata": {
        "id": "pFtbA6TV85yG"
      },
      "execution_count": 5,
      "outputs": []
    },
    {
      "cell_type": "markdown",
      "source": [
        "# EDA"
      ],
      "metadata": {
        "id": "WDm0LKd_E_z8"
      }
    },
    {
      "cell_type": "markdown",
      "source": [
        "## Get Data"
      ],
      "metadata": {
        "id": "5itXn0z4FOfi"
      }
    },
    {
      "cell_type": "code",
      "source": [
        "# Get data from here:\n",
        "# !git clone https://bitbucket.org/ssix-project/semeval-2017-task-5-subtask-2.git"
      ],
      "metadata": {
        "id": "s_2atzBm47jl"
      },
      "execution_count": null,
      "outputs": []
    },
    {
      "cell_type": "code",
      "source": [
        "# Clean up ground truth test set\n",
        "import json\n",
        "\n",
        "with open(\"data/finance/Headlines_Testdata_withscores.json\", \"r\") as file:\n",
        "    data = json.load(file)\n",
        "\n",
        "for example in data:\n",
        "    del example['UniqueID']\n",
        "\n",
        "with open(\"data/finance/Headlines_Testdata_withscores_clean.json\", \"w\") as file:\n",
        "    json.dump(data, file)"
      ],
      "metadata": {
        "id": "brsfUp8UCwNr"
      },
      "execution_count": 6,
      "outputs": []
    },
    {
      "cell_type": "code",
      "source": [
        "raw_train_ds = Dataset.from_json(\"data/finance/Headline_Trainingdata.json\")\n",
        "raw_val_ds = Dataset.from_json(\"data/finance/Headline_Validationdata.json\")\n",
        "raw_test_ds = Dataset.from_json(\"data/finance/Headlines_Testdata_withscores_clean.json\")\n",
        "raw_datasets = {\"train\": raw_train_ds, \"val\": raw_val_ds, \"test\": raw_test_ds}\n",
        "output.clear()"
      ],
      "metadata": {
        "id": "oNs-hTsIFQsL"
      },
      "execution_count": 13,
      "outputs": []
    },
    {
      "cell_type": "code",
      "source": [
        "raw_train_ds"
      ],
      "metadata": {
        "colab": {
          "base_uri": "https://localhost:8080/"
        },
        "id": "Pcgm56fWDYUd",
        "outputId": "80b020fb-ae39-4dcf-e1f7-7e9d450f5345"
      },
      "execution_count": 14,
      "outputs": [
        {
          "output_type": "execute_result",
          "data": {
            "text/plain": [
              "Dataset({\n",
              "    features: ['id', 'company', 'title', 'sentiment'],\n",
              "    num_rows: 914\n",
              "})"
            ]
          },
          "metadata": {},
          "execution_count": 14
        }
      ]
    },
    {
      "cell_type": "code",
      "source": [
        "raw_val_ds"
      ],
      "metadata": {
        "colab": {
          "base_uri": "https://localhost:8080/"
        },
        "id": "qSt3iVYWoPS7",
        "outputId": "bd309bb9-7ba3-45b2-a555-cedd21c8a5df"
      },
      "execution_count": 15,
      "outputs": [
        {
          "output_type": "execute_result",
          "data": {
            "text/plain": [
              "Dataset({\n",
              "    features: ['id', 'company', 'title', 'sentiment'],\n",
              "    num_rows: 228\n",
              "})"
            ]
          },
          "metadata": {},
          "execution_count": 15
        }
      ]
    },
    {
      "cell_type": "code",
      "source": [
        "raw_test_ds"
      ],
      "metadata": {
        "colab": {
          "base_uri": "https://localhost:8080/"
        },
        "id": "FGmAu1lRA9Oj",
        "outputId": "fc8eb47a-eff5-416c-d69f-cd8e800666c0"
      },
      "execution_count": 16,
      "outputs": [
        {
          "output_type": "execute_result",
          "data": {
            "text/plain": [
              "Dataset({\n",
              "    features: ['id', 'company', 'title', 'sentiment'],\n",
              "    num_rows: 491\n",
              "})"
            ]
          },
          "metadata": {},
          "execution_count": 16
        }
      ]
    },
    {
      "cell_type": "markdown",
      "source": [
        "## Examine data"
      ],
      "metadata": {
        "id": "SDyt9KF2HgY5"
      }
    },
    {
      "cell_type": "code",
      "source": [
        "pd.DataFrame(raw_train_ds.to_dict())"
      ],
      "metadata": {
        "colab": {
          "base_uri": "https://localhost:8080/",
          "height": 423
        },
        "id": "mX5LY6tl8NWi",
        "outputId": "5b5a51d5-9c44-4088-c149-9d42f3bda1c6"
      },
      "execution_count": 38,
      "outputs": [
        {
          "output_type": "execute_result",
          "data": {
            "text/plain": [
              "       id             company  \\\n",
              "0       3                 IMI   \n",
              "1       4            Glencore   \n",
              "2       5             Ryanair   \n",
              "3       6            Barclays   \n",
              "4       7                  BP   \n",
              "..    ...                 ...   \n",
              "909  1136  Balfour Beatty plc   \n",
              "910  1137                 CIB   \n",
              "911  1138            BG Group   \n",
              "912  1140            Barclays   \n",
              "913  1141          Kingfisher   \n",
              "\n",
              "                                                                                                      title  \\\n",
              "0                                       IMI posts drop in first-quarter organic revenue; warns on full year   \n",
              "1                                              Glencore to refinance its short-term debt early, shares rise   \n",
              "2                                           EasyJet attracts more passengers in June but still lags Ryanair   \n",
              "3                                                                    Barclays 'bad bank' chief to step down   \n",
              "4                                            Bilfinger Industrial Services win Â£100m BP contract extension   \n",
              "..                                                                                                      ...   \n",
              "909  Balfour Beatty plc Set To Reinstate Dividend (And Rival National Grid plc And Centrica PLC Once More?)   \n",
              "910                                    UPDATE: CIB, Legal & General Sell Egyptian Life Joint Venture To AXA   \n",
              "911                                                               BG Group appoints new CEO one month early   \n",
              "912                                           Barclays set to name former JPMorgan banker Staley as new CEO   \n",
              "913                                         Kingfisher share price slides on cost to implement new strategy   \n",
              "\n",
              "     sentiment  \n",
              "0       -0.344  \n",
              "1        0.340  \n",
              "2        0.259  \n",
              "3       -0.231  \n",
              "4        0.113  \n",
              "..         ...  \n",
              "909      0.413  \n",
              "910      0.148  \n",
              "911      0.069  \n",
              "912      0.000  \n",
              "913     -0.786  \n",
              "\n",
              "[914 rows x 4 columns]"
            ],
            "text/html": [
              "\n",
              "  <div id=\"df-91127a09-3cff-4101-949b-49d05bf263f1\">\n",
              "    <div class=\"colab-df-container\">\n",
              "      <div>\n",
              "<style scoped>\n",
              "    .dataframe tbody tr th:only-of-type {\n",
              "        vertical-align: middle;\n",
              "    }\n",
              "\n",
              "    .dataframe tbody tr th {\n",
              "        vertical-align: top;\n",
              "    }\n",
              "\n",
              "    .dataframe thead th {\n",
              "        text-align: right;\n",
              "    }\n",
              "</style>\n",
              "<table border=\"1\" class=\"dataframe\">\n",
              "  <thead>\n",
              "    <tr style=\"text-align: right;\">\n",
              "      <th></th>\n",
              "      <th>id</th>\n",
              "      <th>company</th>\n",
              "      <th>title</th>\n",
              "      <th>sentiment</th>\n",
              "    </tr>\n",
              "  </thead>\n",
              "  <tbody>\n",
              "    <tr>\n",
              "      <th>0</th>\n",
              "      <td>3</td>\n",
              "      <td>IMI</td>\n",
              "      <td>IMI posts drop in first-quarter organic revenue; warns on full year</td>\n",
              "      <td>-0.344</td>\n",
              "    </tr>\n",
              "    <tr>\n",
              "      <th>1</th>\n",
              "      <td>4</td>\n",
              "      <td>Glencore</td>\n",
              "      <td>Glencore to refinance its short-term debt early, shares rise</td>\n",
              "      <td>0.340</td>\n",
              "    </tr>\n",
              "    <tr>\n",
              "      <th>2</th>\n",
              "      <td>5</td>\n",
              "      <td>Ryanair</td>\n",
              "      <td>EasyJet attracts more passengers in June but still lags Ryanair</td>\n",
              "      <td>0.259</td>\n",
              "    </tr>\n",
              "    <tr>\n",
              "      <th>3</th>\n",
              "      <td>6</td>\n",
              "      <td>Barclays</td>\n",
              "      <td>Barclays 'bad bank' chief to step down</td>\n",
              "      <td>-0.231</td>\n",
              "    </tr>\n",
              "    <tr>\n",
              "      <th>4</th>\n",
              "      <td>7</td>\n",
              "      <td>BP</td>\n",
              "      <td>Bilfinger Industrial Services win Â£100m BP contract extension</td>\n",
              "      <td>0.113</td>\n",
              "    </tr>\n",
              "    <tr>\n",
              "      <th>...</th>\n",
              "      <td>...</td>\n",
              "      <td>...</td>\n",
              "      <td>...</td>\n",
              "      <td>...</td>\n",
              "    </tr>\n",
              "    <tr>\n",
              "      <th>909</th>\n",
              "      <td>1136</td>\n",
              "      <td>Balfour Beatty plc</td>\n",
              "      <td>Balfour Beatty plc Set To Reinstate Dividend (And Rival National Grid plc And Centrica PLC Once More?)</td>\n",
              "      <td>0.413</td>\n",
              "    </tr>\n",
              "    <tr>\n",
              "      <th>910</th>\n",
              "      <td>1137</td>\n",
              "      <td>CIB</td>\n",
              "      <td>UPDATE: CIB, Legal &amp; General Sell Egyptian Life Joint Venture To AXA</td>\n",
              "      <td>0.148</td>\n",
              "    </tr>\n",
              "    <tr>\n",
              "      <th>911</th>\n",
              "      <td>1138</td>\n",
              "      <td>BG Group</td>\n",
              "      <td>BG Group appoints new CEO one month early</td>\n",
              "      <td>0.069</td>\n",
              "    </tr>\n",
              "    <tr>\n",
              "      <th>912</th>\n",
              "      <td>1140</td>\n",
              "      <td>Barclays</td>\n",
              "      <td>Barclays set to name former JPMorgan banker Staley as new CEO</td>\n",
              "      <td>0.000</td>\n",
              "    </tr>\n",
              "    <tr>\n",
              "      <th>913</th>\n",
              "      <td>1141</td>\n",
              "      <td>Kingfisher</td>\n",
              "      <td>Kingfisher share price slides on cost to implement new strategy</td>\n",
              "      <td>-0.786</td>\n",
              "    </tr>\n",
              "  </tbody>\n",
              "</table>\n",
              "<p>914 rows × 4 columns</p>\n",
              "</div>\n",
              "      <button class=\"colab-df-convert\" onclick=\"convertToInteractive('df-91127a09-3cff-4101-949b-49d05bf263f1')\"\n",
              "              title=\"Convert this dataframe to an interactive table.\"\n",
              "              style=\"display:none;\">\n",
              "        \n",
              "  <svg xmlns=\"http://www.w3.org/2000/svg\" height=\"24px\"viewBox=\"0 0 24 24\"\n",
              "       width=\"24px\">\n",
              "    <path d=\"M0 0h24v24H0V0z\" fill=\"none\"/>\n",
              "    <path d=\"M18.56 5.44l.94 2.06.94-2.06 2.06-.94-2.06-.94-.94-2.06-.94 2.06-2.06.94zm-11 1L8.5 8.5l.94-2.06 2.06-.94-2.06-.94L8.5 2.5l-.94 2.06-2.06.94zm10 10l.94 2.06.94-2.06 2.06-.94-2.06-.94-.94-2.06-.94 2.06-2.06.94z\"/><path d=\"M17.41 7.96l-1.37-1.37c-.4-.4-.92-.59-1.43-.59-.52 0-1.04.2-1.43.59L10.3 9.45l-7.72 7.72c-.78.78-.78 2.05 0 2.83L4 21.41c.39.39.9.59 1.41.59.51 0 1.02-.2 1.41-.59l7.78-7.78 2.81-2.81c.8-.78.8-2.07 0-2.86zM5.41 20L4 18.59l7.72-7.72 1.47 1.35L5.41 20z\"/>\n",
              "  </svg>\n",
              "      </button>\n",
              "      \n",
              "  <style>\n",
              "    .colab-df-container {\n",
              "      display:flex;\n",
              "      flex-wrap:wrap;\n",
              "      gap: 12px;\n",
              "    }\n",
              "\n",
              "    .colab-df-convert {\n",
              "      background-color: #E8F0FE;\n",
              "      border: none;\n",
              "      border-radius: 50%;\n",
              "      cursor: pointer;\n",
              "      display: none;\n",
              "      fill: #1967D2;\n",
              "      height: 32px;\n",
              "      padding: 0 0 0 0;\n",
              "      width: 32px;\n",
              "    }\n",
              "\n",
              "    .colab-df-convert:hover {\n",
              "      background-color: #E2EBFA;\n",
              "      box-shadow: 0px 1px 2px rgba(60, 64, 67, 0.3), 0px 1px 3px 1px rgba(60, 64, 67, 0.15);\n",
              "      fill: #174EA6;\n",
              "    }\n",
              "\n",
              "    [theme=dark] .colab-df-convert {\n",
              "      background-color: #3B4455;\n",
              "      fill: #D2E3FC;\n",
              "    }\n",
              "\n",
              "    [theme=dark] .colab-df-convert:hover {\n",
              "      background-color: #434B5C;\n",
              "      box-shadow: 0px 1px 3px 1px rgba(0, 0, 0, 0.15);\n",
              "      filter: drop-shadow(0px 1px 2px rgba(0, 0, 0, 0.3));\n",
              "      fill: #FFFFFF;\n",
              "    }\n",
              "  </style>\n",
              "\n",
              "      <script>\n",
              "        const buttonEl =\n",
              "          document.querySelector('#df-91127a09-3cff-4101-949b-49d05bf263f1 button.colab-df-convert');\n",
              "        buttonEl.style.display =\n",
              "          google.colab.kernel.accessAllowed ? 'block' : 'none';\n",
              "\n",
              "        async function convertToInteractive(key) {\n",
              "          const element = document.querySelector('#df-91127a09-3cff-4101-949b-49d05bf263f1');\n",
              "          const dataTable =\n",
              "            await google.colab.kernel.invokeFunction('convertToInteractive',\n",
              "                                                     [key], {});\n",
              "          if (!dataTable) return;\n",
              "\n",
              "          const docLinkHtml = 'Like what you see? Visit the ' +\n",
              "            '<a target=\"_blank\" href=https://colab.research.google.com/notebooks/data_table.ipynb>data table notebook</a>'\n",
              "            + ' to learn more about interactive tables.';\n",
              "          element.innerHTML = '';\n",
              "          dataTable['output_type'] = 'display_data';\n",
              "          await google.colab.output.renderOutput(dataTable, element);\n",
              "          const docLink = document.createElement('div');\n",
              "          docLink.innerHTML = docLinkHtml;\n",
              "          element.appendChild(docLink);\n",
              "        }\n",
              "      </script>\n",
              "    </div>\n",
              "  </div>\n",
              "  "
            ]
          },
          "metadata": {},
          "execution_count": 38
        }
      ]
    },
    {
      "cell_type": "code",
      "source": [
        "pd.DataFrame(raw_val_ds.to_dict())"
      ],
      "metadata": {
        "colab": {
          "base_uri": "https://localhost:8080/",
          "height": 423
        },
        "id": "VjrHYNH6oY-1",
        "outputId": "6d7f5dad-e4a3-412f-f49a-00702fea775f"
      },
      "execution_count": 39,
      "outputs": [
        {
          "output_type": "execute_result",
          "data": {
            "text/plain": [
              "      id           company  \\\n",
              "0    155          Starwood   \n",
              "1     71   Dixons Carphone   \n",
              "2    336      Severn Trent   \n",
              "3     58                BP   \n",
              "4    225       BAE Systems   \n",
              "..   ...               ...   \n",
              "223  107  United Utilities   \n",
              "224  154             Shell   \n",
              "225   60                BP   \n",
              "226  210       AstraZeneca   \n",
              "227  288             Tesco   \n",
              "\n",
              "                                                                title  \\\n",
              "0        Intercontinental Hotels, Starwood held early deal talks - FT   \n",
              "1                      CompaniesLord Livingston joins Dixons Carphone   \n",
              "2    Water utility Severn Trent ups savings forecast, FY profit falls   \n",
              "3         EXCLUSIVE-BP, China's CNPC to unveil oil alliance - sources   \n",
              "4      BAE Systems's sales boosted by European Typhoon and currencies   \n",
              "..                                                                ...   \n",
              "223                United Utilities FY profit up 3.5%; to boost capex   \n",
              "224       Shell and BG Shareholders to Vote on Deal at End of January   \n",
              "225       BP sees Q1 earnings slide as low oil prices take their toll   \n",
              "226   AstraZeneca in Talks to Buy Cancer Drug Developer Acerta Pharma   \n",
              "227         Tesco bans sugary drinks in â€œchildhood obesity driveâ€퀀   \n",
              "\n",
              "     sentiment  \n",
              "0        0.145  \n",
              "1        0.364  \n",
              "2        0.177  \n",
              "3        0.326  \n",
              "4        0.390  \n",
              "..         ...  \n",
              "223      0.420  \n",
              "224      0.000  \n",
              "225     -0.376  \n",
              "226      0.210  \n",
              "227      0.020  \n",
              "\n",
              "[228 rows x 4 columns]"
            ],
            "text/html": [
              "\n",
              "  <div id=\"df-5f3cd042-35cb-4843-9036-d72b693c7dab\">\n",
              "    <div class=\"colab-df-container\">\n",
              "      <div>\n",
              "<style scoped>\n",
              "    .dataframe tbody tr th:only-of-type {\n",
              "        vertical-align: middle;\n",
              "    }\n",
              "\n",
              "    .dataframe tbody tr th {\n",
              "        vertical-align: top;\n",
              "    }\n",
              "\n",
              "    .dataframe thead th {\n",
              "        text-align: right;\n",
              "    }\n",
              "</style>\n",
              "<table border=\"1\" class=\"dataframe\">\n",
              "  <thead>\n",
              "    <tr style=\"text-align: right;\">\n",
              "      <th></th>\n",
              "      <th>id</th>\n",
              "      <th>company</th>\n",
              "      <th>title</th>\n",
              "      <th>sentiment</th>\n",
              "    </tr>\n",
              "  </thead>\n",
              "  <tbody>\n",
              "    <tr>\n",
              "      <th>0</th>\n",
              "      <td>155</td>\n",
              "      <td>Starwood</td>\n",
              "      <td>Intercontinental Hotels, Starwood held early deal talks - FT</td>\n",
              "      <td>0.145</td>\n",
              "    </tr>\n",
              "    <tr>\n",
              "      <th>1</th>\n",
              "      <td>71</td>\n",
              "      <td>Dixons Carphone</td>\n",
              "      <td>CompaniesLord Livingston joins Dixons Carphone</td>\n",
              "      <td>0.364</td>\n",
              "    </tr>\n",
              "    <tr>\n",
              "      <th>2</th>\n",
              "      <td>336</td>\n",
              "      <td>Severn Trent</td>\n",
              "      <td>Water utility Severn Trent ups savings forecast, FY profit falls</td>\n",
              "      <td>0.177</td>\n",
              "    </tr>\n",
              "    <tr>\n",
              "      <th>3</th>\n",
              "      <td>58</td>\n",
              "      <td>BP</td>\n",
              "      <td>EXCLUSIVE-BP, China's CNPC to unveil oil alliance - sources</td>\n",
              "      <td>0.326</td>\n",
              "    </tr>\n",
              "    <tr>\n",
              "      <th>4</th>\n",
              "      <td>225</td>\n",
              "      <td>BAE Systems</td>\n",
              "      <td>BAE Systems's sales boosted by European Typhoon and currencies</td>\n",
              "      <td>0.390</td>\n",
              "    </tr>\n",
              "    <tr>\n",
              "      <th>...</th>\n",
              "      <td>...</td>\n",
              "      <td>...</td>\n",
              "      <td>...</td>\n",
              "      <td>...</td>\n",
              "    </tr>\n",
              "    <tr>\n",
              "      <th>223</th>\n",
              "      <td>107</td>\n",
              "      <td>United Utilities</td>\n",
              "      <td>United Utilities FY profit up 3.5%; to boost capex</td>\n",
              "      <td>0.420</td>\n",
              "    </tr>\n",
              "    <tr>\n",
              "      <th>224</th>\n",
              "      <td>154</td>\n",
              "      <td>Shell</td>\n",
              "      <td>Shell and BG Shareholders to Vote on Deal at End of January</td>\n",
              "      <td>0.000</td>\n",
              "    </tr>\n",
              "    <tr>\n",
              "      <th>225</th>\n",
              "      <td>60</td>\n",
              "      <td>BP</td>\n",
              "      <td>BP sees Q1 earnings slide as low oil prices take their toll</td>\n",
              "      <td>-0.376</td>\n",
              "    </tr>\n",
              "    <tr>\n",
              "      <th>226</th>\n",
              "      <td>210</td>\n",
              "      <td>AstraZeneca</td>\n",
              "      <td>AstraZeneca in Talks to Buy Cancer Drug Developer Acerta Pharma</td>\n",
              "      <td>0.210</td>\n",
              "    </tr>\n",
              "    <tr>\n",
              "      <th>227</th>\n",
              "      <td>288</td>\n",
              "      <td>Tesco</td>\n",
              "      <td>Tesco bans sugary drinks in â€œchildhood obesity driveâ€퀀</td>\n",
              "      <td>0.020</td>\n",
              "    </tr>\n",
              "  </tbody>\n",
              "</table>\n",
              "<p>228 rows × 4 columns</p>\n",
              "</div>\n",
              "      <button class=\"colab-df-convert\" onclick=\"convertToInteractive('df-5f3cd042-35cb-4843-9036-d72b693c7dab')\"\n",
              "              title=\"Convert this dataframe to an interactive table.\"\n",
              "              style=\"display:none;\">\n",
              "        \n",
              "  <svg xmlns=\"http://www.w3.org/2000/svg\" height=\"24px\"viewBox=\"0 0 24 24\"\n",
              "       width=\"24px\">\n",
              "    <path d=\"M0 0h24v24H0V0z\" fill=\"none\"/>\n",
              "    <path d=\"M18.56 5.44l.94 2.06.94-2.06 2.06-.94-2.06-.94-.94-2.06-.94 2.06-2.06.94zm-11 1L8.5 8.5l.94-2.06 2.06-.94-2.06-.94L8.5 2.5l-.94 2.06-2.06.94zm10 10l.94 2.06.94-2.06 2.06-.94-2.06-.94-.94-2.06-.94 2.06-2.06.94z\"/><path d=\"M17.41 7.96l-1.37-1.37c-.4-.4-.92-.59-1.43-.59-.52 0-1.04.2-1.43.59L10.3 9.45l-7.72 7.72c-.78.78-.78 2.05 0 2.83L4 21.41c.39.39.9.59 1.41.59.51 0 1.02-.2 1.41-.59l7.78-7.78 2.81-2.81c.8-.78.8-2.07 0-2.86zM5.41 20L4 18.59l7.72-7.72 1.47 1.35L5.41 20z\"/>\n",
              "  </svg>\n",
              "      </button>\n",
              "      \n",
              "  <style>\n",
              "    .colab-df-container {\n",
              "      display:flex;\n",
              "      flex-wrap:wrap;\n",
              "      gap: 12px;\n",
              "    }\n",
              "\n",
              "    .colab-df-convert {\n",
              "      background-color: #E8F0FE;\n",
              "      border: none;\n",
              "      border-radius: 50%;\n",
              "      cursor: pointer;\n",
              "      display: none;\n",
              "      fill: #1967D2;\n",
              "      height: 32px;\n",
              "      padding: 0 0 0 0;\n",
              "      width: 32px;\n",
              "    }\n",
              "\n",
              "    .colab-df-convert:hover {\n",
              "      background-color: #E2EBFA;\n",
              "      box-shadow: 0px 1px 2px rgba(60, 64, 67, 0.3), 0px 1px 3px 1px rgba(60, 64, 67, 0.15);\n",
              "      fill: #174EA6;\n",
              "    }\n",
              "\n",
              "    [theme=dark] .colab-df-convert {\n",
              "      background-color: #3B4455;\n",
              "      fill: #D2E3FC;\n",
              "    }\n",
              "\n",
              "    [theme=dark] .colab-df-convert:hover {\n",
              "      background-color: #434B5C;\n",
              "      box-shadow: 0px 1px 3px 1px rgba(0, 0, 0, 0.15);\n",
              "      filter: drop-shadow(0px 1px 2px rgba(0, 0, 0, 0.3));\n",
              "      fill: #FFFFFF;\n",
              "    }\n",
              "  </style>\n",
              "\n",
              "      <script>\n",
              "        const buttonEl =\n",
              "          document.querySelector('#df-5f3cd042-35cb-4843-9036-d72b693c7dab button.colab-df-convert');\n",
              "        buttonEl.style.display =\n",
              "          google.colab.kernel.accessAllowed ? 'block' : 'none';\n",
              "\n",
              "        async function convertToInteractive(key) {\n",
              "          const element = document.querySelector('#df-5f3cd042-35cb-4843-9036-d72b693c7dab');\n",
              "          const dataTable =\n",
              "            await google.colab.kernel.invokeFunction('convertToInteractive',\n",
              "                                                     [key], {});\n",
              "          if (!dataTable) return;\n",
              "\n",
              "          const docLinkHtml = 'Like what you see? Visit the ' +\n",
              "            '<a target=\"_blank\" href=https://colab.research.google.com/notebooks/data_table.ipynb>data table notebook</a>'\n",
              "            + ' to learn more about interactive tables.';\n",
              "          element.innerHTML = '';\n",
              "          dataTable['output_type'] = 'display_data';\n",
              "          await google.colab.output.renderOutput(dataTable, element);\n",
              "          const docLink = document.createElement('div');\n",
              "          docLink.innerHTML = docLinkHtml;\n",
              "          element.appendChild(docLink);\n",
              "        }\n",
              "      </script>\n",
              "    </div>\n",
              "  </div>\n",
              "  "
            ]
          },
          "metadata": {},
          "execution_count": 39
        }
      ]
    },
    {
      "cell_type": "code",
      "source": [
        "pd.DataFrame(raw_test_ds.to_dict())"
      ],
      "metadata": {
        "colab": {
          "base_uri": "https://localhost:8080/",
          "height": 423
        },
        "id": "RZXzVIgG8p8T",
        "outputId": "2f636732-4157-4b0e-e054-7401e9cd38d2"
      },
      "execution_count": 40,
      "outputs": [
        {
          "output_type": "execute_result",
          "data": {
            "text/plain": [
              "       id          company  \\\n",
              "0    1144          Ashtead   \n",
              "1    1145            Shell   \n",
              "2    1146       Prudential   \n",
              "3    1147  GlaxoSmithKline   \n",
              "4    1148         Barclays   \n",
              "..    ...              ...   \n",
              "486  1630         Barclays   \n",
              "487  1631         Barclays   \n",
              "488  1632         Glencore   \n",
              "489  1633              GSK   \n",
              "490  1634      AstraZeneca   \n",
              "\n",
              "                                                                                        title  \\\n",
              "0                                Ashtead to buy back shares, full-year profit beats estimates   \n",
              "1                                            EU regulators clear Shell's takeover of BG Group   \n",
              "2                            UK's FTSE has worst day so far in 2015 as BG and Prudential fall   \n",
              "3                                                         GlaxoSmithKline acquires HIV assets   \n",
              "4                                                     Barclays faces another heavy forex fine   \n",
              "..                                                                                        ...   \n",
              "486  Exclusive: Barclays reins in foreign exchange trading before referendum result - sources   \n",
              "487                             Copper Falls With Mining Stocks as Barclays Warns of Pullback   \n",
              "488                                       LPC-Glencore launches refinancing of US$8.45bn loan   \n",
              "489                                GSK and Novartis complete deals to reshape both drugmakers   \n",
              "490                                 Sanofi poaches AstraZeneca scientist as new research head   \n",
              "\n",
              "     sentiment  \n",
              "0        0.588  \n",
              "1        0.276  \n",
              "2       -0.651  \n",
              "3        0.390  \n",
              "4       -0.834  \n",
              "..         ...  \n",
              "486      0.152  \n",
              "487     -0.800  \n",
              "488      0.173  \n",
              "489      0.285  \n",
              "490     -0.058  \n",
              "\n",
              "[491 rows x 4 columns]"
            ],
            "text/html": [
              "\n",
              "  <div id=\"df-3a02bb65-11c0-497a-9684-bfb1e97c31b2\">\n",
              "    <div class=\"colab-df-container\">\n",
              "      <div>\n",
              "<style scoped>\n",
              "    .dataframe tbody tr th:only-of-type {\n",
              "        vertical-align: middle;\n",
              "    }\n",
              "\n",
              "    .dataframe tbody tr th {\n",
              "        vertical-align: top;\n",
              "    }\n",
              "\n",
              "    .dataframe thead th {\n",
              "        text-align: right;\n",
              "    }\n",
              "</style>\n",
              "<table border=\"1\" class=\"dataframe\">\n",
              "  <thead>\n",
              "    <tr style=\"text-align: right;\">\n",
              "      <th></th>\n",
              "      <th>id</th>\n",
              "      <th>company</th>\n",
              "      <th>title</th>\n",
              "      <th>sentiment</th>\n",
              "    </tr>\n",
              "  </thead>\n",
              "  <tbody>\n",
              "    <tr>\n",
              "      <th>0</th>\n",
              "      <td>1144</td>\n",
              "      <td>Ashtead</td>\n",
              "      <td>Ashtead to buy back shares, full-year profit beats estimates</td>\n",
              "      <td>0.588</td>\n",
              "    </tr>\n",
              "    <tr>\n",
              "      <th>1</th>\n",
              "      <td>1145</td>\n",
              "      <td>Shell</td>\n",
              "      <td>EU regulators clear Shell's takeover of BG Group</td>\n",
              "      <td>0.276</td>\n",
              "    </tr>\n",
              "    <tr>\n",
              "      <th>2</th>\n",
              "      <td>1146</td>\n",
              "      <td>Prudential</td>\n",
              "      <td>UK's FTSE has worst day so far in 2015 as BG and Prudential fall</td>\n",
              "      <td>-0.651</td>\n",
              "    </tr>\n",
              "    <tr>\n",
              "      <th>3</th>\n",
              "      <td>1147</td>\n",
              "      <td>GlaxoSmithKline</td>\n",
              "      <td>GlaxoSmithKline acquires HIV assets</td>\n",
              "      <td>0.390</td>\n",
              "    </tr>\n",
              "    <tr>\n",
              "      <th>4</th>\n",
              "      <td>1148</td>\n",
              "      <td>Barclays</td>\n",
              "      <td>Barclays faces another heavy forex fine</td>\n",
              "      <td>-0.834</td>\n",
              "    </tr>\n",
              "    <tr>\n",
              "      <th>...</th>\n",
              "      <td>...</td>\n",
              "      <td>...</td>\n",
              "      <td>...</td>\n",
              "      <td>...</td>\n",
              "    </tr>\n",
              "    <tr>\n",
              "      <th>486</th>\n",
              "      <td>1630</td>\n",
              "      <td>Barclays</td>\n",
              "      <td>Exclusive: Barclays reins in foreign exchange trading before referendum result - sources</td>\n",
              "      <td>0.152</td>\n",
              "    </tr>\n",
              "    <tr>\n",
              "      <th>487</th>\n",
              "      <td>1631</td>\n",
              "      <td>Barclays</td>\n",
              "      <td>Copper Falls With Mining Stocks as Barclays Warns of Pullback</td>\n",
              "      <td>-0.800</td>\n",
              "    </tr>\n",
              "    <tr>\n",
              "      <th>488</th>\n",
              "      <td>1632</td>\n",
              "      <td>Glencore</td>\n",
              "      <td>LPC-Glencore launches refinancing of US$8.45bn loan</td>\n",
              "      <td>0.173</td>\n",
              "    </tr>\n",
              "    <tr>\n",
              "      <th>489</th>\n",
              "      <td>1633</td>\n",
              "      <td>GSK</td>\n",
              "      <td>GSK and Novartis complete deals to reshape both drugmakers</td>\n",
              "      <td>0.285</td>\n",
              "    </tr>\n",
              "    <tr>\n",
              "      <th>490</th>\n",
              "      <td>1634</td>\n",
              "      <td>AstraZeneca</td>\n",
              "      <td>Sanofi poaches AstraZeneca scientist as new research head</td>\n",
              "      <td>-0.058</td>\n",
              "    </tr>\n",
              "  </tbody>\n",
              "</table>\n",
              "<p>491 rows × 4 columns</p>\n",
              "</div>\n",
              "      <button class=\"colab-df-convert\" onclick=\"convertToInteractive('df-3a02bb65-11c0-497a-9684-bfb1e97c31b2')\"\n",
              "              title=\"Convert this dataframe to an interactive table.\"\n",
              "              style=\"display:none;\">\n",
              "        \n",
              "  <svg xmlns=\"http://www.w3.org/2000/svg\" height=\"24px\"viewBox=\"0 0 24 24\"\n",
              "       width=\"24px\">\n",
              "    <path d=\"M0 0h24v24H0V0z\" fill=\"none\"/>\n",
              "    <path d=\"M18.56 5.44l.94 2.06.94-2.06 2.06-.94-2.06-.94-.94-2.06-.94 2.06-2.06.94zm-11 1L8.5 8.5l.94-2.06 2.06-.94-2.06-.94L8.5 2.5l-.94 2.06-2.06.94zm10 10l.94 2.06.94-2.06 2.06-.94-2.06-.94-.94-2.06-.94 2.06-2.06.94z\"/><path d=\"M17.41 7.96l-1.37-1.37c-.4-.4-.92-.59-1.43-.59-.52 0-1.04.2-1.43.59L10.3 9.45l-7.72 7.72c-.78.78-.78 2.05 0 2.83L4 21.41c.39.39.9.59 1.41.59.51 0 1.02-.2 1.41-.59l7.78-7.78 2.81-2.81c.8-.78.8-2.07 0-2.86zM5.41 20L4 18.59l7.72-7.72 1.47 1.35L5.41 20z\"/>\n",
              "  </svg>\n",
              "      </button>\n",
              "      \n",
              "  <style>\n",
              "    .colab-df-container {\n",
              "      display:flex;\n",
              "      flex-wrap:wrap;\n",
              "      gap: 12px;\n",
              "    }\n",
              "\n",
              "    .colab-df-convert {\n",
              "      background-color: #E8F0FE;\n",
              "      border: none;\n",
              "      border-radius: 50%;\n",
              "      cursor: pointer;\n",
              "      display: none;\n",
              "      fill: #1967D2;\n",
              "      height: 32px;\n",
              "      padding: 0 0 0 0;\n",
              "      width: 32px;\n",
              "    }\n",
              "\n",
              "    .colab-df-convert:hover {\n",
              "      background-color: #E2EBFA;\n",
              "      box-shadow: 0px 1px 2px rgba(60, 64, 67, 0.3), 0px 1px 3px 1px rgba(60, 64, 67, 0.15);\n",
              "      fill: #174EA6;\n",
              "    }\n",
              "\n",
              "    [theme=dark] .colab-df-convert {\n",
              "      background-color: #3B4455;\n",
              "      fill: #D2E3FC;\n",
              "    }\n",
              "\n",
              "    [theme=dark] .colab-df-convert:hover {\n",
              "      background-color: #434B5C;\n",
              "      box-shadow: 0px 1px 3px 1px rgba(0, 0, 0, 0.15);\n",
              "      filter: drop-shadow(0px 1px 2px rgba(0, 0, 0, 0.3));\n",
              "      fill: #FFFFFF;\n",
              "    }\n",
              "  </style>\n",
              "\n",
              "      <script>\n",
              "        const buttonEl =\n",
              "          document.querySelector('#df-3a02bb65-11c0-497a-9684-bfb1e97c31b2 button.colab-df-convert');\n",
              "        buttonEl.style.display =\n",
              "          google.colab.kernel.accessAllowed ? 'block' : 'none';\n",
              "\n",
              "        async function convertToInteractive(key) {\n",
              "          const element = document.querySelector('#df-3a02bb65-11c0-497a-9684-bfb1e97c31b2');\n",
              "          const dataTable =\n",
              "            await google.colab.kernel.invokeFunction('convertToInteractive',\n",
              "                                                     [key], {});\n",
              "          if (!dataTable) return;\n",
              "\n",
              "          const docLinkHtml = 'Like what you see? Visit the ' +\n",
              "            '<a target=\"_blank\" href=https://colab.research.google.com/notebooks/data_table.ipynb>data table notebook</a>'\n",
              "            + ' to learn more about interactive tables.';\n",
              "          element.innerHTML = '';\n",
              "          dataTable['output_type'] = 'display_data';\n",
              "          await google.colab.output.renderOutput(dataTable, element);\n",
              "          const docLink = document.createElement('div');\n",
              "          docLink.innerHTML = docLinkHtml;\n",
              "          element.appendChild(docLink);\n",
              "        }\n",
              "      </script>\n",
              "    </div>\n",
              "  </div>\n",
              "  "
            ]
          },
          "metadata": {},
          "execution_count": 40
        }
      ]
    },
    {
      "cell_type": "markdown",
      "source": [
        "## Tokenize datasets"
      ],
      "metadata": {
        "id": "rTHr7Gd-KH_X"
      }
    },
    {
      "cell_type": "markdown",
      "source": [
        "#### Get Max Tokenized Vector Length"
      ],
      "metadata": {
        "id": "fsfsf0XLTI9Q"
      }
    },
    {
      "cell_type": "code",
      "source": [
        "def get_max_tokenized_length(ds, tok):\n",
        "    max_len_raw = 0\n",
        "    max_len_token_vector = 0\n",
        "    \n",
        "    for text_input in ds:\n",
        "        \n",
        "        if len(text_input.split(\" \")) > max_len_raw:\n",
        "            max_len_raw = len(text_input.split(\" \"))\n",
        "        \n",
        "        if len(tok(text_input)['input_ids']) > max_len_token_vector:\n",
        "            max_len_token_vector = len(tok(text_input)['input_ids'])\n",
        "\n",
        "    return max_len_raw, max_len_token_vector"
      ],
      "metadata": {
        "id": "2DJNcxJ_R1_P"
      },
      "execution_count": 18,
      "outputs": []
    },
    {
      "cell_type": "code",
      "source": [
        "tokenizer = AutoTokenizer.from_pretrained(\"bert-base-uncased\")\n",
        "max_len_raw, max_len_token_vector = get_max_tokenized_length(raw_train_ds['title'] + raw_val_ds['title'] + raw_test_ds['title'], tok=tokenizer)\n",
        "output.clear()"
      ],
      "metadata": {
        "id": "Bjtfcen-vN3m"
      },
      "execution_count": null,
      "outputs": []
    },
    {
      "cell_type": "code",
      "source": [
        "print('For AutoTokenzier associated with \"bert-base-uncased\":')\n",
        "print('(Note this will potentially be different for each pretrained model)\\n')\n",
        "print(f'max_len_raw (longest headline)= {max_len_raw}')\n",
        "print(f'max_len_tokenized (longest tokenized headline)= {max_len_token_vector}')"
      ],
      "metadata": {
        "colab": {
          "base_uri": "https://localhost:8080/"
        },
        "id": "VLXILrGjFhKu",
        "outputId": "7b1778f6-c6aa-47b5-de01-5977b179d865"
      },
      "execution_count": 42,
      "outputs": [
        {
          "output_type": "stream",
          "name": "stdout",
          "text": [
            "For AutoTokenzier associated with \"bert-base-uncased\":\n",
            "(Note this will potentially be different for each pretrained model)\n",
            "\n",
            "max_len_raw (longest headline)= 18\n",
            "max_len_tokenized (longest tokenized headline)= 29\n"
          ]
        }
      ]
    },
    {
      "cell_type": "markdown",
      "source": [
        "#### Tokenize and save as TF Dataset object"
      ],
      "metadata": {
        "id": "mQVhCif0IZsp"
      }
    },
    {
      "cell_type": "code",
      "source": [
        "def create_tokenized_tf_datasets(untokenized_datasets_dict, tok, max_len):\n",
        "\n",
        "    def preprocess_function(examples):#, max_len, tok):\n",
        "        label = examples[\"sentiment\"] \n",
        "        examples = tok(examples[\"title\"], truncation=True, padding=\"max_length\", max_length=max_len)\n",
        "        \n",
        "        # Change this to real number\n",
        "        examples[\"label\"] = float(label)\n",
        "        return examples\n",
        "\n",
        "\n",
        "    tokenized_datasets = dict()\n",
        "    for split in untokenized_datasets_dict:\n",
        "        tokenized_datasets[split] = untokenized_datasets_dict[split].map(preprocess_function)\n",
        "\n",
        "    data_collator = DataCollatorWithPadding(tokenizer=tok, return_tensors=\"tf\")\n",
        "\n",
        "    tf_train_dataset = tokenized_datasets[\"train\"].to_tf_dataset(\n",
        "        columns=[\"attention_mask\", \"input_ids\"],#, \"token_type_ids\"],\n",
        "        label_cols=[\"labels\"],\n",
        "        shuffle=True,\n",
        "        collate_fn=data_collator,\n",
        "        batch_size=4,\n",
        "    )\n",
        "\n",
        "    tf_val_dataset = tokenized_datasets[\"val\"].to_tf_dataset(\n",
        "        columns=[\"attention_mask\", \"input_ids\"],#, \"token_type_ids\"],\n",
        "        label_cols=[\"labels\"],\n",
        "        shuffle=True,\n",
        "        collate_fn=data_collator,\n",
        "        batch_size=4,\n",
        "    )    \n",
        "\n",
        "    tf_test_dataset = tokenized_datasets[\"test\"].to_tf_dataset(\n",
        "        columns=[\"attention_mask\", \"input_ids\"],#, \"token_type_ids\"],\n",
        "        label_cols=[\"labels\"],\n",
        "        shuffle=False,\n",
        "        collate_fn=data_collator,\n",
        "        batch_size=4,\n",
        "    )\n",
        "\n",
        "    return tokenized_datasets, tf_train_dataset, tf_val_dataset, tf_test_dataset"
      ],
      "metadata": {
        "id": "hOLEXAilMD2N"
      },
      "execution_count": 20,
      "outputs": []
    },
    {
      "cell_type": "code",
      "source": [
        "tokenized_datasets, tf_train_dataset, tf_val_dataset, tf_test_dataset = create_tokenized_tf_datasets(untokenized_datasets_dict=raw_datasets, tok=tokenizer, max_len=max_len_token_vector)"
      ],
      "metadata": {
        "id": "tMDhLUPQvUn_"
      },
      "execution_count": null,
      "outputs": []
    },
    {
      "cell_type": "markdown",
      "source": [
        "#### Look at tokenized dataset"
      ],
      "metadata": {
        "id": "Fs2Gpsx_Ila0"
      }
    },
    {
      "cell_type": "code",
      "source": [
        "# Full training set\n",
        "np.asarray(tokenized_datasets['train']['input_ids'])"
      ],
      "metadata": {
        "colab": {
          "base_uri": "https://localhost:8080/"
        },
        "id": "s-MLGVKZXoLn",
        "outputId": "262bf718-17f5-410e-c97c-326d6c435058"
      },
      "execution_count": 44,
      "outputs": [
        {
          "output_type": "execute_result",
          "data": {
            "text/plain": [
              "array([[  101, 10047,  2072, ...,     0,     0,     0],\n",
              "       [  101,  8904, 17345, ...,     0,     0,     0],\n",
              "       [  101,  3733, 15759, ...,     0,     0,     0],\n",
              "       ...,\n",
              "       [  101,  1038,  2290, ...,     0,     0,     0],\n",
              "       [  101, 23724,  2015, ...,     0,     0,     0],\n",
              "       [  101,  2332,  7529, ...,     0,     0,     0]])"
            ]
          },
          "metadata": {},
          "execution_count": 44
        }
      ]
    },
    {
      "cell_type": "code",
      "source": [
        "# First sentence observation -- tokenized representation\n",
        "np.asarray(tokenized_datasets['train']['input_ids'])[0,:]"
      ],
      "metadata": {
        "colab": {
          "base_uri": "https://localhost:8080/"
        },
        "id": "llbG6CDvYju1",
        "outputId": "eafeeeea-9de3-4251-c272-62e10df3594a"
      },
      "execution_count": 45,
      "outputs": [
        {
          "output_type": "execute_result",
          "data": {
            "text/plain": [
              "array([  101, 10047,  2072,  8466,  4530,  1999,  2034,  1011,  4284,\n",
              "        7554,  6599,  1025, 19428,  2006,  2440,  2095,   102,     0,\n",
              "           0,     0,     0,     0,     0,     0,     0,     0,     0,\n",
              "           0,     0])"
            ]
          },
          "metadata": {},
          "execution_count": 45
        }
      ]
    },
    {
      "cell_type": "code",
      "source": [
        "# (training_set_rows, max_token_vector_length)\n",
        "np.asarray(tokenized_datasets['train']['input_ids']).shape"
      ],
      "metadata": {
        "colab": {
          "base_uri": "https://localhost:8080/"
        },
        "id": "NaMIvt1SYSnH",
        "outputId": "fdd798f0-f112-4979-8bdf-cc581c587d8b"
      },
      "execution_count": 46,
      "outputs": [
        {
          "output_type": "execute_result",
          "data": {
            "text/plain": [
              "(914, 29)"
            ]
          },
          "metadata": {},
          "execution_count": 46
        }
      ]
    },
    {
      "cell_type": "code",
      "source": [
        "# Convert back from tokenized to text representation\n",
        "tokenizer.decode(tokenizer(raw_train_ds['title'][6])['input_ids'])"
      ],
      "metadata": {
        "colab": {
          "base_uri": "https://localhost:8080/",
          "height": 36
        },
        "outputId": "f7b897b0-23fb-4f08-cb46-e9a27a1d91ff",
        "id": "hBf8i5QUPOOz"
      },
      "execution_count": 47,
      "outputs": [
        {
          "output_type": "execute_result",
          "data": {
            "text/plain": [
              "'[CLS] centrica prepared for takeover approach - chairman [SEP]'"
            ],
            "application/vnd.google.colaboratory.intrinsic+json": {
              "type": "string"
            }
          },
          "metadata": {},
          "execution_count": 47
        }
      ]
    },
    {
      "cell_type": "code",
      "source": [
        "# Same, represented as tokens\n",
        "# 101 - [CLS]\n",
        "# 102 - [SEP]\n",
        "tokenizer(raw_train_ds['title'][6])['input_ids']"
      ],
      "metadata": {
        "colab": {
          "base_uri": "https://localhost:8080/"
        },
        "id": "4Kgwe77aPTlH",
        "outputId": "779b7b72-ba31-4955-de01-a3cb029b755f"
      },
      "execution_count": 48,
      "outputs": [
        {
          "output_type": "execute_result",
          "data": {
            "text/plain": [
              "[101, 9358, 14735, 4810, 2005, 15336, 3921, 1011, 3472, 102]"
            ]
          },
          "metadata": {},
          "execution_count": 48
        }
      ]
    },
    {
      "cell_type": "code",
      "source": [
        "# Batch #1:\n",
        "\n",
        "\n",
        "# [tokenized sentences,\n",
        "#  N/A (not used by BERT),\n",
        "#  attention masks,\n",
        "#  labels]\n",
        "\n",
        "arr = tf_train_dataset.as_numpy_iterator()\n",
        "l = list(arr)\n",
        "l[0]"
      ],
      "metadata": {
        "colab": {
          "base_uri": "https://localhost:8080/"
        },
        "id": "swXs4NVFMwoL",
        "outputId": "1a8561e6-2b6d-42c3-9849-eb7ac581453a"
      },
      "execution_count": 49,
      "outputs": [
        {
          "output_type": "execute_result",
          "data": {
            "text/plain": [
              "({'input_ids': array([[  101,  2866, 15187,  2062,  1997,  6746,  2015,  2924,  8406,\n",
              "           1010,  2260,  1012,  1019,  4551,  7038,  2992,  2061,  2521,\n",
              "            102,     0,     0,     0,     0,     0,     0,     0,     0,\n",
              "              0,     0],\n",
              "         [  101, 10975, 12672, 19909,  6573,  2044,  9387, 10632,  1037,\n",
              "          29646,  2509,  1012,  1023, 24700,  2013,  1049,  1004,  1043,\n",
              "            102,     0,     0,     0,     0,     0,     0,     0,     0,\n",
              "              0,     0],\n",
              "         [  101, 10651,  1019,  1011, 23724,  2015,  3472, 11338, 23511,\n",
              "          19589,  5766,  2000,  3177,  2039,  6143,  2689,   102,     0,\n",
              "              0,     0,     0,     0,     0,     0,     0,     0,     0,\n",
              "              0,     0],\n",
              "         [  101,  2866,  2231,  7659,  8406,  1999,  6746,  2015,  2000,\n",
              "           2917,  2340,  3867,   102,     0,     0,     0,     0,     0,\n",
              "              0,     0,     0,     0,     0,     0,     0,     0,     0,\n",
              "              0,     0]]),\n",
              "  'token_type_ids': array([[0, 0, 0, 0, 0, 0, 0, 0, 0, 0, 0, 0, 0, 0, 0, 0, 0, 0, 0, 0, 0, 0,\n",
              "          0, 0, 0, 0, 0, 0, 0],\n",
              "         [0, 0, 0, 0, 0, 0, 0, 0, 0, 0, 0, 0, 0, 0, 0, 0, 0, 0, 0, 0, 0, 0,\n",
              "          0, 0, 0, 0, 0, 0, 0],\n",
              "         [0, 0, 0, 0, 0, 0, 0, 0, 0, 0, 0, 0, 0, 0, 0, 0, 0, 0, 0, 0, 0, 0,\n",
              "          0, 0, 0, 0, 0, 0, 0],\n",
              "         [0, 0, 0, 0, 0, 0, 0, 0, 0, 0, 0, 0, 0, 0, 0, 0, 0, 0, 0, 0, 0, 0,\n",
              "          0, 0, 0, 0, 0, 0, 0]]),\n",
              "  'attention_mask': array([[1, 1, 1, 1, 1, 1, 1, 1, 1, 1, 1, 1, 1, 1, 1, 1, 1, 1, 1, 0, 0, 0,\n",
              "          0, 0, 0, 0, 0, 0, 0],\n",
              "         [1, 1, 1, 1, 1, 1, 1, 1, 1, 1, 1, 1, 1, 1, 1, 1, 1, 1, 1, 0, 0, 0,\n",
              "          0, 0, 0, 0, 0, 0, 0],\n",
              "         [1, 1, 1, 1, 1, 1, 1, 1, 1, 1, 1, 1, 1, 1, 1, 1, 1, 0, 0, 0, 0, 0,\n",
              "          0, 0, 0, 0, 0, 0, 0],\n",
              "         [1, 1, 1, 1, 1, 1, 1, 1, 1, 1, 1, 1, 1, 0, 0, 0, 0, 0, 0, 0, 0, 0,\n",
              "          0, 0, 0, 0, 0, 0, 0]])},\n",
              " array([-0.263, -0.778, -0.229, -0.18 ], dtype=float32))"
            ]
          },
          "metadata": {},
          "execution_count": 49
        }
      ]
    },
    {
      "cell_type": "markdown",
      "source": [
        "# Create function to fit model"
      ],
      "metadata": {
        "id": "0QXC3XWLjKFP"
      }
    },
    {
      "cell_type": "code",
      "source": [
        "def load_compile_fit_eval_model(checkpoint, train_ds, val_ds, test_df):\n",
        "    model = TFAutoModelForSequenceClassification.from_pretrained(checkpoint, num_labels=1, ignore_mismatched_sizes=True, from_pt=True) # num_labels=1 --> regression head after BERT layer (linear layer for output)\n",
        "    model.compile(optimizer=tf.keras.optimizers.Adam(learning_rate=2e-5), loss=\"mse\", metrics=['cosine_proximity'])\n",
        "    early_stopping_monitor = EarlyStopping(patience=6)\n",
        "    \n",
        "    model.fit(train_ds, epochs=50, validation_data=val_ds, callbacks=[early_stopping_monitor])# batch_size=4,\n",
        "\n",
        "    predicted_sentiments = model.predict(test_df)\n",
        "    result = cosine_score(predicted_sentiments['logits'][:,0],  np.concatenate([y for x, y in test_df], axis=0))\n",
        "    return result"
      ],
      "metadata": {
        "id": "XmPRkUJhjQJP"
      },
      "execution_count": 26,
      "outputs": []
    },
    {
      "cell_type": "code",
      "source": [
        "def tenfold_cross_val(train_ds, checkpoint):\n",
        "\n",
        "    all_results = []\n",
        "\n",
        "    kfold = KFold(n_splits=10, shuffle=True, random_state=42)\n",
        "    for i, (train_index, test_index) in enumerate(kfold.split(train_ds['title'], train_ds['sentiment'])):\n",
        "        \n",
        "        print(f\"Fold {i}:\")\n",
        "        print(f\"  Train: index={train_index}\")\n",
        "        print(f\"  Test:  index={test_index}\")\n",
        "\n",
        "        tokenized_cv_train = Dataset.from_dict(train_ds[train_index]).map(preprocess_function, remove_columns=['id', 'company', 'title', 'sentiment'])\n",
        "        tokenized_cv_test = Dataset.from_dict(train_ds[test_index]).map(preprocess_function, remove_columns=['id', 'company', 'title', 'sentiment'])\n",
        "\n",
        "        data_collator = DataCollatorWithPadding(tokenizer=tokenizer, return_tensors=\"tf\")\n",
        "\n",
        "        cv_train_dataset_tf = tokenized_cv_train.to_tf_dataset(\n",
        "            columns=[\"attention_mask\", \"input_ids\"],# \"token_type_ids\"],\n",
        "            label_cols=[\"labels\"],\n",
        "            shuffle=False,\n",
        "            collate_fn=data_collator,\n",
        "            batch_size=4,\n",
        "        )\n",
        "\n",
        "        cv_test_dataset_tf = tokenized_cv_test.to_tf_dataset(\n",
        "            columns=[\"attention_mask\", \"input_ids\"],# \"token_type_ids\"],\n",
        "            label_cols=[\"labels\"],\n",
        "            shuffle=False,\n",
        "            collate_fn=data_collator,\n",
        "            batch_size=4,\n",
        "        )\n",
        "    \n",
        "        model = TFAutoModelForSequenceClassification.from_pretrained(checkpoint, num_labels=1, ignore_mismatched_sizes=True, from_pt=True) # num_labels=1 --> regression head after BERT layer (linear layer for output)\n",
        "        model.compile(optimizer=tf.keras.optimizers.Adam(learning_rate=2e-5), loss=\"mse\", metrics=['cosine_proximity'])\n",
        "        model.fit(cv_train_dataset_tf, epochs=10)\n",
        "\n",
        "        predicted_sentiments = model.predict(cv_test_dataset_tf)\n",
        "        result = cosine_score(predicted_sentiments['logits'][:,0],  np.concatenate([y for x, y in cv_test_dataset_tf], axis=0))\n",
        "        print(f'Fold {i} cosine_similarity = {result}\\n\\n')\n",
        "        all_results.append(result)\n",
        "\n",
        "    return all_results"
      ],
      "metadata": {
        "id": "uhrbJNWLCiVa"
      },
      "execution_count": null,
      "outputs": []
    },
    {
      "cell_type": "markdown",
      "source": [
        "# BERT\n",
        "bert-base-uncased  \n",
        "Cross Validation cosine_similarity = 74.94  \n",
        "Competition Test Set cosine_similarity = 79.26"
      ],
      "metadata": {
        "id": "oP5sMvNiFsNK"
      }
    },
    {
      "cell_type": "markdown",
      "source": [
        "## Preprocessing for input into BERT"
      ],
      "metadata": {
        "id": "VYpK1RvtMUvL"
      }
    },
    {
      "cell_type": "code",
      "source": [
        "current = \"bert-base-uncased\""
      ],
      "metadata": {
        "id": "zdI6meSgTBXG"
      },
      "execution_count": 51,
      "outputs": []
    },
    {
      "cell_type": "code",
      "source": [
        "tokenizer = AutoTokenizer.from_pretrained(current)\n",
        "max_len_raw, max_len_token_vector = get_max_tokenized_length(raw_train_ds['title'] + raw_test_ds['title'], tok=tokenizer)\n",
        "\n",
        "print(f'For AutoTokenzier associated with \"{current}\":')\n",
        "print('(Note this will potentially be different for each pretrained model)\\n')\n",
        "print(f'max_len_raw (longest headline)= {max_len_raw}')\n",
        "print(f'max_len_tokenized (longest tokenized headline)= {max_len_token_vector}')"
      ],
      "metadata": {
        "id": "i6rVLe3JL3BF",
        "colab": {
          "base_uri": "https://localhost:8080/"
        },
        "outputId": "12aec662-302a-4938-83dd-6b45f704b1e7"
      },
      "execution_count": 52,
      "outputs": [
        {
          "output_type": "stream",
          "name": "stdout",
          "text": [
            "For AutoTokenzier associated with \"bert-base-uncased\":\n",
            "(Note this will potentially be different for each pretrained model)\n",
            "\n",
            "max_len_raw (longest headline)= 18\n",
            "max_len_tokenized (longest tokenized headline)= 29\n"
          ]
        }
      ]
    },
    {
      "cell_type": "code",
      "source": [
        "tokenized_datasets, tf_train_dataset, tf_val_dataset, tf_test_dataset = create_tokenized_tf_datasets(untokenized_datasets_dict = raw_datasets, \n",
        "                                                                                                     tok = tokenizer, \n",
        "                                                                                                     max_len = max_len_token_vector)\n",
        "output.clear()"
      ],
      "metadata": {
        "id": "hkAs5Q8mHKON"
      },
      "execution_count": 53,
      "outputs": []
    },
    {
      "cell_type": "markdown",
      "source": [
        "## Fit and Evaluate BERT"
      ],
      "metadata": {
        "id": "GOh_TBGOzV3V"
      }
    },
    {
      "cell_type": "code",
      "source": [
        "load_compile_fit_eval_model(current, tf_train_dataset, tf_val_dataset, tf_test_dataset)"
      ],
      "metadata": {
        "colab": {
          "base_uri": "https://localhost:8080/"
        },
        "id": "dAdUgKdtkcN2",
        "outputId": "fcb6c8d4-60e0-408b-9cf3-91a82b66eaca"
      },
      "execution_count": 56,
      "outputs": [
        {
          "output_type": "stream",
          "name": "stderr",
          "text": [
            "All model checkpoint layers were used when initializing TFBertForSequenceClassification.\n",
            "\n",
            "Some layers of TFBertForSequenceClassification were not initialized from the model checkpoint at bert-base-uncased and are newly initialized: ['classifier']\n",
            "You should probably TRAIN this model on a down-stream task to be able to use it for predictions and inference.\n"
          ]
        },
        {
          "output_type": "stream",
          "name": "stdout",
          "text": [
            "Epoch 1/50\n",
            "229/229 [==============================] - 30s 68ms/step - loss: 0.1296 - cosine_proximity: 0.3873 - val_loss: 0.0657 - val_cosine_proximity: 0.7281\n",
            "Epoch 2/50\n",
            "229/229 [==============================] - 13s 56ms/step - loss: 0.0657 - cosine_proximity: 0.6937 - val_loss: 0.0557 - val_cosine_proximity: 0.7193\n",
            "Epoch 3/50\n",
            "229/229 [==============================] - 13s 56ms/step - loss: 0.0404 - cosine_proximity: 0.7746 - val_loss: 0.0536 - val_cosine_proximity: 0.7632\n",
            "Epoch 4/50\n",
            "229/229 [==============================] - 13s 57ms/step - loss: 0.0293 - cosine_proximity: 0.8140 - val_loss: 0.0498 - val_cosine_proximity: 0.7632\n",
            "Epoch 5/50\n",
            "229/229 [==============================] - 13s 56ms/step - loss: 0.0221 - cosine_proximity: 0.8337 - val_loss: 0.0578 - val_cosine_proximity: 0.7018\n",
            "Epoch 6/50\n",
            "229/229 [==============================] - 13s 56ms/step - loss: 0.0191 - cosine_proximity: 0.8425 - val_loss: 0.0524 - val_cosine_proximity: 0.7105\n",
            "Epoch 7/50\n",
            "229/229 [==============================] - 13s 58ms/step - loss: 0.0195 - cosine_proximity: 0.8687 - val_loss: 0.0494 - val_cosine_proximity: 0.7368\n",
            "Epoch 8/50\n",
            "229/229 [==============================] - 13s 57ms/step - loss: 0.0143 - cosine_proximity: 0.8490 - val_loss: 0.0543 - val_cosine_proximity: 0.7368\n",
            "Epoch 9/50\n",
            "229/229 [==============================] - 13s 57ms/step - loss: 0.0156 - cosine_proximity: 0.8753 - val_loss: 0.0492 - val_cosine_proximity: 0.7456\n",
            "Epoch 10/50\n",
            "229/229 [==============================] - 13s 57ms/step - loss: 0.0146 - cosine_proximity: 0.8687 - val_loss: 0.0499 - val_cosine_proximity: 0.7456\n",
            "Epoch 11/50\n",
            "229/229 [==============================] - 13s 56ms/step - loss: 0.0135 - cosine_proximity: 0.8731 - val_loss: 0.0517 - val_cosine_proximity: 0.7193\n",
            "Epoch 12/50\n",
            "229/229 [==============================] - 13s 56ms/step - loss: 0.0137 - cosine_proximity: 0.8862 - val_loss: 0.0475 - val_cosine_proximity: 0.7368\n",
            "Epoch 13/50\n",
            "229/229 [==============================] - 13s 56ms/step - loss: 0.0148 - cosine_proximity: 0.8687 - val_loss: 0.0477 - val_cosine_proximity: 0.7544\n",
            "Epoch 14/50\n",
            "229/229 [==============================] - 13s 57ms/step - loss: 0.0133 - cosine_proximity: 0.8687 - val_loss: 0.0479 - val_cosine_proximity: 0.7018\n",
            "Epoch 15/50\n",
            "229/229 [==============================] - 13s 56ms/step - loss: 0.0138 - cosine_proximity: 0.8753 - val_loss: 0.0526 - val_cosine_proximity: 0.7456\n",
            "Epoch 16/50\n",
            "229/229 [==============================] - 13s 56ms/step - loss: 0.0126 - cosine_proximity: 0.8643 - val_loss: 0.0466 - val_cosine_proximity: 0.7456\n",
            "Epoch 17/50\n",
            "229/229 [==============================] - 13s 56ms/step - loss: 0.0119 - cosine_proximity: 0.8906 - val_loss: 0.0536 - val_cosine_proximity: 0.7018\n",
            "Epoch 18/50\n",
            "229/229 [==============================] - 13s 56ms/step - loss: 0.0128 - cosine_proximity: 0.8840 - val_loss: 0.0531 - val_cosine_proximity: 0.7018\n",
            "Epoch 19/50\n",
            "229/229 [==============================] - 13s 56ms/step - loss: 0.0118 - cosine_proximity: 0.8818 - val_loss: 0.0540 - val_cosine_proximity: 0.7632\n",
            "Epoch 20/50\n",
            "229/229 [==============================] - 13s 56ms/step - loss: 0.0109 - cosine_proximity: 0.8796 - val_loss: 0.0493 - val_cosine_proximity: 0.7193\n",
            "Epoch 21/50\n",
            "229/229 [==============================] - 13s 56ms/step - loss: 0.0113 - cosine_proximity: 0.8928 - val_loss: 0.0539 - val_cosine_proximity: 0.7018\n",
            "Epoch 22/50\n",
            "229/229 [==============================] - 13s 56ms/step - loss: 0.0119 - cosine_proximity: 0.8862 - val_loss: 0.0505 - val_cosine_proximity: 0.7193\n",
            "123/123 [==============================] - 6s 24ms/step\n"
          ]
        },
        {
          "output_type": "execute_result",
          "data": {
            "text/plain": [
              "0.7926343679428101"
            ]
          },
          "metadata": {},
          "execution_count": 56
        }
      ]
    },
    {
      "cell_type": "markdown",
      "source": [
        "## Perform 10-Fold Cross Validation\n",
        "(as a proxy for test set - prior to receiving ground truth test set)"
      ],
      "metadata": {
        "id": "YvS7Wb7cNwjG"
      }
    },
    {
      "cell_type": "code",
      "source": [
        "cv_raw_data_cosine_similarity_all_folds = tenfold_cross_val(raw_train_ds)\n",
        "cv_raw_data_cosine_similarity_avg = (sum(cv_raw_data_cosine_similarity_all_folds) / len(cv_raw_data_cosine_similarity_all_folds)) * 100"
      ],
      "metadata": {
        "id": "sEUTcox08Xy3"
      },
      "execution_count": null,
      "outputs": []
    },
    {
      "cell_type": "code",
      "source": [
        "cv_raw_data_cosine_similarity_avg"
      ],
      "metadata": {
        "colab": {
          "base_uri": "https://localhost:8080/"
        },
        "id": "gqm707vlY4Mt",
        "outputId": "db9ad506-f4c2-41ca-d651-675bc15d2740"
      },
      "execution_count": null,
      "outputs": [
        {
          "output_type": "execute_result",
          "data": {
            "text/plain": [
              "74.94607746601105"
            ]
          },
          "metadata": {},
          "execution_count": 124
        }
      ]
    },
    {
      "cell_type": "markdown",
      "source": [
        "# finBERT\n",
        "ProsusAI/finbert  \n",
        "Cross Validation cosine_similarity = 77.79  \n",
        "Competition Test Set cosine_similarity = 80.69"
      ],
      "metadata": {
        "id": "NBJLkk9FaW9x"
      }
    },
    {
      "cell_type": "markdown",
      "source": [
        "## Preprocessing for input into finBERT"
      ],
      "metadata": {
        "id": "rUCjeGOgbn5l"
      }
    },
    {
      "cell_type": "code",
      "source": [
        "current = \"ProsusAI/finbert\""
      ],
      "metadata": {
        "id": "2PicX7DqrUDe"
      },
      "execution_count": 57,
      "outputs": []
    },
    {
      "cell_type": "code",
      "source": [
        "tokenizer = AutoTokenizer.from_pretrained(current)\n",
        "max_len_raw, max_len_token_vector = get_max_tokenized_length(raw_train_ds['title'] + raw_test_ds['title'], tok=tokenizer)\n",
        "\n",
        "print(f'For AutoTokenzier associated with \"{current}\":')\n",
        "print('(Note this will potentially be different for each pretrained model)\\n')\n",
        "print(f'max_len_raw (longest headline)= {max_len_raw}')\n",
        "print(f'max_len_tokenized (longest tokenized headline)= {max_len_token_vector}')"
      ],
      "metadata": {
        "colab": {
          "base_uri": "https://localhost:8080/",
          "height": 236,
          "referenced_widgets": [
            "ec610a7a3f684eaf9e1270e66b8af2d0",
            "48c664ec96944478af01f1059c3e1c63",
            "fd0216a6ae234afaa1af73cdbae2b657",
            "694d7362ceb5440287d628d023ff7508",
            "54b51ef7ed4d4830aeee7bf77fd30e81",
            "dfc2460dedc14c358854061e7084329c",
            "4abb55c2d2b846acbd9a669ddaa9d47a",
            "99800ca07ea447119adc92f232635614",
            "43bd38026ed240a9ac344aff00602d42",
            "e9e7a1e9253140a8bb7aef87ea3863a4",
            "dc6a28f9902842bb9baf5965e3ca0b05",
            "a070e07996a1402eb8ddbd07dc378412",
            "99e35a992a84476392078d07fab79cc8",
            "bb7080bae54e406eb3fa94985d56e6c7",
            "392dd57ea41b41c58a8ee6bed473b320",
            "8e8ddd8fbd1d4f6a9c073ac72c35f26d",
            "e343d9340e3f4f48a77363e37ec6f8ec",
            "da151e0dd3744b6a858bf15165a3e6ea",
            "700fc127dedd48adb841a53960f5c371",
            "7d1cfbd53715458493218451291377e0",
            "13e989682eb0493ea8d062b6c42311ba",
            "faf3621942c244d28f9b9d21043f5021",
            "5ce953dd2e554850a2a0274dd395e375",
            "3cabdeb20f784aaf9e99be70b38edd62",
            "6815be04e3eb42f59e04822355d354fb",
            "e96dcaa8c34b40648578b6300d47c7ab",
            "7e66d9c12f9e47f5be0d1c1a06abbfc7",
            "0c4d424c88a94cdd91461a89c731cc4d",
            "d0c96ddc24d84040b02102f8b35a29d4",
            "3b7dc2d82d2d4bddb895c6243180634e",
            "df70c09f795e49ffa91045bc8a502a8f",
            "492902e60a89457baafdb7594012170f",
            "72b10b20b2f94c269de30cc6bbe21de0",
            "ee29b2de78604ce58d777de2b7611e94",
            "2b59df574e784ed6875a25688d472d0d",
            "96c9a95ccb0c44b2bb5ea989c18a2264",
            "4708af2888d643a0a942ef7dd6fa2b47",
            "1cfa4a7601d14a189528560c8d6a5202",
            "bdfbcf657f49406ea3c2b0d4bd012958",
            "c02c02f99634434e9030f6cb6a45eb8b",
            "df1a264bb12e4e5788daa76aa5ffbd9f",
            "5d4e479e78d6444eb37737d435eb2525",
            "09e8936ded1c4223b7d65711e2f5061f",
            "eef170c591c0478b86c538a5e1b43c95"
          ]
        },
        "outputId": "4f623740-13d0-4a52-d4d1-624bbe780754",
        "id": "EwYB-yEorUDf"
      },
      "execution_count": 58,
      "outputs": [
        {
          "output_type": "display_data",
          "data": {
            "text/plain": [
              "Downloading (…)okenizer_config.json:   0%|          | 0.00/252 [00:00<?, ?B/s]"
            ],
            "application/vnd.jupyter.widget-view+json": {
              "version_major": 2,
              "version_minor": 0,
              "model_id": "ec610a7a3f684eaf9e1270e66b8af2d0"
            }
          },
          "metadata": {}
        },
        {
          "output_type": "display_data",
          "data": {
            "text/plain": [
              "Downloading (…)lve/main/config.json:   0%|          | 0.00/758 [00:00<?, ?B/s]"
            ],
            "application/vnd.jupyter.widget-view+json": {
              "version_major": 2,
              "version_minor": 0,
              "model_id": "a070e07996a1402eb8ddbd07dc378412"
            }
          },
          "metadata": {}
        },
        {
          "output_type": "display_data",
          "data": {
            "text/plain": [
              "Downloading (…)solve/main/vocab.txt:   0%|          | 0.00/232k [00:00<?, ?B/s]"
            ],
            "application/vnd.jupyter.widget-view+json": {
              "version_major": 2,
              "version_minor": 0,
              "model_id": "5ce953dd2e554850a2a0274dd395e375"
            }
          },
          "metadata": {}
        },
        {
          "output_type": "display_data",
          "data": {
            "text/plain": [
              "Downloading (…)cial_tokens_map.json:   0%|          | 0.00/112 [00:00<?, ?B/s]"
            ],
            "application/vnd.jupyter.widget-view+json": {
              "version_major": 2,
              "version_minor": 0,
              "model_id": "ee29b2de78604ce58d777de2b7611e94"
            }
          },
          "metadata": {}
        },
        {
          "output_type": "stream",
          "name": "stdout",
          "text": [
            "For AutoTokenzier associated with \"ProsusAI/finbert\":\n",
            "(Note this will potentially be different for each pretrained model)\n",
            "\n",
            "max_len_raw (longest headline)= 18\n",
            "max_len_tokenized (longest tokenized headline)= 29\n"
          ]
        }
      ]
    },
    {
      "cell_type": "code",
      "source": [
        "tokenized_datasets, tf_train_dataset, tf_val_dataset, tf_test_dataset = create_tokenized_tf_datasets(untokenized_datasets_dict = raw_datasets, \n",
        "                                                                                                     tok = tokenizer, \n",
        "                                                                                                     max_len = max_len_token_vector)\n",
        "output.clear()"
      ],
      "metadata": {
        "id": "JWZx4oTkrUDf"
      },
      "execution_count": 59,
      "outputs": []
    },
    {
      "cell_type": "markdown",
      "source": [
        "## Fit and Evaluate finBERT"
      ],
      "metadata": {
        "id": "XTSo-TKCzbpj"
      }
    },
    {
      "cell_type": "code",
      "source": [
        "load_compile_fit_eval_model(current, tf_train_dataset, tf_val_dataset, tf_test_dataset)"
      ],
      "metadata": {
        "colab": {
          "base_uri": "https://localhost:8080/",
          "height": 739,
          "referenced_widgets": [
            "6b4c68df6e3644b981111dc925564fd2",
            "6d2b334a082445bf93d728747a410965",
            "a117e0c9226949c8b897d83ab22638ec",
            "593ea88f231340cc99427e6489e89f12",
            "df1cb7911aac4e668d5f98a1d14c6d98",
            "bb142438a6014abebaff49947e236a2a",
            "13f10ccc0d0040d485a4677388119125",
            "d3e6ef39db0b4f4e84bd2e3eb2d126c3",
            "e430eef6e55e4ceb9614bf2b3415c4eb",
            "a3194232713d4ea6a4a47f2b89d77964",
            "3e90d32f7cb34fc99a65d6dc138f0730"
          ]
        },
        "outputId": "cb258f8d-f6f5-4ec4-fbc2-5402093d0e8d",
        "id": "624DDr7BrUDg"
      },
      "execution_count": 60,
      "outputs": [
        {
          "output_type": "display_data",
          "data": {
            "text/plain": [
              "Downloading (…)\"tf_model.h5\";:   0%|          | 0.00/438M [00:00<?, ?B/s]"
            ],
            "application/vnd.jupyter.widget-view+json": {
              "version_major": 2,
              "version_minor": 0,
              "model_id": "6b4c68df6e3644b981111dc925564fd2"
            }
          },
          "metadata": {}
        },
        {
          "output_type": "stream",
          "name": "stderr",
          "text": [
            "All model checkpoint layers were used when initializing TFBertForSequenceClassification.\n",
            "\n",
            "Some layers of TFBertForSequenceClassification were not initialized from the model checkpoint at ProsusAI/finbert and are newly initialized: ['classifier']\n",
            "You should probably TRAIN this model on a down-stream task to be able to use it for predictions and inference.\n"
          ]
        },
        {
          "output_type": "stream",
          "name": "stdout",
          "text": [
            "Epoch 1/50\n",
            "229/229 [==============================] - 31s 68ms/step - loss: 0.1142 - cosine_proximity: 0.4398 - val_loss: 0.0574 - val_cosine_proximity: 0.6842\n",
            "Epoch 2/50\n",
            "229/229 [==============================] - 13s 56ms/step - loss: 0.0586 - cosine_proximity: 0.6499 - val_loss: 0.0587 - val_cosine_proximity: 0.7105\n",
            "Epoch 3/50\n",
            "229/229 [==============================] - 13s 58ms/step - loss: 0.0447 - cosine_proximity: 0.7243 - val_loss: 0.0499 - val_cosine_proximity: 0.7018\n",
            "Epoch 4/50\n",
            "229/229 [==============================] - 13s 57ms/step - loss: 0.0362 - cosine_proximity: 0.7637 - val_loss: 0.0520 - val_cosine_proximity: 0.7018\n",
            "Epoch 5/50\n",
            "229/229 [==============================] - 13s 56ms/step - loss: 0.0303 - cosine_proximity: 0.7921 - val_loss: 0.0568 - val_cosine_proximity: 0.6491\n",
            "Epoch 6/50\n",
            "229/229 [==============================] - 13s 57ms/step - loss: 0.0251 - cosine_proximity: 0.8053 - val_loss: 0.0570 - val_cosine_proximity: 0.7456\n",
            "Epoch 7/50\n",
            "229/229 [==============================] - 13s 56ms/step - loss: 0.0226 - cosine_proximity: 0.8249 - val_loss: 0.0519 - val_cosine_proximity: 0.7018\n",
            "Epoch 8/50\n",
            "229/229 [==============================] - 13s 56ms/step - loss: 0.0190 - cosine_proximity: 0.8337 - val_loss: 0.0483 - val_cosine_proximity: 0.7281\n",
            "Epoch 9/50\n",
            "229/229 [==============================] - 13s 56ms/step - loss: 0.0165 - cosine_proximity: 0.8600 - val_loss: 0.0517 - val_cosine_proximity: 0.7105\n",
            "Epoch 10/50\n",
            "229/229 [==============================] - 13s 56ms/step - loss: 0.0163 - cosine_proximity: 0.8600 - val_loss: 0.0471 - val_cosine_proximity: 0.7544\n",
            "Epoch 11/50\n",
            "229/229 [==============================] - 13s 56ms/step - loss: 0.0154 - cosine_proximity: 0.8556 - val_loss: 0.0516 - val_cosine_proximity: 0.7193\n",
            "Epoch 12/50\n",
            "229/229 [==============================] - 13s 56ms/step - loss: 0.0135 - cosine_proximity: 0.8643 - val_loss: 0.0486 - val_cosine_proximity: 0.7368\n",
            "Epoch 13/50\n",
            "229/229 [==============================] - 13s 56ms/step - loss: 0.0119 - cosine_proximity: 0.8862 - val_loss: 0.0484 - val_cosine_proximity: 0.7193\n",
            "Epoch 14/50\n",
            "229/229 [==============================] - 13s 57ms/step - loss: 0.0122 - cosine_proximity: 0.8775 - val_loss: 0.0540 - val_cosine_proximity: 0.6842\n",
            "Epoch 15/50\n",
            "229/229 [==============================] - 13s 56ms/step - loss: 0.0113 - cosine_proximity: 0.8972 - val_loss: 0.0500 - val_cosine_proximity: 0.7368\n",
            "Epoch 16/50\n",
            "229/229 [==============================] - 13s 56ms/step - loss: 0.0117 - cosine_proximity: 0.8818 - val_loss: 0.0517 - val_cosine_proximity: 0.7105\n",
            "123/123 [==============================] - 6s 24ms/step\n"
          ]
        },
        {
          "output_type": "execute_result",
          "data": {
            "text/plain": [
              "0.8069681525230408"
            ]
          },
          "metadata": {},
          "execution_count": 60
        }
      ]
    },
    {
      "cell_type": "markdown",
      "source": [
        "## Perform 10-Fold Cross Validation\n",
        "(as a proxy for test set - prior to receiving ground truth test set)"
      ],
      "metadata": {
        "id": "pSKe-qEIbn5l"
      }
    },
    {
      "cell_type": "code",
      "source": [
        "cv_raw_data_cosine_similarity_all_folds = tenfold_cross_val(raw_train_ds, checkpoint)\n",
        "cv_raw_data_cosine_similarity_avg = (sum(cv_raw_data_cosine_similarity_all_folds) / len(cv_raw_data_cosine_similarity_all_folds)) * 100"
      ],
      "metadata": {
        "id": "fkhDXCq5bn5n"
      },
      "execution_count": null,
      "outputs": []
    },
    {
      "cell_type": "code",
      "source": [
        "cv_raw_data_cosine_similarity_avg"
      ],
      "metadata": {
        "colab": {
          "base_uri": "https://localhost:8080/"
        },
        "outputId": "bf09fae7-579f-4bef-fedb-52ca3eeb00ab",
        "id": "y1IfAdYubn5o"
      },
      "execution_count": null,
      "outputs": [
        {
          "output_type": "execute_result",
          "data": {
            "text/plain": [
              "77.78641879558563"
            ]
          },
          "metadata": {},
          "execution_count": 15
        }
      ]
    },
    {
      "cell_type": "markdown",
      "source": [
        "# roBERTa\n",
        "roberta-base  \n",
        "Cross Validation cosine_similarity = 77.61  \n",
        "Competition Test Set cosine_similarity = 82.18"
      ],
      "metadata": {
        "id": "u6H8aqRIpDMw"
      }
    },
    {
      "cell_type": "markdown",
      "source": [
        "## Preprocessing for input into roBERTa"
      ],
      "metadata": {
        "id": "9yRLj7fKpHM4"
      }
    },
    {
      "cell_type": "code",
      "source": [
        "current = \"roberta-base\""
      ],
      "metadata": {
        "id": "X8cle69Rsewi"
      },
      "execution_count": 61,
      "outputs": []
    },
    {
      "cell_type": "code",
      "source": [
        "tokenizer = AutoTokenizer.from_pretrained(current)\n",
        "max_len_raw, max_len_token_vector = get_max_tokenized_length(raw_train_ds['title'] + raw_test_ds['title'], tok=tokenizer)\n",
        "\n",
        "print(f'For AutoTokenzier associated with \"{current}\":')\n",
        "print('(Note this will potentially be different for each pretrained model)\\n')\n",
        "print(f'max_len_raw (longest headline)= {max_len_raw}')\n",
        "print(f'max_len_tokenized (longest tokenized headline)= {max_len_token_vector}')"
      ],
      "metadata": {
        "colab": {
          "base_uri": "https://localhost:8080/"
        },
        "outputId": "7f8385ec-c249-47b1-b62b-e4094302c264",
        "id": "-x9y1Px6sewj"
      },
      "execution_count": 65,
      "outputs": [
        {
          "output_type": "stream",
          "name": "stdout",
          "text": [
            "For AutoTokenzier associated with \"roberta-base\":\n",
            "(Note this will potentially be different for each pretrained model)\n",
            "\n",
            "max_len_raw (longest headline)= 18\n",
            "max_len_tokenized (longest tokenized headline)= 32\n"
          ]
        }
      ]
    },
    {
      "cell_type": "code",
      "source": [
        "tokenized_datasets, tf_train_dataset, tf_val_dataset, tf_test_dataset = create_tokenized_tf_datasets(untokenized_datasets_dict = raw_datasets, \n",
        "                                                                                                     tok = tokenizer, \n",
        "                                                                                                     max_len = max_len_token_vector)\n",
        "output.clear()"
      ],
      "metadata": {
        "id": "1yRBdc5Hsewj"
      },
      "execution_count": 66,
      "outputs": []
    },
    {
      "cell_type": "markdown",
      "source": [
        "## Fit and Evaluate RoBERTa"
      ],
      "metadata": {
        "id": "ytSHkaB6zem_"
      }
    },
    {
      "cell_type": "code",
      "source": [
        "load_compile_fit_eval_model(current, tf_train_dataset, tf_val_dataset, tf_test_dataset)"
      ],
      "metadata": {
        "colab": {
          "base_uri": "https://localhost:8080/",
          "height": 485,
          "referenced_widgets": [
            "8e61a6708a4749778d39945c215b2911",
            "93cd1ddef46046739de54a1e8e11246b",
            "897b2574f97f4a5b9ebbb62f1efd6673",
            "616e234521aa44aeb0aee2d5d5ef6b28",
            "ecb52c2c422a4c15b0239d69caceed1c",
            "e26ab1bc3f924401ae9c2cc48e0652fb",
            "c1d3e202fdc545c781cabb6a623bd6d9",
            "6a367c9623a648dbb0ebc87edcd5c45b",
            "a7821edb09d54d0394959b043577d43d",
            "2b816a8f28a74748be9395a03072bece",
            "3931d79319c24a1198dbcd8406bbc09a"
          ]
        },
        "outputId": "01772239-550e-4079-bb0d-6efb42226ebd",
        "id": "yyPV44BDsewk"
      },
      "execution_count": 67,
      "outputs": [
        {
          "output_type": "display_data",
          "data": {
            "text/plain": [
              "Downloading (…)\"tf_model.h5\";:   0%|          | 0.00/657M [00:00<?, ?B/s]"
            ],
            "application/vnd.jupyter.widget-view+json": {
              "version_major": 2,
              "version_minor": 0,
              "model_id": "8e61a6708a4749778d39945c215b2911"
            }
          },
          "metadata": {}
        },
        {
          "output_type": "stream",
          "name": "stderr",
          "text": [
            "All model checkpoint layers were used when initializing TFRobertaForSequenceClassification.\n",
            "\n",
            "Some layers of TFRobertaForSequenceClassification were not initialized from the model checkpoint at roberta-base and are newly initialized: ['classifier']\n",
            "You should probably TRAIN this model on a down-stream task to be able to use it for predictions and inference.\n"
          ]
        },
        {
          "output_type": "stream",
          "name": "stdout",
          "text": [
            "Epoch 1/50\n",
            "229/229 [==============================] - 33s 71ms/step - loss: 0.1448 - cosine_proximity: 0.2670 - val_loss: 0.0745 - val_cosine_proximity: 0.7281\n",
            "Epoch 2/50\n",
            "229/229 [==============================] - 14s 59ms/step - loss: 0.0824 - cosine_proximity: 0.6302 - val_loss: 0.0497 - val_cosine_proximity: 0.7105\n",
            "Epoch 3/50\n",
            "229/229 [==============================] - 13s 59ms/step - loss: 0.0520 - cosine_proximity: 0.7462 - val_loss: 0.0416 - val_cosine_proximity: 0.7456\n",
            "Epoch 4/50\n",
            "229/229 [==============================] - 14s 59ms/step - loss: 0.0396 - cosine_proximity: 0.7834 - val_loss: 0.0416 - val_cosine_proximity: 0.7281\n",
            "Epoch 5/50\n",
            "229/229 [==============================] - 14s 60ms/step - loss: 0.0330 - cosine_proximity: 0.7987 - val_loss: 0.0472 - val_cosine_proximity: 0.7632\n",
            "Epoch 6/50\n",
            "229/229 [==============================] - 14s 59ms/step - loss: 0.0299 - cosine_proximity: 0.8249 - val_loss: 0.0601 - val_cosine_proximity: 0.7368\n",
            "Epoch 7/50\n",
            "229/229 [==============================] - 14s 59ms/step - loss: 0.0294 - cosine_proximity: 0.8009 - val_loss: 0.0435 - val_cosine_proximity: 0.7368\n",
            "Epoch 8/50\n",
            "229/229 [==============================] - 14s 59ms/step - loss: 0.0266 - cosine_proximity: 0.8534 - val_loss: 0.0466 - val_cosine_proximity: 0.7368\n",
            "Epoch 9/50\n",
            "229/229 [==============================] - 14s 59ms/step - loss: 0.0217 - cosine_proximity: 0.8578 - val_loss: 0.0450 - val_cosine_proximity: 0.7193\n",
            "123/123 [==============================] - 6s 25ms/step\n"
          ]
        },
        {
          "output_type": "execute_result",
          "data": {
            "text/plain": [
              "0.8218125104904175"
            ]
          },
          "metadata": {},
          "execution_count": 67
        }
      ]
    },
    {
      "cell_type": "markdown",
      "source": [
        "## Perform 10-Fold Cross Validation\n",
        "(as a proxy for test set - prior to receiving ground truth test set)"
      ],
      "metadata": {
        "id": "lOeBrBigpHM6"
      }
    },
    {
      "cell_type": "code",
      "source": [
        "cv_raw_data_cosine_similarity_all_folds = tenfold_cross_val(raw_train_ds, checkpoint)\n",
        "cv_raw_data_cosine_similarity_avg = (sum(cv_raw_data_cosine_similarity_all_folds) / len(cv_raw_data_cosine_similarity_all_folds)) * 100"
      ],
      "metadata": {
        "id": "MpyCFIlSpHM7"
      },
      "execution_count": null,
      "outputs": []
    },
    {
      "cell_type": "code",
      "source": [
        "cv_raw_data_cosine_similarity_avg"
      ],
      "metadata": {
        "colab": {
          "base_uri": "https://localhost:8080/"
        },
        "id": "2ouaFancpHM7",
        "outputId": "c514a5c9-acf9-4402-b50a-6dbe763cefc8"
      },
      "execution_count": null,
      "outputs": [
        {
          "output_type": "execute_result",
          "data": {
            "text/plain": [
              "77.60886251926422"
            ]
          },
          "metadata": {},
          "execution_count": 24
        }
      ]
    },
    {
      "cell_type": "markdown",
      "source": [
        "# DeBERTa\n",
        "deberta-v3  \n",
        "Cross Validation cosine_similarity = 80.45  \n",
        "Competition Test Set cosine_similarity = 84.20"
      ],
      "metadata": {
        "id": "HSBzEFpJCwab"
      }
    },
    {
      "cell_type": "markdown",
      "source": [
        "## Imports"
      ],
      "metadata": {
        "id": "Ak1thg-iDgzo"
      }
    },
    {
      "cell_type": "code",
      "source": [
        "!pip uninstall transformers\n",
        "!pip uninstall sentencepiece"
      ],
      "metadata": {
        "colab": {
          "base_uri": "https://localhost:8080/"
        },
        "id": "eN68qjJMrO_z",
        "outputId": "c83c47e0-153c-4b2b-bafc-cacf86a1ba16"
      },
      "execution_count": 68,
      "outputs": [
        {
          "output_type": "stream",
          "name": "stdout",
          "text": [
            "Found existing installation: transformers 4.26.0\n",
            "Uninstalling transformers-4.26.0:\n",
            "  Would remove:\n",
            "    /usr/local/bin/transformers-cli\n",
            "    /usr/local/lib/python3.8/dist-packages/transformers-4.26.0.dist-info/*\n",
            "    /usr/local/lib/python3.8/dist-packages/transformers/*\n",
            "Proceed (Y/n)? Y\n",
            "  Successfully uninstalled transformers-4.26.0\n",
            "\u001b[33mWARNING: Skipping sentencepiece as it is not installed.\u001b[0m\u001b[33m\n",
            "\u001b[0m"
          ]
        }
      ]
    },
    {
      "cell_type": "code",
      "source": [
        "!pip install transformers[sentencepiece]"
      ],
      "metadata": {
        "colab": {
          "base_uri": "https://localhost:8080/"
        },
        "id": "dGjWqxpGrDiy",
        "outputId": "44fa8d2d-6a0a-4efa-da88-2a3b55cd82e5"
      },
      "execution_count": 17,
      "outputs": [
        {
          "output_type": "stream",
          "name": "stdout",
          "text": [
            "Looking in indexes: https://pypi.org/simple, https://us-python.pkg.dev/colab-wheels/public/simple/\n",
            "Requirement already satisfied: transformers[sentencepiece] in /usr/local/lib/python3.8/dist-packages (4.26.0)\n",
            "Requirement already satisfied: numpy>=1.17 in /usr/local/lib/python3.8/dist-packages (from transformers[sentencepiece]) (1.21.6)\n",
            "Requirement already satisfied: packaging>=20.0 in /usr/local/lib/python3.8/dist-packages (from transformers[sentencepiece]) (23.0)\n",
            "Requirement already satisfied: regex!=2019.12.17 in /usr/local/lib/python3.8/dist-packages (from transformers[sentencepiece]) (2022.6.2)\n",
            "Requirement already satisfied: tokenizers!=0.11.3,<0.14,>=0.11.1 in /usr/local/lib/python3.8/dist-packages (from transformers[sentencepiece]) (0.13.2)\n",
            "Requirement already satisfied: filelock in /usr/local/lib/python3.8/dist-packages (from transformers[sentencepiece]) (3.9.0)\n",
            "Requirement already satisfied: tqdm>=4.27 in /usr/local/lib/python3.8/dist-packages (from transformers[sentencepiece]) (4.64.1)\n",
            "Requirement already satisfied: huggingface-hub<1.0,>=0.11.0 in /usr/local/lib/python3.8/dist-packages (from transformers[sentencepiece]) (0.12.0)\n",
            "Requirement already satisfied: requests in /usr/local/lib/python3.8/dist-packages (from transformers[sentencepiece]) (2.25.1)\n",
            "Requirement already satisfied: pyyaml>=5.1 in /usr/local/lib/python3.8/dist-packages (from transformers[sentencepiece]) (6.0)\n",
            "Requirement already satisfied: protobuf<=3.20.2 in /usr/local/lib/python3.8/dist-packages (from transformers[sentencepiece]) (3.19.6)\n",
            "Requirement already satisfied: sentencepiece!=0.1.92,>=0.1.91 in /usr/local/lib/python3.8/dist-packages (from transformers[sentencepiece]) (0.1.97)\n",
            "Requirement already satisfied: typing-extensions>=3.7.4.3 in /usr/local/lib/python3.8/dist-packages (from huggingface-hub<1.0,>=0.11.0->transformers[sentencepiece]) (4.4.0)\n",
            "Requirement already satisfied: certifi>=2017.4.17 in /usr/local/lib/python3.8/dist-packages (from requests->transformers[sentencepiece]) (2022.12.7)\n",
            "Requirement already satisfied: idna<3,>=2.5 in /usr/local/lib/python3.8/dist-packages (from requests->transformers[sentencepiece]) (2.10)\n",
            "Requirement already satisfied: urllib3<1.27,>=1.21.1 in /usr/local/lib/python3.8/dist-packages (from requests->transformers[sentencepiece]) (1.26.14)\n",
            "Requirement already satisfied: chardet<5,>=3.0.2 in /usr/local/lib/python3.8/dist-packages (from requests->transformers[sentencepiece]) (4.0.0)\n"
          ]
        }
      ]
    },
    {
      "cell_type": "markdown",
      "source": [
        "## Preprocessing for input into DeBERTa"
      ],
      "metadata": {
        "id": "Xlzk8G9tNI2c"
      }
    },
    {
      "cell_type": "code",
      "source": [
        "current = \"microsoft/deberta-v3-base\""
      ],
      "metadata": {
        "id": "LR_BI9qLu-HO"
      },
      "execution_count": 21,
      "outputs": []
    },
    {
      "cell_type": "code",
      "source": [
        "tokenizer = AutoTokenizer.from_pretrained(current)\n",
        "max_len_raw, max_len_token_vector = get_max_tokenized_length(raw_train_ds['title'] + raw_test_ds['title'], tok=tokenizer)\n",
        "\n",
        "print(f'For AutoTokenzier associated with \"{current}\":')\n",
        "print('(Note this will potentially be different for each pretrained model)\\n')\n",
        "print(f'max_len_raw (longest headline)= {max_len_raw}')\n",
        "print(f'max_len_tokenized (longest tokenized headline)= {max_len_token_vector}')"
      ],
      "metadata": {
        "colab": {
          "base_uri": "https://localhost:8080/",
          "height": 240,
          "referenced_widgets": [
            "463b765e84464d5a9020ab71ecb96097",
            "b6fd4de6f3b94f8e845dbae051ed5f02",
            "815ef249da8c4a5ca3eaca07c92c2cf0",
            "4867192222c34a9c9787f19a0e3df8d6",
            "f0de8547a91748b39210e0e4f40bcf9a",
            "15719175960149509083227d15583cc0",
            "782081b84bd84983a4768a95c688139c",
            "0b46ec7e68fe4e40b39009421ba49f75",
            "05907fbf80934a9e843df1b36dae1039",
            "b4b0cd1342bb4c769de23e24baa07dd4",
            "d49f228c201948d1a72a55e772e3f1de",
            "83155f87fb7843b2b326acb7ec1d3943",
            "8d3a4b3ebc804fbea5ea2119a521b8d9",
            "7acab6d689874fca94472ac2e61db8af",
            "54c955107a6f400fb799b4aac86ddc31",
            "59287a53a0a34df7ae84901e57c8c2ca",
            "3dad9343bfc44e138c0b45be397801df",
            "ca040fa4e84a4c9090f2bb5128e34f4c",
            "8b761ee415bf4c84bdca1b73cad3e520",
            "a744f8071f6c4e3b98dc8a4c8863c38e",
            "b4af8b42c7c64cc8a742d2ffda07c442",
            "e989e8ccc18f4dd5be019fde55d17db2",
            "2c8de8aa4f1944e78813025af6a03ff3",
            "2f68e2a1bd9c4ba787fe6585a545a325",
            "894ccf89d8ce4776bb75d99ddb0dcbc3",
            "d76fa5041bbf45698ba6bd7c671eec09",
            "9dc642510ee9474593e2785102ca7fe4",
            "a257a1a53706421ba90c277d6b0b0a2e",
            "3f0f619fa54148a3a61945358e8ccad4",
            "fed8c9a4d08c4667a92c3ce0a616bbd1",
            "ed66b5c7640a4066974dc5afc54bb5c5",
            "e063b754f5af4638bcd709282ab6648e",
            "18c5dfcf33b44da5a58fc46a981afdde"
          ]
        },
        "outputId": "62750501-01b3-4312-cb29-44c6ddc2a085",
        "id": "PBUyly9gu-HP"
      },
      "execution_count": 22,
      "outputs": [
        {
          "output_type": "display_data",
          "data": {
            "text/plain": [
              "Downloading (…)okenizer_config.json:   0%|          | 0.00/52.0 [00:00<?, ?B/s]"
            ],
            "application/vnd.jupyter.widget-view+json": {
              "version_major": 2,
              "version_minor": 0,
              "model_id": "463b765e84464d5a9020ab71ecb96097"
            }
          },
          "metadata": {}
        },
        {
          "output_type": "display_data",
          "data": {
            "text/plain": [
              "Downloading (…)lve/main/config.json:   0%|          | 0.00/579 [00:00<?, ?B/s]"
            ],
            "application/vnd.jupyter.widget-view+json": {
              "version_major": 2,
              "version_minor": 0,
              "model_id": "83155f87fb7843b2b326acb7ec1d3943"
            }
          },
          "metadata": {}
        },
        {
          "output_type": "display_data",
          "data": {
            "text/plain": [
              "Downloading (…)\"spm.model\";:   0%|          | 0.00/2.46M [00:00<?, ?B/s]"
            ],
            "application/vnd.jupyter.widget-view+json": {
              "version_major": 2,
              "version_minor": 0,
              "model_id": "2c8de8aa4f1944e78813025af6a03ff3"
            }
          },
          "metadata": {}
        },
        {
          "output_type": "stream",
          "name": "stderr",
          "text": [
            "Special tokens have been added in the vocabulary, make sure the associated word embeddings are fine-tuned or trained.\n",
            "Special tokens have been added in the vocabulary, make sure the associated word embeddings are fine-tuned or trained.\n"
          ]
        },
        {
          "output_type": "stream",
          "name": "stdout",
          "text": [
            "For AutoTokenzier associated with \"microsoft/deberta-v3-base\":\n",
            "(Note this will potentially be different for each pretrained model)\n",
            "\n",
            "max_len_raw (longest headline)= 18\n",
            "max_len_tokenized (longest tokenized headline)= 28\n"
          ]
        }
      ]
    },
    {
      "cell_type": "code",
      "source": [
        "tokenized_datasets, tf_train_dataset, tf_val_dataset, tf_test_dataset = create_tokenized_tf_datasets(untokenized_datasets_dict = raw_datasets, \n",
        "                                                                                                     tok = tokenizer, \n",
        "                                                                                                     max_len = max_len_token_vector)"
      ],
      "metadata": {
        "colab": {
          "base_uri": "https://localhost:8080/",
          "height": 113,
          "referenced_widgets": [
            "e64533bb9c90434db8ae74e0cc53ee35",
            "0c38266a0e2a47179dc9d6faefd2c82a",
            "32a6ba5f57414463be4d3f441d06386c",
            "7f8511b8aee54583b341dd463f3af5ab",
            "8b00b61d9cdc4e2a82de0f61a73ae5e3",
            "822b15c524b747f3b718b3ceeb799024",
            "4476e0184eef406a9286613d8793dd7b",
            "da7042a07879436ba6521995701b4599",
            "3ae9c6374f0d4e08857ee6fcc92d5aed",
            "12e21652033a4f2f8ab951e67cda18b4",
            "6a7ec742ce104f12af3095d36877eeb9",
            "f669adbc48284ef587791803b6da42ef",
            "de35c5ea635f4625be25c010542ea8de",
            "285ea3b3c9b3485da86e85c5a5120ab3",
            "1a1843e231354f6db8f7f0822d83fc92",
            "af82457c1b2541cb8675abd372c25a39",
            "819cd5ae5b36443ab0d3ddbc8ca550f3",
            "be6d616d0b7a40e8a8f395deb71ce9ac",
            "291fb75eae7d4f0ba3bfef08bc6f2ad8",
            "6df13dfa7c6c4d359d7dfd5db0f702d0",
            "38bf45bd9914427bafe298e1f09c8770",
            "d140c6ee494c47f3b5316cc3f3bfbf1d",
            "895ab3f437334b368a613a4e6b3c09a1",
            "b594b26cabc444fda5699a8518ac550d",
            "fac79debc65944ff88d7bbc1ec9482ae",
            "bf5b465627774c128872fa379213539a",
            "457e179791f74290bf33b63352df2b56",
            "32a264a931314c049cd9580dbf311f2a",
            "ad95ee073d1a432398a512956652afa5",
            "ed8fdcb0e1ef40399c89f9abb5e1b360",
            "45d38c0faaad417a83abe4304b393da9",
            "749aafb3e7554f0e9ee65db56cd55322",
            "f1d23062aff242848cd2ec9b4876a3ed"
          ]
        },
        "id": "jHU41xoDu-HQ",
        "outputId": "a065a697-3412-4d62-d22b-63278c1baae8"
      },
      "execution_count": 24,
      "outputs": [
        {
          "output_type": "display_data",
          "data": {
            "text/plain": [
              "  0%|          | 0/914 [00:00<?, ?ex/s]"
            ],
            "application/vnd.jupyter.widget-view+json": {
              "version_major": 2,
              "version_minor": 0,
              "model_id": "e64533bb9c90434db8ae74e0cc53ee35"
            }
          },
          "metadata": {}
        },
        {
          "output_type": "display_data",
          "data": {
            "text/plain": [
              "  0%|          | 0/228 [00:00<?, ?ex/s]"
            ],
            "application/vnd.jupyter.widget-view+json": {
              "version_major": 2,
              "version_minor": 0,
              "model_id": "f669adbc48284ef587791803b6da42ef"
            }
          },
          "metadata": {}
        },
        {
          "output_type": "display_data",
          "data": {
            "text/plain": [
              "  0%|          | 0/491 [00:00<?, ?ex/s]"
            ],
            "application/vnd.jupyter.widget-view+json": {
              "version_major": 2,
              "version_minor": 0,
              "model_id": "895ab3f437334b368a613a4e6b3c09a1"
            }
          },
          "metadata": {}
        }
      ]
    },
    {
      "cell_type": "markdown",
      "source": [
        "## Fit and Evaluate DeBERTa"
      ],
      "metadata": {
        "id": "eJlbTezzziTb"
      }
    },
    {
      "cell_type": "code",
      "source": [
        "load_compile_fit_eval_model(current, tf_train_dataset, tf_val_dataset, tf_test_dataset)"
      ],
      "metadata": {
        "colab": {
          "base_uri": "https://localhost:8080/",
          "height": 595,
          "referenced_widgets": [
            "55bf387d9a464ae0a46d6ce17f14e356",
            "f53a8f8e0c6a4f01a61c3de583535f86",
            "6966995d6fd24683b28486095357d34c",
            "72063bf97c8042d4ac6a158ebb208f3c",
            "78a3dfac4eb44f75b0bd485146cbd471",
            "a79d648dff4445da8cb8d5d3d2a207bd",
            "b9c969118b1e45d48ef3fdf6d2957cb1",
            "2478341eef1e44948b7dbe7c3caf9266",
            "f6fd723167c344c8a7fa23852301d5c1",
            "78b5c1f2a51f411b810f9376e6ae6bc6",
            "fb7f3e26ce6a4c6fb6f3ab68319eaba2"
          ]
        },
        "outputId": "adad45ca-36fc-4d43-91f0-2a7ba3a09409",
        "id": "m_4Scg9Mu-HQ"
      },
      "execution_count": 27,
      "outputs": [
        {
          "output_type": "display_data",
          "data": {
            "text/plain": [
              "Downloading (…)\"pytorch_model.bin\";:   0%|          | 0.00/371M [00:00<?, ?B/s]"
            ],
            "application/vnd.jupyter.widget-view+json": {
              "version_major": 2,
              "version_minor": 0,
              "model_id": "55bf387d9a464ae0a46d6ce17f14e356"
            }
          },
          "metadata": {}
        },
        {
          "output_type": "stream",
          "name": "stderr",
          "text": [
            "Some weights of the PyTorch model were not used when initializing the TF 2.0 model TFDebertaV2ForSequenceClassification: ['mask_predictions.classifier.weight', 'lm_predictions.lm_head.dense.bias', 'mask_predictions.dense.bias', 'deberta.embeddings.position_embeddings.weight', 'lm_predictions.lm_head.LayerNorm.bias', 'mask_predictions.LayerNorm.bias', 'lm_predictions.lm_head.LayerNorm.weight', 'lm_predictions.lm_head.bias', 'mask_predictions.LayerNorm.weight', 'lm_predictions.lm_head.dense.weight', 'mask_predictions.classifier.bias', 'mask_predictions.dense.weight']\n",
            "- This IS expected if you are initializing TFDebertaV2ForSequenceClassification from a PyTorch model trained on another task or with another architecture (e.g. initializing a TFBertForSequenceClassification model from a BertForPreTraining model).\n",
            "- This IS NOT expected if you are initializing TFDebertaV2ForSequenceClassification from a PyTorch model that you expect to be exactly identical (e.g. initializing a TFBertForSequenceClassification model from a BertForSequenceClassification model).\n",
            "Some weights or buffers of the TF 2.0 model TFDebertaV2ForSequenceClassification were not initialized from the PyTorch model and are newly initialized: ['pooler.dense.weight', 'pooler.dense.bias', 'classifier.weight', 'classifier.bias']\n",
            "You should probably TRAIN this model on a down-stream task to be able to use it for predictions and inference.\n"
          ]
        },
        {
          "output_type": "stream",
          "name": "stdout",
          "text": [
            "Epoch 1/50\n"
          ]
        },
        {
          "output_type": "stream",
          "name": "stderr",
          "text": [
            "WARNING:tensorflow:From /usr/local/lib/python3.8/dist-packages/transformers/models/deberta_v2/modeling_tf_deberta_v2.py:124: Bernoulli.__init__ (from tensorflow.python.ops.distributions.bernoulli) is deprecated and will be removed after 2019-01-01.\n",
            "Instructions for updating:\n",
            "The TensorFlow Distributions library has moved to TensorFlow Probability (https://github.com/tensorflow/probability). You should update all references to use `tfp.distributions` instead of `tf.distributions`.\n",
            "WARNING:tensorflow:From /usr/local/lib/python3.8/dist-packages/tensorflow/python/ops/distributions/bernoulli.py:86: Distribution.__init__ (from tensorflow.python.ops.distributions.distribution) is deprecated and will be removed after 2019-01-01.\n",
            "Instructions for updating:\n",
            "The TensorFlow Distributions library has moved to TensorFlow Probability (https://github.com/tensorflow/probability). You should update all references to use `tfp.distributions` instead of `tf.distributions`.\n"
          ]
        },
        {
          "output_type": "stream",
          "name": "stdout",
          "text": [
            "229/229 [==============================] - 67s 142ms/step - loss: 0.1158 - cosine_proximity: 0.3895 - val_loss: 0.0700 - val_cosine_proximity: 0.6404\n",
            "Epoch 2/50\n",
            "229/229 [==============================] - 27s 118ms/step - loss: 0.0543 - cosine_proximity: 0.7221 - val_loss: 0.0524 - val_cosine_proximity: 0.7368\n",
            "Epoch 3/50\n",
            "229/229 [==============================] - 27s 117ms/step - loss: 0.0399 - cosine_proximity: 0.7724 - val_loss: 0.0525 - val_cosine_proximity: 0.7632\n",
            "Epoch 4/50\n",
            "229/229 [==============================] - 27s 117ms/step - loss: 0.0295 - cosine_proximity: 0.8315 - val_loss: 0.0625 - val_cosine_proximity: 0.7193\n",
            "Epoch 5/50\n",
            "229/229 [==============================] - 27s 117ms/step - loss: 0.0230 - cosine_proximity: 0.8249 - val_loss: 0.0777 - val_cosine_proximity: 0.6754\n",
            "Epoch 6/50\n",
            "229/229 [==============================] - 27s 117ms/step - loss: 0.0232 - cosine_proximity: 0.8337 - val_loss: 0.0604 - val_cosine_proximity: 0.6404\n",
            "Epoch 7/50\n",
            "229/229 [==============================] - 27s 117ms/step - loss: 0.0216 - cosine_proximity: 0.8381 - val_loss: 0.0660 - val_cosine_proximity: 0.7368\n",
            "Epoch 8/50\n",
            "229/229 [==============================] - 27s 117ms/step - loss: 0.0165 - cosine_proximity: 0.8425 - val_loss: 0.0603 - val_cosine_proximity: 0.7193\n",
            "123/123 [==============================] - 9s 29ms/step\n"
          ]
        },
        {
          "output_type": "execute_result",
          "data": {
            "text/plain": [
              "0.8420573472976685"
            ]
          },
          "metadata": {},
          "execution_count": 27
        }
      ]
    },
    {
      "cell_type": "markdown",
      "source": [
        "## Perform 10-Fold Cross Validation\n",
        "(as a proxy for test set - prior to receiving ground truth test set)"
      ],
      "metadata": {
        "id": "JMcFdzwDC9MN"
      }
    },
    {
      "cell_type": "code",
      "source": [
        "cv_raw_data_cosine_similarity_all_folds = tenfold_cross_val(raw_train_ds, checkpoint)\n",
        "cv_raw_data_cosine_similarity_avg = (sum(cv_raw_data_cosine_similarity_all_folds) / len(cv_raw_data_cosine_similarity_all_folds)) * 100"
      ],
      "metadata": {
        "id": "E3eqTT7oCiVo"
      },
      "execution_count": null,
      "outputs": []
    },
    {
      "cell_type": "code",
      "source": [
        "cv_raw_data_cosine_similarity_avg"
      ],
      "metadata": {
        "colab": {
          "base_uri": "https://localhost:8080/"
        },
        "outputId": "e1499bf9-88f9-41cc-bd87-c0410a2b779c",
        "id": "azBRfQ0BCiVp"
      },
      "execution_count": null,
      "outputs": [
        {
          "output_type": "execute_result",
          "data": {
            "text/plain": [
              "80.44909358024597"
            ]
          },
          "metadata": {},
          "execution_count": 14
        }
      ]
    },
    {
      "cell_type": "markdown",
      "source": [
        "# One-Time Validation Set Creation Step"
      ],
      "metadata": {
        "id": "z4exsw5yyBJg"
      }
    },
    {
      "cell_type": "code",
      "source": [
        "import random\n",
        "\n",
        "# Load the original .json file\n",
        "with open(\"data/finance/Headline_Trainingdata.json\", \"r\") as file:\n",
        "    original_data = json.load(file)\n",
        "\n",
        "# Select 228 random entries\n",
        "selected_entries = random.sample(original_data, 228)\n",
        "\n",
        "# Remove the selected entries from the original data\n",
        "for entry in selected_entries:\n",
        "    original_data.remove(entry)\n",
        "\n",
        "# Save the remaining entries in the original file\n",
        "with open(\"data/finance/Headline_Trainingdata.json\", \"w\") as file:\n",
        "    json.dump(original_data, file)\n",
        "\n",
        "# Save the selected entries to a new .json file\n",
        "with open(\"data/finance/Headline_Validationdata.json\", \"w\") as file:\n",
        "    json.dump(selected_entries, file)"
      ],
      "metadata": {
        "id": "SOrdrmLEyH5d"
      },
      "execution_count": null,
      "outputs": []
    }
  ]
}